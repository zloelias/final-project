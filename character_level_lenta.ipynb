{
  "nbformat": 4,
  "nbformat_minor": 0,
  "metadata": {
    "accelerator": "GPU",
    "colab": {
      "name": "character_level_lenta.ipynb",
      "provenance": [],
      "collapsed_sections": [],
      "machine_shape": "hm",
      "background_execution": "on",
      "include_colab_link": true
    },
    "kernelspec": {
      "display_name": "Python 3 (ipykernel)",
      "language": "python",
      "name": "python3"
    },
    "language_info": {
      "codemirror_mode": {
        "name": "ipython",
        "version": 3
      },
      "file_extension": ".py",
      "mimetype": "text/x-python",
      "name": "python",
      "nbconvert_exporter": "python",
      "pygments_lexer": "ipython3",
      "version": "3.7.9"
    },
    "widgets": {
      "application/vnd.jupyter.widget-state+json": {
        "ca42ca714a47439999c338033a6db3a0": {
          "model_module": "@jupyter-widgets/controls",
          "model_name": "HBoxModel",
          "model_module_version": "1.5.0",
          "state": {
            "_view_name": "HBoxView",
            "_dom_classes": [],
            "_model_name": "HBoxModel",
            "_view_module": "@jupyter-widgets/controls",
            "_model_module_version": "1.5.0",
            "_view_count": null,
            "_view_module_version": "1.5.0",
            "box_style": "",
            "layout": "IPY_MODEL_6906113915e44ad6bb66c635f36ed35e",
            "_model_module": "@jupyter-widgets/controls",
            "children": [
              "IPY_MODEL_4179649d03d645febf2a008651240631",
              "IPY_MODEL_c5f9d8e6ceb04079a2dbd9f757f71b84",
              "IPY_MODEL_66be25d189084b82b1245b890490b50a"
            ]
          }
        },
        "6906113915e44ad6bb66c635f36ed35e": {
          "model_module": "@jupyter-widgets/base",
          "model_name": "LayoutModel",
          "model_module_version": "1.2.0",
          "state": {
            "_view_name": "LayoutView",
            "grid_template_rows": null,
            "right": null,
            "justify_content": null,
            "_view_module": "@jupyter-widgets/base",
            "overflow": null,
            "_model_module_version": "1.2.0",
            "_view_count": null,
            "flex_flow": null,
            "width": null,
            "min_width": null,
            "border": null,
            "align_items": null,
            "bottom": null,
            "_model_module": "@jupyter-widgets/base",
            "top": null,
            "grid_column": null,
            "overflow_y": null,
            "overflow_x": null,
            "grid_auto_flow": null,
            "grid_area": null,
            "grid_template_columns": null,
            "flex": null,
            "_model_name": "LayoutModel",
            "justify_items": null,
            "grid_row": null,
            "max_height": null,
            "align_content": null,
            "visibility": null,
            "align_self": null,
            "height": null,
            "min_height": null,
            "padding": null,
            "grid_auto_rows": null,
            "grid_gap": null,
            "max_width": null,
            "order": null,
            "_view_module_version": "1.2.0",
            "grid_template_areas": null,
            "object_position": null,
            "object_fit": null,
            "grid_auto_columns": null,
            "margin": null,
            "display": null,
            "left": null
          }
        },
        "4179649d03d645febf2a008651240631": {
          "model_module": "@jupyter-widgets/controls",
          "model_name": "HTMLModel",
          "model_module_version": "1.5.0",
          "state": {
            "_view_name": "HTMLView",
            "style": "IPY_MODEL_d9f31639e7f541aab7950a951e6d3e98",
            "_dom_classes": [],
            "description": "",
            "_model_name": "HTMLModel",
            "placeholder": "​",
            "_view_module": "@jupyter-widgets/controls",
            "_model_module_version": "1.5.0",
            "value": "100%",
            "_view_count": null,
            "_view_module_version": "1.5.0",
            "description_tooltip": null,
            "_model_module": "@jupyter-widgets/controls",
            "layout": "IPY_MODEL_88398ec04cfd46efb41fd90dc25d5133"
          }
        },
        "c5f9d8e6ceb04079a2dbd9f757f71b84": {
          "model_module": "@jupyter-widgets/controls",
          "model_name": "FloatProgressModel",
          "model_module_version": "1.5.0",
          "state": {
            "_view_name": "ProgressView",
            "style": "IPY_MODEL_e0c430c158e545c6b1c95bcceab81108",
            "_dom_classes": [],
            "description": "",
            "_model_name": "FloatProgressModel",
            "bar_style": "success",
            "max": 2,
            "_view_module": "@jupyter-widgets/controls",
            "_model_module_version": "1.5.0",
            "value": 2,
            "_view_count": null,
            "_view_module_version": "1.5.0",
            "orientation": "horizontal",
            "min": 0,
            "description_tooltip": null,
            "_model_module": "@jupyter-widgets/controls",
            "layout": "IPY_MODEL_ee43a034d7ff4154bd321a2308d39144"
          }
        },
        "66be25d189084b82b1245b890490b50a": {
          "model_module": "@jupyter-widgets/controls",
          "model_name": "HTMLModel",
          "model_module_version": "1.5.0",
          "state": {
            "_view_name": "HTMLView",
            "style": "IPY_MODEL_ebf965931391457fb8343d268b2ba980",
            "_dom_classes": [],
            "description": "",
            "_model_name": "HTMLModel",
            "placeholder": "​",
            "_view_module": "@jupyter-widgets/controls",
            "_model_module_version": "1.5.0",
            "value": " 2/2 [00:00&lt;00:00, 53.05it/s]",
            "_view_count": null,
            "_view_module_version": "1.5.0",
            "description_tooltip": null,
            "_model_module": "@jupyter-widgets/controls",
            "layout": "IPY_MODEL_e2828105ae9040acb13a0fa97567faf0"
          }
        },
        "d9f31639e7f541aab7950a951e6d3e98": {
          "model_module": "@jupyter-widgets/controls",
          "model_name": "DescriptionStyleModel",
          "model_module_version": "1.5.0",
          "state": {
            "_view_name": "StyleView",
            "_model_name": "DescriptionStyleModel",
            "description_width": "",
            "_view_module": "@jupyter-widgets/base",
            "_model_module_version": "1.5.0",
            "_view_count": null,
            "_view_module_version": "1.2.0",
            "_model_module": "@jupyter-widgets/controls"
          }
        },
        "88398ec04cfd46efb41fd90dc25d5133": {
          "model_module": "@jupyter-widgets/base",
          "model_name": "LayoutModel",
          "model_module_version": "1.2.0",
          "state": {
            "_view_name": "LayoutView",
            "grid_template_rows": null,
            "right": null,
            "justify_content": null,
            "_view_module": "@jupyter-widgets/base",
            "overflow": null,
            "_model_module_version": "1.2.0",
            "_view_count": null,
            "flex_flow": null,
            "width": null,
            "min_width": null,
            "border": null,
            "align_items": null,
            "bottom": null,
            "_model_module": "@jupyter-widgets/base",
            "top": null,
            "grid_column": null,
            "overflow_y": null,
            "overflow_x": null,
            "grid_auto_flow": null,
            "grid_area": null,
            "grid_template_columns": null,
            "flex": null,
            "_model_name": "LayoutModel",
            "justify_items": null,
            "grid_row": null,
            "max_height": null,
            "align_content": null,
            "visibility": null,
            "align_self": null,
            "height": null,
            "min_height": null,
            "padding": null,
            "grid_auto_rows": null,
            "grid_gap": null,
            "max_width": null,
            "order": null,
            "_view_module_version": "1.2.0",
            "grid_template_areas": null,
            "object_position": null,
            "object_fit": null,
            "grid_auto_columns": null,
            "margin": null,
            "display": null,
            "left": null
          }
        },
        "e0c430c158e545c6b1c95bcceab81108": {
          "model_module": "@jupyter-widgets/controls",
          "model_name": "ProgressStyleModel",
          "model_module_version": "1.5.0",
          "state": {
            "_view_name": "StyleView",
            "_model_name": "ProgressStyleModel",
            "description_width": "",
            "_view_module": "@jupyter-widgets/base",
            "_model_module_version": "1.5.0",
            "_view_count": null,
            "_view_module_version": "1.2.0",
            "bar_color": null,
            "_model_module": "@jupyter-widgets/controls"
          }
        },
        "ee43a034d7ff4154bd321a2308d39144": {
          "model_module": "@jupyter-widgets/base",
          "model_name": "LayoutModel",
          "model_module_version": "1.2.0",
          "state": {
            "_view_name": "LayoutView",
            "grid_template_rows": null,
            "right": null,
            "justify_content": null,
            "_view_module": "@jupyter-widgets/base",
            "overflow": null,
            "_model_module_version": "1.2.0",
            "_view_count": null,
            "flex_flow": null,
            "width": null,
            "min_width": null,
            "border": null,
            "align_items": null,
            "bottom": null,
            "_model_module": "@jupyter-widgets/base",
            "top": null,
            "grid_column": null,
            "overflow_y": null,
            "overflow_x": null,
            "grid_auto_flow": null,
            "grid_area": null,
            "grid_template_columns": null,
            "flex": null,
            "_model_name": "LayoutModel",
            "justify_items": null,
            "grid_row": null,
            "max_height": null,
            "align_content": null,
            "visibility": null,
            "align_self": null,
            "height": null,
            "min_height": null,
            "padding": null,
            "grid_auto_rows": null,
            "grid_gap": null,
            "max_width": null,
            "order": null,
            "_view_module_version": "1.2.0",
            "grid_template_areas": null,
            "object_position": null,
            "object_fit": null,
            "grid_auto_columns": null,
            "margin": null,
            "display": null,
            "left": null
          }
        },
        "ebf965931391457fb8343d268b2ba980": {
          "model_module": "@jupyter-widgets/controls",
          "model_name": "DescriptionStyleModel",
          "model_module_version": "1.5.0",
          "state": {
            "_view_name": "StyleView",
            "_model_name": "DescriptionStyleModel",
            "description_width": "",
            "_view_module": "@jupyter-widgets/base",
            "_model_module_version": "1.5.0",
            "_view_count": null,
            "_view_module_version": "1.2.0",
            "_model_module": "@jupyter-widgets/controls"
          }
        },
        "e2828105ae9040acb13a0fa97567faf0": {
          "model_module": "@jupyter-widgets/base",
          "model_name": "LayoutModel",
          "model_module_version": "1.2.0",
          "state": {
            "_view_name": "LayoutView",
            "grid_template_rows": null,
            "right": null,
            "justify_content": null,
            "_view_module": "@jupyter-widgets/base",
            "overflow": null,
            "_model_module_version": "1.2.0",
            "_view_count": null,
            "flex_flow": null,
            "width": null,
            "min_width": null,
            "border": null,
            "align_items": null,
            "bottom": null,
            "_model_module": "@jupyter-widgets/base",
            "top": null,
            "grid_column": null,
            "overflow_y": null,
            "overflow_x": null,
            "grid_auto_flow": null,
            "grid_area": null,
            "grid_template_columns": null,
            "flex": null,
            "_model_name": "LayoutModel",
            "justify_items": null,
            "grid_row": null,
            "max_height": null,
            "align_content": null,
            "visibility": null,
            "align_self": null,
            "height": null,
            "min_height": null,
            "padding": null,
            "grid_auto_rows": null,
            "grid_gap": null,
            "max_width": null,
            "order": null,
            "_view_module_version": "1.2.0",
            "grid_template_areas": null,
            "object_position": null,
            "object_fit": null,
            "grid_auto_columns": null,
            "margin": null,
            "display": null,
            "left": null
          }
        }
      }
    }
  },
  "cells": [
    {
      "cell_type": "markdown",
      "metadata": {
        "id": "view-in-github",
        "colab_type": "text"
      },
      "source": [
        "<a href=\"https://colab.research.google.com/github/zloelias/final-project/blob/master/character_level_lenta.ipynb\" target=\"_parent\"><img src=\"https://colab.research.google.com/assets/colab-badge.svg\" alt=\"Open In Colab\"/></a>"
      ]
    },
    {
      "cell_type": "code",
      "metadata": {
        "colab": {
          "base_uri": "https://localhost:8080/"
        },
        "id": "MNk3pH1oea_i",
        "outputId": "b4e2cfbf-bba5-4e80-8044-5855b335886f"
      },
      "source": [
        "from google.colab import drive\n",
        "drive.mount('/content/drive')"
      ],
      "execution_count": null,
      "outputs": [
        {
          "output_type": "stream",
          "name": "stdout",
          "text": [
            "Drive already mounted at /content/drive; to attempt to forcibly remount, call drive.mount(\"/content/drive\", force_remount=True).\n"
          ]
        }
      ]
    },
    {
      "cell_type": "code",
      "metadata": {
        "id": "IDhmKOwQubra"
      },
      "source": [
        "#! pip install tensorflow_text\n",
        "#! pip install textattack['tensorflow']\n",
        "#! pip install datasets --upgrade\n",
        "#! pip install captum"
      ],
      "execution_count": null,
      "outputs": []
    },
    {
      "cell_type": "code",
      "source": [
        "# При установке из репозитория при работе не подцепляются другие модели, работает только дефолтный bert-base-uncased\n",
        "\n",
        "! pip install tensorflow_text\n",
        "! git clone https://github.com/zloelias/TextAttack.git\n",
        "! pip install /content/TextAttack[tensorflow] --use-feature=in-tree-build\n",
        "! pip install datasets --upgrade\n",
        "! pip install captum"
      ],
      "metadata": {
        "colab": {
          "base_uri": "https://localhost:8080/"
        },
        "id": "HovF8XR6LcfC",
        "outputId": "a82fd08d-3005-4f0a-a15b-4a1e2e1ef752"
      },
      "execution_count": null,
      "outputs": [
        {
          "output_type": "stream",
          "name": "stdout",
          "text": [
            "Requirement already satisfied: tensorflow_text in /usr/local/lib/python3.7/dist-packages (2.5.0)\n",
            "Requirement already satisfied: tensorflow<2.6,>=2.5.0 in /usr/local/lib/python3.7/dist-packages (from tensorflow_text) (2.5.0)\n",
            "Requirement already satisfied: tensorflow-hub>=0.8.0 in /usr/local/lib/python3.7/dist-packages (from tensorflow_text) (0.12.0)\n",
            "Requirement already satisfied: protobuf>=3.9.2 in /usr/local/lib/python3.7/dist-packages (from tensorflow<2.6,>=2.5.0->tensorflow_text) (3.17.3)\n",
            "Requirement already satisfied: keras-nightly~=2.5.0.dev in /usr/local/lib/python3.7/dist-packages (from tensorflow<2.6,>=2.5.0->tensorflow_text) (2.5.0.dev2021032900)\n",
            "Requirement already satisfied: six~=1.15.0 in /usr/local/lib/python3.7/dist-packages (from tensorflow<2.6,>=2.5.0->tensorflow_text) (1.15.0)\n",
            "Requirement already satisfied: absl-py~=0.10 in /usr/local/lib/python3.7/dist-packages (from tensorflow<2.6,>=2.5.0->tensorflow_text) (0.12.0)\n",
            "Requirement already satisfied: h5py~=3.1.0 in /usr/local/lib/python3.7/dist-packages (from tensorflow<2.6,>=2.5.0->tensorflow_text) (3.1.0)\n",
            "Requirement already satisfied: numpy~=1.19.2 in /usr/local/lib/python3.7/dist-packages (from tensorflow<2.6,>=2.5.0->tensorflow_text) (1.19.5)\n",
            "Requirement already satisfied: gast==0.4.0 in /usr/local/lib/python3.7/dist-packages (from tensorflow<2.6,>=2.5.0->tensorflow_text) (0.4.0)\n",
            "Requirement already satisfied: tensorboard~=2.5 in /usr/local/lib/python3.7/dist-packages (from tensorflow<2.6,>=2.5.0->tensorflow_text) (2.7.0)\n",
            "Requirement already satisfied: tensorflow-estimator<2.6.0,>=2.5.0rc0 in /usr/local/lib/python3.7/dist-packages (from tensorflow<2.6,>=2.5.0->tensorflow_text) (2.5.0)\n",
            "Requirement already satisfied: typing-extensions~=3.7.4 in /usr/local/lib/python3.7/dist-packages (from tensorflow<2.6,>=2.5.0->tensorflow_text) (3.7.4.3)\n",
            "Requirement already satisfied: wrapt~=1.12.1 in /usr/local/lib/python3.7/dist-packages (from tensorflow<2.6,>=2.5.0->tensorflow_text) (1.12.1)\n",
            "Requirement already satisfied: opt-einsum~=3.3.0 in /usr/local/lib/python3.7/dist-packages (from tensorflow<2.6,>=2.5.0->tensorflow_text) (3.3.0)\n",
            "Requirement already satisfied: google-pasta~=0.2 in /usr/local/lib/python3.7/dist-packages (from tensorflow<2.6,>=2.5.0->tensorflow_text) (0.2.0)\n",
            "Requirement already satisfied: flatbuffers~=1.12.0 in /usr/local/lib/python3.7/dist-packages (from tensorflow<2.6,>=2.5.0->tensorflow_text) (1.12)\n",
            "Requirement already satisfied: grpcio~=1.34.0 in /usr/local/lib/python3.7/dist-packages (from tensorflow<2.6,>=2.5.0->tensorflow_text) (1.34.1)\n",
            "Requirement already satisfied: wheel~=0.35 in /usr/local/lib/python3.7/dist-packages (from tensorflow<2.6,>=2.5.0->tensorflow_text) (0.37.0)\n",
            "Requirement already satisfied: astunparse~=1.6.3 in /usr/local/lib/python3.7/dist-packages (from tensorflow<2.6,>=2.5.0->tensorflow_text) (1.6.3)\n",
            "Requirement already satisfied: keras-preprocessing~=1.1.2 in /usr/local/lib/python3.7/dist-packages (from tensorflow<2.6,>=2.5.0->tensorflow_text) (1.1.2)\n",
            "Requirement already satisfied: termcolor~=1.1.0 in /usr/local/lib/python3.7/dist-packages (from tensorflow<2.6,>=2.5.0->tensorflow_text) (1.1.0)\n",
            "Requirement already satisfied: cached-property in /usr/local/lib/python3.7/dist-packages (from h5py~=3.1.0->tensorflow<2.6,>=2.5.0->tensorflow_text) (1.5.2)\n",
            "Requirement already satisfied: google-auth-oauthlib<0.5,>=0.4.1 in /usr/local/lib/python3.7/dist-packages (from tensorboard~=2.5->tensorflow<2.6,>=2.5.0->tensorflow_text) (0.4.6)\n",
            "Requirement already satisfied: werkzeug>=0.11.15 in /usr/local/lib/python3.7/dist-packages (from tensorboard~=2.5->tensorflow<2.6,>=2.5.0->tensorflow_text) (1.0.1)\n",
            "Requirement already satisfied: requests<3,>=2.21.0 in /usr/local/lib/python3.7/dist-packages (from tensorboard~=2.5->tensorflow<2.6,>=2.5.0->tensorflow_text) (2.23.0)\n",
            "Requirement already satisfied: tensorboard-data-server<0.7.0,>=0.6.0 in /usr/local/lib/python3.7/dist-packages (from tensorboard~=2.5->tensorflow<2.6,>=2.5.0->tensorflow_text) (0.6.1)\n",
            "Requirement already satisfied: google-auth<3,>=1.6.3 in /usr/local/lib/python3.7/dist-packages (from tensorboard~=2.5->tensorflow<2.6,>=2.5.0->tensorflow_text) (1.35.0)\n",
            "Requirement already satisfied: setuptools>=41.0.0 in /usr/local/lib/python3.7/dist-packages (from tensorboard~=2.5->tensorflow<2.6,>=2.5.0->tensorflow_text) (57.4.0)\n",
            "Requirement already satisfied: markdown>=2.6.8 in /usr/local/lib/python3.7/dist-packages (from tensorboard~=2.5->tensorflow<2.6,>=2.5.0->tensorflow_text) (3.3.6)\n",
            "Requirement already satisfied: tensorboard-plugin-wit>=1.6.0 in /usr/local/lib/python3.7/dist-packages (from tensorboard~=2.5->tensorflow<2.6,>=2.5.0->tensorflow_text) (1.8.0)\n",
            "Requirement already satisfied: pyasn1-modules>=0.2.1 in /usr/local/lib/python3.7/dist-packages (from google-auth<3,>=1.6.3->tensorboard~=2.5->tensorflow<2.6,>=2.5.0->tensorflow_text) (0.2.8)\n",
            "Requirement already satisfied: cachetools<5.0,>=2.0.0 in /usr/local/lib/python3.7/dist-packages (from google-auth<3,>=1.6.3->tensorboard~=2.5->tensorflow<2.6,>=2.5.0->tensorflow_text) (4.2.4)\n",
            "Requirement already satisfied: rsa<5,>=3.1.4 in /usr/local/lib/python3.7/dist-packages (from google-auth<3,>=1.6.3->tensorboard~=2.5->tensorflow<2.6,>=2.5.0->tensorflow_text) (4.8)\n",
            "Requirement already satisfied: requests-oauthlib>=0.7.0 in /usr/local/lib/python3.7/dist-packages (from google-auth-oauthlib<0.5,>=0.4.1->tensorboard~=2.5->tensorflow<2.6,>=2.5.0->tensorflow_text) (1.3.0)\n",
            "Requirement already satisfied: importlib-metadata>=4.4 in /usr/local/lib/python3.7/dist-packages (from markdown>=2.6.8->tensorboard~=2.5->tensorflow<2.6,>=2.5.0->tensorflow_text) (4.8.2)\n",
            "Requirement already satisfied: zipp>=0.5 in /usr/local/lib/python3.7/dist-packages (from importlib-metadata>=4.4->markdown>=2.6.8->tensorboard~=2.5->tensorflow<2.6,>=2.5.0->tensorflow_text) (3.6.0)\n",
            "Requirement already satisfied: pyasn1<0.5.0,>=0.4.6 in /usr/local/lib/python3.7/dist-packages (from pyasn1-modules>=0.2.1->google-auth<3,>=1.6.3->tensorboard~=2.5->tensorflow<2.6,>=2.5.0->tensorflow_text) (0.4.8)\n",
            "Requirement already satisfied: chardet<4,>=3.0.2 in /usr/local/lib/python3.7/dist-packages (from requests<3,>=2.21.0->tensorboard~=2.5->tensorflow<2.6,>=2.5.0->tensorflow_text) (3.0.4)\n",
            "Requirement already satisfied: urllib3!=1.25.0,!=1.25.1,<1.26,>=1.21.1 in /usr/local/lib/python3.7/dist-packages (from requests<3,>=2.21.0->tensorboard~=2.5->tensorflow<2.6,>=2.5.0->tensorflow_text) (1.24.3)\n",
            "Requirement already satisfied: certifi>=2017.4.17 in /usr/local/lib/python3.7/dist-packages (from requests<3,>=2.21.0->tensorboard~=2.5->tensorflow<2.6,>=2.5.0->tensorflow_text) (2021.10.8)\n",
            "Requirement already satisfied: idna<3,>=2.5 in /usr/local/lib/python3.7/dist-packages (from requests<3,>=2.21.0->tensorboard~=2.5->tensorflow<2.6,>=2.5.0->tensorflow_text) (2.10)\n",
            "Requirement already satisfied: oauthlib>=3.0.0 in /usr/local/lib/python3.7/dist-packages (from requests-oauthlib>=0.7.0->google-auth-oauthlib<0.5,>=0.4.1->tensorboard~=2.5->tensorflow<2.6,>=2.5.0->tensorflow_text) (3.1.1)\n",
            "fatal: destination path 'TextAttack' already exists and is not an empty directory.\n",
            "Processing ./TextAttack\n",
            "Requirement already satisfied: bert-score>=0.3.5 in /usr/local/lib/python3.7/dist-packages (from textattack==0.3.4) (0.3.11)\n",
            "Requirement already satisfied: editdistance in /usr/local/lib/python3.7/dist-packages (from textattack==0.3.4) (0.5.3)\n",
            "Requirement already satisfied: flair in /usr/local/lib/python3.7/dist-packages (from textattack==0.3.4) (0.10)\n",
            "Requirement already satisfied: filelock in /usr/local/lib/python3.7/dist-packages (from textattack==0.3.4) (3.4.0)\n",
            "Requirement already satisfied: language_tool_python in /usr/local/lib/python3.7/dist-packages (from textattack==0.3.4) (2.6.2)\n",
            "Requirement already satisfied: lemminflect in /usr/local/lib/python3.7/dist-packages (from textattack==0.3.4) (0.2.2)\n",
            "Requirement already satisfied: lru-dict in /usr/local/lib/python3.7/dist-packages (from textattack==0.3.4) (1.1.7)\n",
            "Requirement already satisfied: datasets in /usr/local/lib/python3.7/dist-packages (from textattack==0.3.4) (1.16.1)\n",
            "Requirement already satisfied: nltk in /usr/local/lib/python3.7/dist-packages (from textattack==0.3.4) (3.2.5)\n",
            "Requirement already satisfied: numpy>=1.19.2 in /usr/local/lib/python3.7/dist-packages (from textattack==0.3.4) (1.19.5)\n",
            "Requirement already satisfied: pandas>=1.0.1 in /usr/local/lib/python3.7/dist-packages (from textattack==0.3.4) (1.1.5)\n",
            "Requirement already satisfied: scipy>=1.4.1 in /usr/local/lib/python3.7/dist-packages (from textattack==0.3.4) (1.4.1)\n",
            "Requirement already satisfied: torch!=1.8,>=1.7.0 in /usr/local/lib/python3.7/dist-packages (from textattack==0.3.4) (1.10.0+cu111)\n",
            "Requirement already satisfied: transformers>=3.3.0 in /usr/local/lib/python3.7/dist-packages (from textattack==0.3.4) (4.13.0)\n",
            "Requirement already satisfied: terminaltables in /usr/local/lib/python3.7/dist-packages (from textattack==0.3.4) (3.1.10)\n",
            "Requirement already satisfied: tqdm in /usr/local/lib/python3.7/dist-packages (from textattack==0.3.4) (4.62.3)\n",
            "Requirement already satisfied: word2number in /usr/local/lib/python3.7/dist-packages (from textattack==0.3.4) (1.1)\n",
            "Requirement already satisfied: num2words in /usr/local/lib/python3.7/dist-packages (from textattack==0.3.4) (0.5.10)\n",
            "Requirement already satisfied: more-itertools in /usr/local/lib/python3.7/dist-packages (from textattack==0.3.4) (8.8.0)\n",
            "Requirement already satisfied: PySocks!=1.5.7,>=1.5.6 in /usr/local/lib/python3.7/dist-packages (from textattack==0.3.4) (1.7.1)\n",
            "Requirement already satisfied: tensorflow==2.5.0 in /usr/local/lib/python3.7/dist-packages (from textattack==0.3.4) (2.5.0)\n",
            "Requirement already satisfied: tensorflow_hub in /usr/local/lib/python3.7/dist-packages (from textattack==0.3.4) (0.12.0)\n",
            "Requirement already satisfied: tensorflow_text>=2 in /usr/local/lib/python3.7/dist-packages (from textattack==0.3.4) (2.5.0)\n",
            "Requirement already satisfied: tensorboardX in /usr/local/lib/python3.7/dist-packages (from textattack==0.3.4) (2.4.1)\n",
            "Requirement already satisfied: tensorflow-estimator==2.5.0 in /usr/local/lib/python3.7/dist-packages (from textattack==0.3.4) (2.5.0)\n",
            "Requirement already satisfied: tensorboard~=2.5 in /usr/local/lib/python3.7/dist-packages (from tensorflow==2.5.0->textattack==0.3.4) (2.7.0)\n",
            "Requirement already satisfied: six~=1.15.0 in /usr/local/lib/python3.7/dist-packages (from tensorflow==2.5.0->textattack==0.3.4) (1.15.0)\n",
            "Requirement already satisfied: typing-extensions~=3.7.4 in /usr/local/lib/python3.7/dist-packages (from tensorflow==2.5.0->textattack==0.3.4) (3.7.4.3)\n",
            "Requirement already satisfied: h5py~=3.1.0 in /usr/local/lib/python3.7/dist-packages (from tensorflow==2.5.0->textattack==0.3.4) (3.1.0)\n",
            "Requirement already satisfied: wheel~=0.35 in /usr/local/lib/python3.7/dist-packages (from tensorflow==2.5.0->textattack==0.3.4) (0.37.0)\n",
            "Requirement already satisfied: opt-einsum~=3.3.0 in /usr/local/lib/python3.7/dist-packages (from tensorflow==2.5.0->textattack==0.3.4) (3.3.0)\n",
            "Requirement already satisfied: gast==0.4.0 in /usr/local/lib/python3.7/dist-packages (from tensorflow==2.5.0->textattack==0.3.4) (0.4.0)\n",
            "Requirement already satisfied: absl-py~=0.10 in /usr/local/lib/python3.7/dist-packages (from tensorflow==2.5.0->textattack==0.3.4) (0.12.0)\n",
            "Requirement already satisfied: astunparse~=1.6.3 in /usr/local/lib/python3.7/dist-packages (from tensorflow==2.5.0->textattack==0.3.4) (1.6.3)\n",
            "Requirement already satisfied: termcolor~=1.1.0 in /usr/local/lib/python3.7/dist-packages (from tensorflow==2.5.0->textattack==0.3.4) (1.1.0)\n",
            "Requirement already satisfied: wrapt~=1.12.1 in /usr/local/lib/python3.7/dist-packages (from tensorflow==2.5.0->textattack==0.3.4) (1.12.1)\n",
            "Requirement already satisfied: grpcio~=1.34.0 in /usr/local/lib/python3.7/dist-packages (from tensorflow==2.5.0->textattack==0.3.4) (1.34.1)\n",
            "Requirement already satisfied: keras-nightly~=2.5.0.dev in /usr/local/lib/python3.7/dist-packages (from tensorflow==2.5.0->textattack==0.3.4) (2.5.0.dev2021032900)\n",
            "Requirement already satisfied: google-pasta~=0.2 in /usr/local/lib/python3.7/dist-packages (from tensorflow==2.5.0->textattack==0.3.4) (0.2.0)\n",
            "Requirement already satisfied: flatbuffers~=1.12.0 in /usr/local/lib/python3.7/dist-packages (from tensorflow==2.5.0->textattack==0.3.4) (1.12)\n",
            "Requirement already satisfied: keras-preprocessing~=1.1.2 in /usr/local/lib/python3.7/dist-packages (from tensorflow==2.5.0->textattack==0.3.4) (1.1.2)\n",
            "Requirement already satisfied: protobuf>=3.9.2 in /usr/local/lib/python3.7/dist-packages (from tensorflow==2.5.0->textattack==0.3.4) (3.17.3)\n",
            "Requirement already satisfied: requests in /usr/local/lib/python3.7/dist-packages (from bert-score>=0.3.5->textattack==0.3.4) (2.23.0)\n",
            "Requirement already satisfied: matplotlib in /usr/local/lib/python3.7/dist-packages (from bert-score>=0.3.5->textattack==0.3.4) (3.2.2)\n",
            "Requirement already satisfied: packaging>=20.9 in /usr/local/lib/python3.7/dist-packages (from bert-score>=0.3.5->textattack==0.3.4) (21.3)\n",
            "Requirement already satisfied: cached-property in /usr/local/lib/python3.7/dist-packages (from h5py~=3.1.0->tensorflow==2.5.0->textattack==0.3.4) (1.5.2)\n",
            "Requirement already satisfied: pyparsing!=3.0.5,>=2.0.2 in /usr/local/lib/python3.7/dist-packages (from packaging>=20.9->bert-score>=0.3.5->textattack==0.3.4) (3.0.6)\n",
            "Requirement already satisfied: pytz>=2017.2 in /usr/local/lib/python3.7/dist-packages (from pandas>=1.0.1->textattack==0.3.4) (2018.9)\n",
            "Requirement already satisfied: python-dateutil>=2.7.3 in /usr/local/lib/python3.7/dist-packages (from pandas>=1.0.1->textattack==0.3.4) (2.8.2)\n",
            "Requirement already satisfied: tensorboard-plugin-wit>=1.6.0 in /usr/local/lib/python3.7/dist-packages (from tensorboard~=2.5->tensorflow==2.5.0->textattack==0.3.4) (1.8.0)\n",
            "Requirement already satisfied: werkzeug>=0.11.15 in /usr/local/lib/python3.7/dist-packages (from tensorboard~=2.5->tensorflow==2.5.0->textattack==0.3.4) (1.0.1)\n",
            "Requirement already satisfied: google-auth<3,>=1.6.3 in /usr/local/lib/python3.7/dist-packages (from tensorboard~=2.5->tensorflow==2.5.0->textattack==0.3.4) (1.35.0)\n",
            "Requirement already satisfied: google-auth-oauthlib<0.5,>=0.4.1 in /usr/local/lib/python3.7/dist-packages (from tensorboard~=2.5->tensorflow==2.5.0->textattack==0.3.4) (0.4.6)\n",
            "Requirement already satisfied: tensorboard-data-server<0.7.0,>=0.6.0 in /usr/local/lib/python3.7/dist-packages (from tensorboard~=2.5->tensorflow==2.5.0->textattack==0.3.4) (0.6.1)\n",
            "Requirement already satisfied: setuptools>=41.0.0 in /usr/local/lib/python3.7/dist-packages (from tensorboard~=2.5->tensorflow==2.5.0->textattack==0.3.4) (57.4.0)\n",
            "Requirement already satisfied: markdown>=2.6.8 in /usr/local/lib/python3.7/dist-packages (from tensorboard~=2.5->tensorflow==2.5.0->textattack==0.3.4) (3.3.6)\n",
            "Requirement already satisfied: rsa<5,>=3.1.4 in /usr/local/lib/python3.7/dist-packages (from google-auth<3,>=1.6.3->tensorboard~=2.5->tensorflow==2.5.0->textattack==0.3.4) (4.8)\n",
            "Requirement already satisfied: cachetools<5.0,>=2.0.0 in /usr/local/lib/python3.7/dist-packages (from google-auth<3,>=1.6.3->tensorboard~=2.5->tensorflow==2.5.0->textattack==0.3.4) (4.2.4)\n",
            "Requirement already satisfied: pyasn1-modules>=0.2.1 in /usr/local/lib/python3.7/dist-packages (from google-auth<3,>=1.6.3->tensorboard~=2.5->tensorflow==2.5.0->textattack==0.3.4) (0.2.8)\n",
            "Requirement already satisfied: requests-oauthlib>=0.7.0 in /usr/local/lib/python3.7/dist-packages (from google-auth-oauthlib<0.5,>=0.4.1->tensorboard~=2.5->tensorflow==2.5.0->textattack==0.3.4) (1.3.0)\n",
            "Requirement already satisfied: importlib-metadata>=4.4 in /usr/local/lib/python3.7/dist-packages (from markdown>=2.6.8->tensorboard~=2.5->tensorflow==2.5.0->textattack==0.3.4) (4.8.2)\n",
            "Requirement already satisfied: zipp>=0.5 in /usr/local/lib/python3.7/dist-packages (from importlib-metadata>=4.4->markdown>=2.6.8->tensorboard~=2.5->tensorflow==2.5.0->textattack==0.3.4) (3.6.0)\n",
            "Requirement already satisfied: pyasn1<0.5.0,>=0.4.6 in /usr/local/lib/python3.7/dist-packages (from pyasn1-modules>=0.2.1->google-auth<3,>=1.6.3->tensorboard~=2.5->tensorflow==2.5.0->textattack==0.3.4) (0.4.8)\n",
            "Requirement already satisfied: idna<3,>=2.5 in /usr/local/lib/python3.7/dist-packages (from requests->bert-score>=0.3.5->textattack==0.3.4) (2.10)\n",
            "Requirement already satisfied: urllib3!=1.25.0,!=1.25.1,<1.26,>=1.21.1 in /usr/local/lib/python3.7/dist-packages (from requests->bert-score>=0.3.5->textattack==0.3.4) (1.24.3)\n",
            "Requirement already satisfied: certifi>=2017.4.17 in /usr/local/lib/python3.7/dist-packages (from requests->bert-score>=0.3.5->textattack==0.3.4) (2021.10.8)\n",
            "Requirement already satisfied: chardet<4,>=3.0.2 in /usr/local/lib/python3.7/dist-packages (from requests->bert-score>=0.3.5->textattack==0.3.4) (3.0.4)\n",
            "Requirement already satisfied: oauthlib>=3.0.0 in /usr/local/lib/python3.7/dist-packages (from requests-oauthlib>=0.7.0->google-auth-oauthlib<0.5,>=0.4.1->tensorboard~=2.5->tensorflow==2.5.0->textattack==0.3.4) (3.1.1)\n",
            "Requirement already satisfied: pyyaml>=5.1 in /usr/local/lib/python3.7/dist-packages (from transformers>=3.3.0->textattack==0.3.4) (6.0)\n",
            "Requirement already satisfied: tokenizers<0.11,>=0.10.1 in /usr/local/lib/python3.7/dist-packages (from transformers>=3.3.0->textattack==0.3.4) (0.10.3)\n",
            "Requirement already satisfied: regex!=2019.12.17 in /usr/local/lib/python3.7/dist-packages (from transformers>=3.3.0->textattack==0.3.4) (2019.12.20)\n",
            "Requirement already satisfied: huggingface-hub<1.0,>=0.1.0 in /usr/local/lib/python3.7/dist-packages (from transformers>=3.3.0->textattack==0.3.4) (0.2.1)\n",
            "Requirement already satisfied: sacremoses in /usr/local/lib/python3.7/dist-packages (from transformers>=3.3.0->textattack==0.3.4) (0.0.46)\n",
            "Requirement already satisfied: pyarrow!=4.0.0,>=3.0.0 in /usr/local/lib/python3.7/dist-packages (from datasets->textattack==0.3.4) (3.0.0)\n",
            "Requirement already satisfied: multiprocess in /usr/local/lib/python3.7/dist-packages (from datasets->textattack==0.3.4) (0.70.12.2)\n",
            "Requirement already satisfied: fsspec[http]>=2021.05.0 in /usr/local/lib/python3.7/dist-packages (from datasets->textattack==0.3.4) (2021.11.1)\n",
            "Requirement already satisfied: aiohttp in /usr/local/lib/python3.7/dist-packages (from datasets->textattack==0.3.4) (3.8.1)\n",
            "Requirement already satisfied: xxhash in /usr/local/lib/python3.7/dist-packages (from datasets->textattack==0.3.4) (2.0.2)\n",
            "Requirement already satisfied: dill in /usr/local/lib/python3.7/dist-packages (from datasets->textattack==0.3.4) (0.3.4)\n",
            "Requirement already satisfied: yarl<2.0,>=1.0 in /usr/local/lib/python3.7/dist-packages (from aiohttp->datasets->textattack==0.3.4) (1.7.2)\n",
            "Requirement already satisfied: attrs>=17.3.0 in /usr/local/lib/python3.7/dist-packages (from aiohttp->datasets->textattack==0.3.4) (21.2.0)\n",
            "Requirement already satisfied: charset-normalizer<3.0,>=2.0 in /usr/local/lib/python3.7/dist-packages (from aiohttp->datasets->textattack==0.3.4) (2.0.8)\n",
            "Requirement already satisfied: multidict<7.0,>=4.5 in /usr/local/lib/python3.7/dist-packages (from aiohttp->datasets->textattack==0.3.4) (5.2.0)\n",
            "Requirement already satisfied: asynctest==0.13.0 in /usr/local/lib/python3.7/dist-packages (from aiohttp->datasets->textattack==0.3.4) (0.13.0)\n",
            "Requirement already satisfied: frozenlist>=1.1.1 in /usr/local/lib/python3.7/dist-packages (from aiohttp->datasets->textattack==0.3.4) (1.2.0)\n",
            "Requirement already satisfied: async-timeout<5.0,>=4.0.0a3 in /usr/local/lib/python3.7/dist-packages (from aiohttp->datasets->textattack==0.3.4) (4.0.1)\n",
            "Requirement already satisfied: aiosignal>=1.1.2 in /usr/local/lib/python3.7/dist-packages (from aiohttp->datasets->textattack==0.3.4) (1.2.0)\n",
            "Requirement already satisfied: conllu>=4.0 in /usr/local/lib/python3.7/dist-packages (from flair->textattack==0.3.4) (4.4.1)\n",
            "Requirement already satisfied: scikit-learn>=0.21.3 in /usr/local/lib/python3.7/dist-packages (from flair->textattack==0.3.4) (1.0.1)\n",
            "Requirement already satisfied: segtok>=1.5.7 in /usr/local/lib/python3.7/dist-packages (from flair->textattack==0.3.4) (1.5.10)\n",
            "Requirement already satisfied: gdown==3.12.2 in /usr/local/lib/python3.7/dist-packages (from flair->textattack==0.3.4) (3.12.2)\n",
            "Requirement already satisfied: deprecated>=1.2.4 in /usr/local/lib/python3.7/dist-packages (from flair->textattack==0.3.4) (1.2.13)\n",
            "Requirement already satisfied: ftfy in /usr/local/lib/python3.7/dist-packages (from flair->textattack==0.3.4) (6.0.3)\n",
            "Requirement already satisfied: janome in /usr/local/lib/python3.7/dist-packages (from flair->textattack==0.3.4) (0.4.1)\n",
            "Requirement already satisfied: sentencepiece==0.1.95 in /usr/local/lib/python3.7/dist-packages (from flair->textattack==0.3.4) (0.1.95)\n",
            "Requirement already satisfied: wikipedia-api in /usr/local/lib/python3.7/dist-packages (from flair->textattack==0.3.4) (0.5.4)\n",
            "Requirement already satisfied: konoha<5.0.0,>=4.0.0 in /usr/local/lib/python3.7/dist-packages (from flair->textattack==0.3.4) (4.6.3)\n",
            "Requirement already satisfied: sqlitedict>=1.6.0 in /usr/local/lib/python3.7/dist-packages (from flair->textattack==0.3.4) (1.7.0)\n",
            "Requirement already satisfied: gensim>=3.4.0 in /usr/local/lib/python3.7/dist-packages (from flair->textattack==0.3.4) (3.6.0)\n",
            "Requirement already satisfied: bpemb>=0.3.2 in /usr/local/lib/python3.7/dist-packages (from flair->textattack==0.3.4) (0.3.3)\n",
            "Requirement already satisfied: mpld3==0.3 in /usr/local/lib/python3.7/dist-packages (from flair->textattack==0.3.4) (0.3)\n",
            "Requirement already satisfied: tabulate in /usr/local/lib/python3.7/dist-packages (from flair->textattack==0.3.4) (0.8.9)\n",
            "Requirement already satisfied: langdetect in /usr/local/lib/python3.7/dist-packages (from flair->textattack==0.3.4) (1.0.9)\n",
            "Requirement already satisfied: lxml in /usr/local/lib/python3.7/dist-packages (from flair->textattack==0.3.4) (4.2.6)\n",
            "Requirement already satisfied: smart-open>=1.2.1 in /usr/local/lib/python3.7/dist-packages (from gensim>=3.4.0->flair->textattack==0.3.4) (5.2.1)\n",
            "Requirement already satisfied: overrides<4.0.0,>=3.0.0 in /usr/local/lib/python3.7/dist-packages (from konoha<5.0.0,>=4.0.0->flair->textattack==0.3.4) (3.1.0)\n",
            "Requirement already satisfied: cycler>=0.10 in /usr/local/lib/python3.7/dist-packages (from matplotlib->bert-score>=0.3.5->textattack==0.3.4) (0.11.0)\n",
            "Requirement already satisfied: kiwisolver>=1.0.1 in /usr/local/lib/python3.7/dist-packages (from matplotlib->bert-score>=0.3.5->textattack==0.3.4) (1.3.2)\n",
            "Requirement already satisfied: threadpoolctl>=2.0.0 in /usr/local/lib/python3.7/dist-packages (from scikit-learn>=0.21.3->flair->textattack==0.3.4) (3.0.0)\n",
            "Requirement already satisfied: joblib>=0.11 in /usr/local/lib/python3.7/dist-packages (from scikit-learn>=0.21.3->flair->textattack==0.3.4) (1.1.0)\n",
            "Requirement already satisfied: wcwidth in /usr/local/lib/python3.7/dist-packages (from ftfy->flair->textattack==0.3.4) (0.2.5)\n",
            "Requirement already satisfied: docopt>=0.6.2 in /usr/local/lib/python3.7/dist-packages (from num2words->textattack==0.3.4) (0.6.2)\n",
            "Requirement already satisfied: click in /usr/local/lib/python3.7/dist-packages (from sacremoses->transformers>=3.3.0->textattack==0.3.4) (7.1.2)\n",
            "Building wheels for collected packages: textattack\n",
            "  Building wheel for textattack (setup.py) ... \u001b[?25l\u001b[?25hdone\n",
            "  Created wheel for textattack: filename=textattack-0.3.4-py3-none-any.whl size=377434 sha256=cec3290e17a0e683caef42d35287b4e3464f06a6f2bf96f12dc519f2b60796f4\n",
            "  Stored in directory: /tmp/pip-ephem-wheel-cache-mwohwodq/wheels/00/07/19/705a89c140a25ea4a53610153f7b1440b6c62115ea7904bdc6\n",
            "Successfully built textattack\n",
            "Installing collected packages: textattack\n",
            "  Attempting uninstall: textattack\n",
            "    Found existing installation: textattack 0.3.4\n",
            "    Uninstalling textattack-0.3.4:\n",
            "      Successfully uninstalled textattack-0.3.4\n",
            "Successfully installed textattack-0.3.4\n",
            "Requirement already satisfied: datasets in /usr/local/lib/python3.7/dist-packages (1.16.1)\n",
            "Requirement already satisfied: huggingface-hub<1.0.0,>=0.1.0 in /usr/local/lib/python3.7/dist-packages (from datasets) (0.2.1)\n",
            "Requirement already satisfied: packaging in /usr/local/lib/python3.7/dist-packages (from datasets) (21.3)\n",
            "Requirement already satisfied: pyarrow!=4.0.0,>=3.0.0 in /usr/local/lib/python3.7/dist-packages (from datasets) (3.0.0)\n",
            "Requirement already satisfied: multiprocess in /usr/local/lib/python3.7/dist-packages (from datasets) (0.70.12.2)\n",
            "Requirement already satisfied: requests>=2.19.0 in /usr/local/lib/python3.7/dist-packages (from datasets) (2.23.0)\n",
            "Requirement already satisfied: xxhash in /usr/local/lib/python3.7/dist-packages (from datasets) (2.0.2)\n",
            "Requirement already satisfied: dill in /usr/local/lib/python3.7/dist-packages (from datasets) (0.3.4)\n",
            "Requirement already satisfied: pandas in /usr/local/lib/python3.7/dist-packages (from datasets) (1.1.5)\n",
            "Requirement already satisfied: numpy>=1.17 in /usr/local/lib/python3.7/dist-packages (from datasets) (1.19.5)\n",
            "Requirement already satisfied: aiohttp in /usr/local/lib/python3.7/dist-packages (from datasets) (3.8.1)\n",
            "Requirement already satisfied: importlib-metadata in /usr/local/lib/python3.7/dist-packages (from datasets) (4.8.2)\n",
            "Requirement already satisfied: fsspec[http]>=2021.05.0 in /usr/local/lib/python3.7/dist-packages (from datasets) (2021.11.1)\n",
            "Requirement already satisfied: tqdm>=4.62.1 in /usr/local/lib/python3.7/dist-packages (from datasets) (4.62.3)\n",
            "Requirement already satisfied: filelock in /usr/local/lib/python3.7/dist-packages (from huggingface-hub<1.0.0,>=0.1.0->datasets) (3.4.0)\n",
            "Requirement already satisfied: pyyaml in /usr/local/lib/python3.7/dist-packages (from huggingface-hub<1.0.0,>=0.1.0->datasets) (6.0)\n",
            "Requirement already satisfied: typing-extensions>=3.7.4.3 in /usr/local/lib/python3.7/dist-packages (from huggingface-hub<1.0.0,>=0.1.0->datasets) (3.7.4.3)\n",
            "Requirement already satisfied: pyparsing!=3.0.5,>=2.0.2 in /usr/local/lib/python3.7/dist-packages (from packaging->datasets) (3.0.6)\n",
            "Requirement already satisfied: urllib3!=1.25.0,!=1.25.1,<1.26,>=1.21.1 in /usr/local/lib/python3.7/dist-packages (from requests>=2.19.0->datasets) (1.24.3)\n",
            "Requirement already satisfied: idna<3,>=2.5 in /usr/local/lib/python3.7/dist-packages (from requests>=2.19.0->datasets) (2.10)\n",
            "Requirement already satisfied: chardet<4,>=3.0.2 in /usr/local/lib/python3.7/dist-packages (from requests>=2.19.0->datasets) (3.0.4)\n",
            "Requirement already satisfied: certifi>=2017.4.17 in /usr/local/lib/python3.7/dist-packages (from requests>=2.19.0->datasets) (2021.10.8)\n",
            "Requirement already satisfied: async-timeout<5.0,>=4.0.0a3 in /usr/local/lib/python3.7/dist-packages (from aiohttp->datasets) (4.0.1)\n",
            "Requirement already satisfied: charset-normalizer<3.0,>=2.0 in /usr/local/lib/python3.7/dist-packages (from aiohttp->datasets) (2.0.8)\n",
            "Requirement already satisfied: asynctest==0.13.0 in /usr/local/lib/python3.7/dist-packages (from aiohttp->datasets) (0.13.0)\n",
            "Requirement already satisfied: multidict<7.0,>=4.5 in /usr/local/lib/python3.7/dist-packages (from aiohttp->datasets) (5.2.0)\n",
            "Requirement already satisfied: aiosignal>=1.1.2 in /usr/local/lib/python3.7/dist-packages (from aiohttp->datasets) (1.2.0)\n",
            "Requirement already satisfied: attrs>=17.3.0 in /usr/local/lib/python3.7/dist-packages (from aiohttp->datasets) (21.2.0)\n",
            "Requirement already satisfied: frozenlist>=1.1.1 in /usr/local/lib/python3.7/dist-packages (from aiohttp->datasets) (1.2.0)\n",
            "Requirement already satisfied: yarl<2.0,>=1.0 in /usr/local/lib/python3.7/dist-packages (from aiohttp->datasets) (1.7.2)\n",
            "Requirement already satisfied: zipp>=0.5 in /usr/local/lib/python3.7/dist-packages (from importlib-metadata->datasets) (3.6.0)\n",
            "Requirement already satisfied: pytz>=2017.2 in /usr/local/lib/python3.7/dist-packages (from pandas->datasets) (2018.9)\n",
            "Requirement already satisfied: python-dateutil>=2.7.3 in /usr/local/lib/python3.7/dist-packages (from pandas->datasets) (2.8.2)\n",
            "Requirement already satisfied: six>=1.5 in /usr/local/lib/python3.7/dist-packages (from python-dateutil>=2.7.3->pandas->datasets) (1.15.0)\n",
            "Requirement already satisfied: captum in /usr/local/lib/python3.7/dist-packages (0.4.1)\n",
            "Requirement already satisfied: matplotlib in /usr/local/lib/python3.7/dist-packages (from captum) (3.2.2)\n",
            "Requirement already satisfied: torch>=1.2 in /usr/local/lib/python3.7/dist-packages (from captum) (1.10.0+cu111)\n",
            "Requirement already satisfied: numpy in /usr/local/lib/python3.7/dist-packages (from captum) (1.19.5)\n",
            "Requirement already satisfied: typing-extensions in /usr/local/lib/python3.7/dist-packages (from torch>=1.2->captum) (3.7.4.3)\n",
            "Requirement already satisfied: kiwisolver>=1.0.1 in /usr/local/lib/python3.7/dist-packages (from matplotlib->captum) (1.3.2)\n",
            "Requirement already satisfied: pyparsing!=2.0.4,!=2.1.2,!=2.1.6,>=2.0.1 in /usr/local/lib/python3.7/dist-packages (from matplotlib->captum) (3.0.6)\n",
            "Requirement already satisfied: cycler>=0.10 in /usr/local/lib/python3.7/dist-packages (from matplotlib->captum) (0.11.0)\n",
            "Requirement already satisfied: python-dateutil>=2.1 in /usr/local/lib/python3.7/dist-packages (from matplotlib->captum) (2.8.2)\n",
            "Requirement already satisfied: six>=1.5 in /usr/local/lib/python3.7/dist-packages (from python-dateutil>=2.1->matplotlib->captum) (1.15.0)\n"
          ]
        }
      ]
    },
    {
      "cell_type": "code",
      "metadata": {
        "id": "fhwb7F-_kXjT",
        "colab": {
          "base_uri": "https://localhost:8080/"
        },
        "outputId": "31d8c43e-c28d-47ff-e82c-971a28333d85"
      },
      "source": [
        "import torch\n",
        "from copy import deepcopy\n",
        "\n",
        "from textattack.datasets import HuggingFaceDataset\n",
        "from textattack.models.wrappers import HuggingFaceModelWrapper\n",
        "from textattack.models.wrappers import ModelWrapper\n",
        "from transformers import AutoModelForSequenceClassification, AutoTokenizer\n",
        "\n",
        "#from captum.attr import IntegratedGradients, LayerConductance, LayerIntegratedGradients, LayerDeepLiftShap, InternalInfluence, LayerGradientXActivation\n",
        "#from captum.attr import visualization as viz\n",
        "\n",
        "import nltk\n",
        "nltk.download('averaged_perceptron_tagger_ru')\n",
        "nltk.download('stopwords')"
      ],
      "execution_count": null,
      "outputs": [
        {
          "output_type": "stream",
          "name": "stdout",
          "text": [
            "[nltk_data] Downloading package averaged_perceptron_tagger_ru to\n",
            "[nltk_data]     /root/nltk_data...\n",
            "[nltk_data]   Package averaged_perceptron_tagger_ru is already up-to-\n",
            "[nltk_data]       date!\n",
            "[nltk_data] Downloading package stopwords to /root/nltk_data...\n",
            "[nltk_data]   Package stopwords is already up-to-date!\n"
          ]
        },
        {
          "output_type": "execute_result",
          "data": {
            "text/plain": [
              "True"
            ]
          },
          "metadata": {},
          "execution_count": 4
        }
      ]
    },
    {
      "cell_type": "code",
      "metadata": {
        "colab": {
          "base_uri": "https://localhost:8080/"
        },
        "id": "LfCIkViJkXjX",
        "outputId": "76a2be90-68be-43fe-d899-575d81798317"
      },
      "source": [
        "if torch.cuda.is_available():\n",
        "    device = torch.device(\"cuda:0\")\n",
        "else: \n",
        "    device = torch.device(\"cpu\")\n",
        "    \n",
        "print(device)"
      ],
      "execution_count": null,
      "outputs": [
        {
          "output_type": "stream",
          "name": "stdout",
          "text": [
            "cuda:0\n"
          ]
        }
      ]
    },
    {
      "cell_type": "code",
      "source": [
        "from textattack import Attack\n",
        "from textattack.constraints.pre_transformation import (\n",
        "    RepeatModification,\n",
        "    StopwordModification,\n",
        ")\n",
        "from textattack.constraints.semantics.sentence_encoders import UniversalSentenceEncoder, MultilingualUniversalSentenceEncoder\n",
        "from textattack.goal_functions import UntargetedClassification\n",
        "from textattack.search_methods import GreedyWordSwapWIR, GreedySearch\n",
        "from textattack.transformations import (\n",
        "    CompositeTransformation,\n",
        "    #WordSwapEmbedding,\n",
        "    WordSwapHomoglyphSwap,\n",
        "    WordSwapQWERTY,\n",
        "    WordSwapNeighboringCharacterSwap,\n",
        "    WordSwapRandomCharacterDeletion,\n",
        "    WordSwapRandomCharacterInsertion,\n",
        ")\n",
        "\n",
        "from textattack.constraints.pre_transformation.max_word_index_modification import MaxWordIndexModification\n",
        "from textattack.constraints.pre_transformation.max_modification_rate import MaxModificationRate\n",
        "\n",
        "from textattack.attack_recipes.attack_recipe import AttackRecipe\n"
      ],
      "metadata": {
        "id": "WObNGjsDAgnD"
      },
      "execution_count": null,
      "outputs": []
    },
    {
      "cell_type": "code",
      "source": [
        "class TextBuggerLi2018RU(AttackRecipe):\n",
        "    \"\"\"Li, J., Ji, S., Du, T., Li, B., and Wang, T. (2018).\n",
        "    TextBugger: Generating Adversarial Text Against Real-world Applications.\n",
        "    https://arxiv.org/abs/1812.05271\n",
        "    \"\"\"\n",
        "\n",
        "    @staticmethod\n",
        "    def build(model_wrapper, max_rate, max_seq_len, language):\n",
        "        #\n",
        "        #  we propose five bug generation methods for TEXTBUGGER:\n",
        "        #\n",
        "        transformation = CompositeTransformation(\n",
        "            [\n",
        "                # (1) Insert: Insert a space into the word.\n",
        "                # Generally, words are segmented by spaces in English. Therefore,\n",
        "                # we can deceive classifiers by inserting spaces into words.\n",
        "                WordSwapRandomCharacterInsertion(\n",
        "                    random_one=True,\n",
        "                    letters_to_insert=\" \",\n",
        "                    skip_first_char=True,\n",
        "                    skip_last_char=True,\n",
        "                ),\n",
        "                # (2) Delete: Delete a random character of the word except for the first\n",
        "                # and the last character.\n",
        "                WordSwapRandomCharacterDeletion(\n",
        "                    random_one=True, skip_first_char=True, skip_last_char=True\n",
        "                ),\n",
        "                # (3) Swap: Swap random two adjacent letters in the word but do not\n",
        "                # alter the first or last letter. This is a common occurrence when\n",
        "                # typing quickly and is easy to implement.\n",
        "                WordSwapNeighboringCharacterSwap(\n",
        "                    random_one=True, skip_first_char=True, skip_last_char=True\n",
        "                ),\n",
        "                # (4) Substitute-C (Sub-C): Replace characters with visually similar\n",
        "                # characters (e.g., replacing “o” with “0”, “l” with “1”, “a” with “@”)\n",
        "                # or adjacent characters in the keyboard (e.g., replacing “m” with “n”).\n",
        "                WordSwapHomoglyphSwap(),\n",
        "                # (5) Substitute-W\n",
        "                # (Sub-W): Replace a word with its topk nearest neighbors in a\n",
        "                # context-aware word vector space. Specifically, we use the pre-trained\n",
        "                # GloVe model [30] provided by Stanford for word embedding and set\n",
        "                # topk = 5 in the experiment.\n",
        "                #WordSwapEmbedding(max_candidates=5),\n",
        "                WordSwapQWERTY(random_one=True, skip_first_char=True, skip_last_char=True),\n",
        "            ]\n",
        "        )\n",
        "\n",
        "        constraints = [RepeatModification(), StopwordModification(language=language)]\n",
        "        constraints.append(MaxWordIndexModification(max_seq_len))\n",
        "        constraints.append(MaxModificationRate(max_rate, min_threshold=1))\n",
        "\n",
        "        # In our experiment, we first use the Universal Sentence\n",
        "        # Encoder [7], a model trained on a number of natural language\n",
        "        # prediction tasks that require modeling the meaning of word\n",
        "        # sequences, to encode sentences into high dimensional vectors.\n",
        "        # Then, we use the cosine similarity to measure the semantic\n",
        "        # similarity between original texts and adversarial texts.\n",
        "        # ... \"Furthermore, the semantic similarity threshold \\eps is set\n",
        "        # as 0.8 to guarantee a good trade-off between quality and\n",
        "        # strength of the generated adversarial text.\"\n",
        "        constraints.append(MultilingualUniversalSentenceEncoder(\n",
        "            threshold=0.936338023,\n",
        "            metric=\"cosine\",\n",
        "            compare_against_original=True,\n",
        "            window_size=15,\n",
        "            skip_text_shorter_than_window=True,\n",
        "        ))\n",
        "        #\n",
        "        # Goal is untargeted classification\n",
        "        #\n",
        "        goal_function = UntargetedClassification(model_wrapper)\n",
        "        #\n",
        "        # Greedily swap words with \"Word Importance Ranking\".\n",
        "        #\n",
        "        search_method = GreedyWordSwapWIR(wir_method=\"delete\")\n",
        "\n",
        "        return Attack(goal_function, constraints, transformation, search_method)\n",
        "\n",
        "\n"
      ],
      "metadata": {
        "id": "Iy0MulBYsYnQ"
      },
      "execution_count": null,
      "outputs": []
    },
    {
      "cell_type": "code",
      "source": [
        "import textattack\n",
        "import random\n",
        "import numpy as np\n",
        "\n",
        "experiments = {\n",
        "    'simple_char_level_attack': [\n",
        "#        {\n",
        "#            'dataset': {'name': 'kinopoisk', 'url': 'zloelias/kinopoisk-reviews'},\n",
        "#            'model': ('cointegrated/rubert-tiny2', 'zloelias/rubert-tiny2-kinopoisk-reviews-finetuned-clf'),\n",
        "#            'language': ('ru', 'rus', 'russian'),\n",
        "#            'max_rate': np.linspace(0.1, 0.9, 9),\n",
        "#            'max_seq_len': 312,\n",
        "#            'columns': (['text'], 'labels'),\n",
        "#        },\n",
        "        {\n",
        "            'dataset': {'name': 'lenta', 'url': 'zloelias/lenta-ru'},\n",
        "            'model': ('cointegrated/rubert-tiny2', 'zloelias/rubert-tiny2-lenta-ru-finetuned-clf'),\n",
        "            'language': ('ru', 'rus', 'russian'),\n",
        "            'max_rate': np.linspace(0.1, 0.9, 9),\n",
        "            'max_seq_len': 312,\n",
        "            'columns': (['text'], 'labels'),\n",
        "        },\n",
        "#        {\n",
        "#            'dataset': {'name': 'ag_news', 'url': 'ag_news'},\n",
        "#            'model': ('bert-base-uncased', 'textattack/bert-base-uncased-ag-news'),\n",
        "#            'language': ('en', 'eng', 'english'),\n",
        "#            'max_rate': np.linspace(0.1, 0.9, 9),\n",
        "#            'max_seq_len': 512,\n",
        "#            'columns': (['text'], 'label'),\n",
        "#        },\n",
        "#        {\n",
        "#            'dataset': {'name': 'rotten_tomatoes', 'url': 'rotten_tomatoes'},\n",
        "#            'model': ('bert-base-uncased', 'textattack/bert-base-uncased-rotten-tomatoes'),\n",
        "#            'language': ('en', 'eng', 'english'),\n",
        "#            'max_rate': np.linspace(0.1, 0.9, 9),\n",
        "#            'max_seq_len': 512,\n",
        "#            'columns': (['text'], 'label'),\n",
        "#        },\n",
        "    ]\n",
        "}\n",
        "\n",
        "for attack_name in experiments.keys():\n",
        "    for attack_data in experiments[attack_name]:\n",
        "        dataset_name, dataset_url = [attack_data['dataset'][k] for k in attack_data['dataset'].keys()]\n",
        "        dataset_columns = attack_data['columns']\n",
        "        dataset = HuggingFaceDataset(dataset_url, None, 'test', dataset_columns=dataset_columns)\n",
        "\n",
        "        base_model_name, model_name = attack_data['model']\n",
        "        original_model = AutoModelForSequenceClassification.from_pretrained(model_name)\n",
        "        original_tokenizer = AutoTokenizer.from_pretrained(base_model_name)\n",
        "        model = HuggingFaceModelWrapper(original_model,original_tokenizer)\n",
        "\n",
        "        la, lan, language = attack_data['language']\n",
        "        for max_rate in attack_data['max_rate']:\n",
        "            experiment_result_dir = f'/content/drive/MyDrive/Colab Notebooks/final-project/experiments/{attack_name}/{dataset_name}/{max_rate}/'\n",
        "            print(experiment_result_dir)\n",
        "            attack = TextBuggerLi2018RU.build(model, max_rate, attack_data['max_seq_len'], language)\n",
        "\n",
        "            attack_args = textattack.AttackArgs(\n",
        "                num_examples=300, \n",
        "                log_to_csv=experiment_result_dir + \"log.csv\", \n",
        "                checkpoint_interval=100, \n",
        "                checkpoint_dir=experiment_result_dir + \"checkpoints\", \n",
        "                disable_stdout=True\n",
        "            )\n",
        "            attacker = textattack.Attacker(attack, dataset, attack_args)\n",
        "            attacker.attack_dataset()\n",
        "        #print(attack_data)\n",
        "        #print(model_name, model_url)"
      ],
      "metadata": {
        "colab": {
          "base_uri": "https://localhost:8080/",
          "height": 1000,
          "referenced_widgets": [
            "ca42ca714a47439999c338033a6db3a0",
            "6906113915e44ad6bb66c635f36ed35e",
            "4179649d03d645febf2a008651240631",
            "c5f9d8e6ceb04079a2dbd9f757f71b84",
            "66be25d189084b82b1245b890490b50a",
            "d9f31639e7f541aab7950a951e6d3e98",
            "88398ec04cfd46efb41fd90dc25d5133",
            "e0c430c158e545c6b1c95bcceab81108",
            "ee43a034d7ff4154bd321a2308d39144",
            "ebf965931391457fb8343d268b2ba980",
            "e2828105ae9040acb13a0fa97567faf0"
          ]
        },
        "id": "kM5p1Jai3fmA",
        "outputId": "e8c2ffec-b340-4f7d-86a3-81cc350d9593"
      },
      "execution_count": null,
      "outputs": [
        {
          "metadata": {
            "tags": null
          },
          "name": "stderr",
          "output_type": "stream",
          "text": [
            "Using custom data configuration zloelias___lenta-ru-dc5084b443d90e4e\n",
            "Reusing dataset parquet (/root/.cache/huggingface/datasets/parquet/zloelias___lenta-ru-dc5084b443d90e4e/0.0.0/1638526fd0e8d960534e2155dc54fdff8dce73851f21f031d2fb9c2cf757c121)\n"
          ]
        },
        {
          "data": {
            "application/vnd.jupyter.widget-view+json": {
              "model_id": "ca42ca714a47439999c338033a6db3a0",
              "version_major": 2,
              "version_minor": 0
            },
            "text/plain": [
              "  0%|          | 0/2 [00:00<?, ?it/s]"
            ]
          },
          "metadata": {},
          "output_type": "display_data"
        },
        {
          "metadata": {
            "tags": null
          },
          "name": "stderr",
          "output_type": "stream",
          "text": [
            "textattack: Loading \u001b[94mdatasets\u001b[0m dataset \u001b[94mzloelias/lenta-ru\u001b[0m, split \u001b[94mtest\u001b[0m.\n",
            "textattack: Unknown if model of class <class 'transformers.models.bert.modeling_bert.BertForSequenceClassification'> compatible with goal function <class 'textattack.goal_functions.classification.untargeted_classification.UntargetedClassification'>.\n"
          ]
        },
        {
          "metadata": {
            "tags": null
          },
          "name": "stdout",
          "output_type": "stream",
          "text": [
            "/content/drive/MyDrive/Colab Notebooks/final-project/experiments/simple_char_level_attack/lenta/0.1/\n"
          ]
        },
        {
          "metadata": {
            "tags": null
          },
          "name": "stderr",
          "output_type": "stream",
          "text": [
            "textattack: Logging to CSV at path /content/drive/MyDrive/Colab Notebooks/final-project/experiments/simple_char_level_attack/lenta/0.1/log.csv\n"
          ]
        },
        {
          "metadata": {
            "tags": null
          },
          "name": "stdout",
          "output_type": "stream",
          "text": [
            "Attack(\n",
            "  (search_method): GreedyWordSwapWIR(\n",
            "    (wir_method):  delete\n",
            "  )\n",
            "  (goal_function):  UntargetedClassification\n",
            "  (transformation):  CompositeTransformation(\n",
            "    (0): WordSwapRandomCharacterInsertion(\n",
            "        (random_one):  True\n",
            "      )\n",
            "    (1): WordSwapRandomCharacterDeletion(\n",
            "        (random_one):  True\n",
            "      )\n",
            "    (2): WordSwapNeighboringCharacterSwap(\n",
            "        (random_one):  True\n",
            "      )\n",
            "    (3): WordSwapHomoglyphSwap\n",
            "    (4): WordSwapQWERTY\n",
            "    )\n",
            "  (constraints): \n",
            "    (0): MultilingualUniversalSentenceEncoder(\n",
            "        (metric):  cosine\n",
            "        (threshold):  0.936338023\n",
            "        (window_size):  15\n",
            "        (skip_text_shorter_than_window):  True\n",
            "        (compare_against_original):  True\n",
            "      )\n",
            "    (1): RepeatModification\n",
            "    (2): StopwordModification\n",
            "    (3): MaxWordIndexModification(\n",
            "        (max_length):  312\n",
            "      )\n",
            "    (4): MaxModificationRate(\n",
            "        (max_rate):  0.1\n",
            "        (min_threshold):  1\n",
            "      )\n",
            "  (is_black_box):  True\n",
            ") \n",
            "\n"
          ]
        },
        {
          "metadata": {
            "tags": null
          },
          "name": "stderr",
          "output_type": "stream",
          "text": [
            "  0%|          | 0/300 [00:00<?, ?it/s]Using /tmp/tfhub_modules to cache modules.\n",
            "[Succeeded / Failed / Skipped / Total] 9 / 90 / 1 / 100:  33%|███▎      | 100/300 [17:12<34:24, 10.32s/it]textattack: Saving checkpoint under \"/content/drive/MyDrive/Colab Notebooks/final-project/experiments/simple_char_level_attack/lenta/0.1/checkpoints/1639432947797.ta.chkpt\" at 2021-12-13 22:02:27 after 100 attacks.\n"
          ]
        },
        {
          "metadata": {
            "tags": null
          },
          "name": "stdout",
          "output_type": "stream",
          "text": [
            "\n",
            "\n",
            "=============================================================================================================================\n",
            "=============================================================================================================================\n",
            "\n"
          ]
        },
        {
          "metadata": {
            "tags": null
          },
          "name": "stderr",
          "output_type": "stream",
          "text": [
            "[Succeeded / Failed / Skipped / Total] 19 / 180 / 1 / 200:  67%|██████▋   | 200/300 [31:36<15:48,  9.48s/it]textattack: Saving checkpoint under \"/content/drive/MyDrive/Colab Notebooks/final-project/experiments/simple_char_level_attack/lenta/0.1/checkpoints/1639433812032.ta.chkpt\" at 2021-12-13 22:16:52 after 200 attacks.\n"
          ]
        },
        {
          "metadata": {
            "tags": null
          },
          "name": "stdout",
          "output_type": "stream",
          "text": [
            "\n",
            "\n",
            "=============================================================================================================================\n",
            "=============================================================================================================================\n",
            "\n"
          ]
        },
        {
          "metadata": {
            "tags": null
          },
          "name": "stderr",
          "output_type": "stream",
          "text": [
            "[Succeeded / Failed / Skipped / Total] 38 / 256 / 6 / 300: 100%|██████████| 300/300 [43:53<00:00,  8.78s/it]textattack: Saving checkpoint under \"/content/drive/MyDrive/Colab Notebooks/final-project/experiments/simple_char_level_attack/lenta/0.1/checkpoints/1639434549008.ta.chkpt\" at 2021-12-13 22:29:09 after 300 attacks.\n",
            "[Succeeded / Failed / Skipped / Total] 38 / 256 / 6 / 300: 100%|██████████| 300/300 [43:53<00:00,  8.78s/it]"
          ]
        },
        {
          "metadata": {
            "tags": null
          },
          "name": "stdout",
          "output_type": "stream",
          "text": [
            "\n",
            "\n",
            "=============================================================================================================================\n",
            "=============================================================================================================================\n",
            "\n",
            "\n",
            "+-------------------------------+--------+\n",
            "| Attack Results                |        |\n",
            "+-------------------------------+--------+\n",
            "| Number of successful attacks: | 38     |\n",
            "| Number of failed attacks:     | 256    |\n",
            "| Number of skipped attacks:    | 6      |\n",
            "| Original accuracy:            | 98.0%  |\n",
            "| Accuracy under attack:        | 85.33% |\n",
            "| Attack success rate:          | 12.93% |\n",
            "| Average perturbed word %:     | 14.82% |\n",
            "| Average num. words per input: | 181.9  |\n",
            "| Avg num queries:              | 631.68 |\n",
            "+-------------------------------+--------+"
          ]
        },
        {
          "metadata": {
            "tags": null
          },
          "name": "stderr",
          "output_type": "stream",
          "text": [
            "\n",
            "textattack: Unknown if model of class <class 'transformers.models.bert.modeling_bert.BertForSequenceClassification'> compatible with goal function <class 'textattack.goal_functions.classification.untargeted_classification.UntargetedClassification'>.\n",
            "textattack: Logging to CSV at path /content/drive/MyDrive/Colab Notebooks/final-project/experiments/simple_char_level_attack/lenta/0.2/log.csv\n"
          ]
        },
        {
          "metadata": {
            "tags": null
          },
          "name": "stdout",
          "output_type": "stream",
          "text": [
            "\n",
            "/content/drive/MyDrive/Colab Notebooks/final-project/experiments/simple_char_level_attack/lenta/0.2/\n",
            "Attack(\n",
            "  (search_method): GreedyWordSwapWIR(\n",
            "    (wir_method):  delete\n",
            "  )\n",
            "  (goal_function):  UntargetedClassification\n",
            "  (transformation):  CompositeTransformation(\n",
            "    (0): WordSwapRandomCharacterInsertion(\n",
            "        (random_one):  True\n",
            "      )\n",
            "    (1): WordSwapRandomCharacterDeletion(\n",
            "        (random_one):  True\n",
            "      )\n",
            "    (2): WordSwapNeighboringCharacterSwap(\n",
            "        (random_one):  True\n",
            "      )\n",
            "    (3): WordSwapHomoglyphSwap\n",
            "    (4): WordSwapQWERTY\n",
            "    )\n",
            "  (constraints): \n",
            "    (0): MultilingualUniversalSentenceEncoder(\n",
            "        (metric):  cosine\n",
            "        (threshold):  0.936338023\n",
            "        (window_size):  15\n",
            "        (skip_text_shorter_than_window):  True\n",
            "        (compare_against_original):  True\n",
            "      )\n",
            "    (1): RepeatModification\n",
            "    (2): StopwordModification\n",
            "    (3): MaxWordIndexModification(\n",
            "        (max_length):  312\n",
            "      )\n",
            "    (4): MaxModificationRate(\n",
            "        (max_rate):  0.2\n",
            "        (min_threshold):  1\n",
            "      )\n",
            "  (is_black_box):  True\n",
            ") \n",
            "\n"
          ]
        },
        {
          "metadata": {
            "tags": null
          },
          "name": "stderr",
          "output_type": "stream",
          "text": [
            "[Succeeded / Failed / Skipped / Total] 13 / 86 / 1 / 100:  33%|███▎      | 100/300 [19:22<38:44, 11.62s/it]textattack: Saving checkpoint under \"/content/drive/MyDrive/Colab Notebooks/final-project/experiments/simple_char_level_attack/lenta/0.2/checkpoints/1639435711224.ta.chkpt\" at 2021-12-13 22:48:31 after 100 attacks.\n"
          ]
        },
        {
          "metadata": {
            "tags": null
          },
          "name": "stdout",
          "output_type": "stream",
          "text": [
            "\n",
            "\n",
            "=============================================================================================================================\n",
            "=============================================================================================================================\n",
            "\n"
          ]
        },
        {
          "metadata": {
            "tags": null
          },
          "name": "stderr",
          "output_type": "stream",
          "text": [
            "[Succeeded / Failed / Skipped / Total] 31 / 168 / 1 / 200:  67%|██████▋   | 200/300 [35:49<17:54, 10.75s/it]textattack: Saving checkpoint under \"/content/drive/MyDrive/Colab Notebooks/final-project/experiments/simple_char_level_attack/lenta/0.2/checkpoints/1639436698271.ta.chkpt\" at 2021-12-13 23:04:58 after 200 attacks.\n"
          ]
        },
        {
          "metadata": {
            "tags": null
          },
          "name": "stdout",
          "output_type": "stream",
          "text": [
            "\n",
            "\n",
            "=============================================================================================================================\n",
            "=============================================================================================================================\n",
            "\n"
          ]
        },
        {
          "metadata": {
            "tags": null
          },
          "name": "stderr",
          "output_type": "stream",
          "text": [
            "[Succeeded / Failed / Skipped / Total] 51 / 243 / 6 / 300: 100%|██████████| 300/300 [49:26<00:00,  9.89s/it]textattack: Saving checkpoint under \"/content/drive/MyDrive/Colab Notebooks/final-project/experiments/simple_char_level_attack/lenta/0.2/checkpoints/1639437515763.ta.chkpt\" at 2021-12-13 23:18:35 after 300 attacks.\n",
            "[Succeeded / Failed / Skipped / Total] 51 / 243 / 6 / 300: 100%|██████████| 300/300 [49:26<00:00,  9.89s/it]"
          ]
        },
        {
          "metadata": {
            "tags": null
          },
          "name": "stdout",
          "output_type": "stream",
          "text": [
            "\n",
            "\n",
            "=============================================================================================================================\n",
            "=============================================================================================================================\n",
            "\n",
            "\n",
            "+-------------------------------+--------+\n",
            "| Attack Results                |        |\n",
            "+-------------------------------+--------+\n",
            "| Number of successful attacks: | 51     |\n",
            "| Number of failed attacks:     | 243    |\n",
            "| Number of skipped attacks:    | 6      |\n",
            "| Original accuracy:            | 98.0%  |\n",
            "| Accuracy under attack:        | 81.0%  |\n",
            "| Attack success rate:          | 17.35% |\n",
            "| Average perturbed word %:     | 19.19% |\n",
            "| Average num. words per input: | 181.9  |\n",
            "| Avg num queries:              | 709.74 |\n",
            "+-------------------------------+--------+"
          ]
        },
        {
          "metadata": {
            "tags": null
          },
          "name": "stderr",
          "output_type": "stream",
          "text": [
            "\n",
            "textattack: Unknown if model of class <class 'transformers.models.bert.modeling_bert.BertForSequenceClassification'> compatible with goal function <class 'textattack.goal_functions.classification.untargeted_classification.UntargetedClassification'>.\n",
            "textattack: Logging to CSV at path /content/drive/MyDrive/Colab Notebooks/final-project/experiments/simple_char_level_attack/lenta/0.30000000000000004/log.csv\n"
          ]
        },
        {
          "metadata": {
            "tags": null
          },
          "name": "stdout",
          "output_type": "stream",
          "text": [
            "\n",
            "/content/drive/MyDrive/Colab Notebooks/final-project/experiments/simple_char_level_attack/lenta/0.30000000000000004/\n",
            "Attack(\n",
            "  (search_method): GreedyWordSwapWIR(\n",
            "    (wir_method):  delete\n",
            "  )\n",
            "  (goal_function):  UntargetedClassification\n",
            "  (transformation):  CompositeTransformation(\n",
            "    (0): WordSwapRandomCharacterInsertion(\n",
            "        (random_one):  True\n",
            "      )\n",
            "    (1): WordSwapRandomCharacterDeletion(\n",
            "        (random_one):  True\n",
            "      )\n",
            "    (2): WordSwapNeighboringCharacterSwap(\n",
            "        (random_one):  True\n",
            "      )\n",
            "    (3): WordSwapHomoglyphSwap\n",
            "    (4): WordSwapQWERTY\n",
            "    )\n",
            "  (constraints): \n",
            "    (0): MultilingualUniversalSentenceEncoder(\n",
            "        (metric):  cosine\n",
            "        (threshold):  0.936338023\n",
            "        (window_size):  15\n",
            "        (skip_text_shorter_than_window):  True\n",
            "        (compare_against_original):  True\n",
            "      )\n",
            "    (1): RepeatModification\n",
            "    (2): StopwordModification\n",
            "    (3): MaxWordIndexModification(\n",
            "        (max_length):  312\n",
            "      )\n",
            "    (4): MaxModificationRate(\n",
            "        (max_rate):  0.30000000000000004\n",
            "        (min_threshold):  1\n",
            "      )\n",
            "  (is_black_box):  True\n",
            ") \n",
            "\n"
          ]
        },
        {
          "metadata": {
            "tags": null
          },
          "name": "stderr",
          "output_type": "stream",
          "text": [
            "[Succeeded / Failed / Skipped / Total] 12 / 87 / 1 / 100:  33%|███▎      | 100/300 [19:24<38:48, 11.64s/it]textattack: Saving checkpoint under \"/content/drive/MyDrive/Colab Notebooks/final-project/experiments/simple_char_level_attack/lenta/0.30000000000000004/checkpoints/1639438680291.ta.chkpt\" at 2021-12-13 23:38:00 after 100 attacks.\n"
          ]
        },
        {
          "metadata": {
            "tags": null
          },
          "name": "stdout",
          "output_type": "stream",
          "text": [
            "\n",
            "\n",
            "=============================================================================================================================\n",
            "=============================================================================================================================\n",
            "\n"
          ]
        },
        {
          "metadata": {
            "tags": null
          },
          "name": "stderr",
          "output_type": "stream",
          "text": [
            "[Succeeded / Failed / Skipped / Total] 27 / 172 / 1 / 200:  67%|██████▋   | 200/300 [36:03<18:01, 10.82s/it]textattack: Saving checkpoint under \"/content/drive/MyDrive/Colab Notebooks/final-project/experiments/simple_char_level_attack/lenta/0.30000000000000004/checkpoints/1639439678961.ta.chkpt\" at 2021-12-13 23:54:38 after 200 attacks.\n"
          ]
        },
        {
          "metadata": {
            "tags": null
          },
          "name": "stdout",
          "output_type": "stream",
          "text": [
            "\n",
            "\n",
            "=============================================================================================================================\n",
            "=============================================================================================================================\n",
            "\n"
          ]
        },
        {
          "metadata": {
            "tags": null
          },
          "name": "stderr",
          "output_type": "stream",
          "text": [
            "[Succeeded / Failed / Skipped / Total] 49 / 245 / 6 / 300: 100%|██████████| 300/300 [49:27<00:00,  9.89s/it]textattack: Saving checkpoint under \"/content/drive/MyDrive/Colab Notebooks/final-project/experiments/simple_char_level_attack/lenta/0.30000000000000004/checkpoints/1639440483744.ta.chkpt\" at 2021-12-14 00:08:03 after 300 attacks.\n",
            "[Succeeded / Failed / Skipped / Total] 49 / 245 / 6 / 300: 100%|██████████| 300/300 [49:27<00:00,  9.89s/it]"
          ]
        },
        {
          "metadata": {
            "tags": null
          },
          "name": "stdout",
          "output_type": "stream",
          "text": [
            "\n",
            "\n",
            "=============================================================================================================================\n",
            "=============================================================================================================================\n",
            "\n",
            "\n",
            "+-------------------------------+--------+\n",
            "| Attack Results                |        |\n",
            "+-------------------------------+--------+\n",
            "| Number of successful attacks: | 49     |\n",
            "| Number of failed attacks:     | 245    |\n",
            "| Number of skipped attacks:    | 6      |\n",
            "| Original accuracy:            | 98.0%  |\n",
            "| Accuracy under attack:        | 81.67% |\n",
            "| Attack success rate:          | 16.67% |\n",
            "| Average perturbed word %:     | 21.03% |\n",
            "| Average num. words per input: | 181.9  |\n",
            "| Avg num queries:              | 712.81 |\n",
            "+-------------------------------+--------+"
          ]
        },
        {
          "metadata": {
            "tags": null
          },
          "name": "stderr",
          "output_type": "stream",
          "text": [
            "\n",
            "textattack: Unknown if model of class <class 'transformers.models.bert.modeling_bert.BertForSequenceClassification'> compatible with goal function <class 'textattack.goal_functions.classification.untargeted_classification.UntargetedClassification'>.\n",
            "textattack: Logging to CSV at path /content/drive/MyDrive/Colab Notebooks/final-project/experiments/simple_char_level_attack/lenta/0.4/log.csv\n"
          ]
        },
        {
          "metadata": {
            "tags": null
          },
          "name": "stdout",
          "output_type": "stream",
          "text": [
            "\n",
            "/content/drive/MyDrive/Colab Notebooks/final-project/experiments/simple_char_level_attack/lenta/0.4/\n",
            "Attack(\n",
            "  (search_method): GreedyWordSwapWIR(\n",
            "    (wir_method):  delete\n",
            "  )\n",
            "  (goal_function):  UntargetedClassification\n",
            "  (transformation):  CompositeTransformation(\n",
            "    (0): WordSwapRandomCharacterInsertion(\n",
            "        (random_one):  True\n",
            "      )\n",
            "    (1): WordSwapRandomCharacterDeletion(\n",
            "        (random_one):  True\n",
            "      )\n",
            "    (2): WordSwapNeighboringCharacterSwap(\n",
            "        (random_one):  True\n",
            "      )\n",
            "    (3): WordSwapHomoglyphSwap\n",
            "    (4): WordSwapQWERTY\n",
            "    )\n",
            "  (constraints): \n",
            "    (0): MultilingualUniversalSentenceEncoder(\n",
            "        (metric):  cosine\n",
            "        (threshold):  0.936338023\n",
            "        (window_size):  15\n",
            "        (skip_text_shorter_than_window):  True\n",
            "        (compare_against_original):  True\n",
            "      )\n",
            "    (1): RepeatModification\n",
            "    (2): StopwordModification\n",
            "    (3): MaxWordIndexModification(\n",
            "        (max_length):  312\n",
            "      )\n",
            "    (4): MaxModificationRate(\n",
            "        (max_rate):  0.4\n",
            "        (min_threshold):  1\n",
            "      )\n",
            "  (is_black_box):  True\n",
            ") \n",
            "\n"
          ]
        },
        {
          "metadata": {
            "tags": null
          },
          "name": "stderr",
          "output_type": "stream",
          "text": [
            "[Succeeded / Failed / Skipped / Total] 12 / 87 / 1 / 100:  33%|███▎      | 100/300 [19:07<38:15, 11.48s/it]textattack: Saving checkpoint under \"/content/drive/MyDrive/Colab Notebooks/final-project/experiments/simple_char_level_attack/lenta/0.4/checkpoints/1639441631781.ta.chkpt\" at 2021-12-14 00:27:11 after 100 attacks.\n"
          ]
        },
        {
          "metadata": {
            "tags": null
          },
          "name": "stdout",
          "output_type": "stream",
          "text": [
            "\n",
            "\n",
            "=============================================================================================================================\n",
            "=============================================================================================================================\n",
            "\n"
          ]
        },
        {
          "metadata": {
            "tags": null
          },
          "name": "stderr",
          "output_type": "stream",
          "text": [
            "[Succeeded / Failed / Skipped / Total] 27 / 172 / 1 / 200:  67%|██████▋   | 200/300 [35:33<17:46, 10.67s/it]textattack: Saving checkpoint under \"/content/drive/MyDrive/Colab Notebooks/final-project/experiments/simple_char_level_attack/lenta/0.4/checkpoints/1639442617761.ta.chkpt\" at 2021-12-14 00:43:37 after 200 attacks.\n"
          ]
        },
        {
          "metadata": {
            "tags": null
          },
          "name": "stdout",
          "output_type": "stream",
          "text": [
            "\n",
            "\n",
            "=============================================================================================================================\n",
            "=============================================================================================================================\n",
            "\n"
          ]
        },
        {
          "metadata": {
            "tags": null
          },
          "name": "stderr",
          "output_type": "stream",
          "text": [
            "[Succeeded / Failed / Skipped / Total] 49 / 245 / 6 / 300: 100%|██████████| 300/300 [49:01<00:00,  9.80s/it]textattack: Saving checkpoint under \"/content/drive/MyDrive/Colab Notebooks/final-project/experiments/simple_char_level_attack/lenta/0.4/checkpoints/1639443425367.ta.chkpt\" at 2021-12-14 00:57:05 after 300 attacks.\n",
            "[Succeeded / Failed / Skipped / Total] 49 / 245 / 6 / 300: 100%|██████████| 300/300 [49:01<00:00,  9.81s/it]"
          ]
        },
        {
          "metadata": {
            "tags": null
          },
          "name": "stdout",
          "output_type": "stream",
          "text": [
            "\n",
            "\n",
            "=============================================================================================================================\n",
            "=============================================================================================================================\n",
            "\n",
            "\n",
            "+-------------------------------+--------+\n",
            "| Attack Results                |        |\n",
            "+-------------------------------+--------+\n",
            "| Number of successful attacks: | 49     |\n",
            "| Number of failed attacks:     | 245    |\n",
            "| Number of skipped attacks:    | 6      |\n",
            "| Original accuracy:            | 98.0%  |\n",
            "| Accuracy under attack:        | 81.67% |\n",
            "| Attack success rate:          | 16.67% |\n",
            "| Average perturbed word %:     | 21.03% |\n",
            "| Average num. words per input: | 181.9  |\n",
            "| Avg num queries:              | 712.81 |\n",
            "+-------------------------------+--------+"
          ]
        },
        {
          "metadata": {
            "tags": null
          },
          "name": "stderr",
          "output_type": "stream",
          "text": [
            "\n",
            "textattack: Unknown if model of class <class 'transformers.models.bert.modeling_bert.BertForSequenceClassification'> compatible with goal function <class 'textattack.goal_functions.classification.untargeted_classification.UntargetedClassification'>.\n",
            "textattack: Logging to CSV at path /content/drive/MyDrive/Colab Notebooks/final-project/experiments/simple_char_level_attack/lenta/0.5/log.csv\n"
          ]
        },
        {
          "metadata": {
            "tags": null
          },
          "name": "stdout",
          "output_type": "stream",
          "text": [
            "\n",
            "/content/drive/MyDrive/Colab Notebooks/final-project/experiments/simple_char_level_attack/lenta/0.5/\n",
            "Attack(\n",
            "  (search_method): GreedyWordSwapWIR(\n",
            "    (wir_method):  delete\n",
            "  )\n",
            "  (goal_function):  UntargetedClassification\n",
            "  (transformation):  CompositeTransformation(\n",
            "    (0): WordSwapRandomCharacterInsertion(\n",
            "        (random_one):  True\n",
            "      )\n",
            "    (1): WordSwapRandomCharacterDeletion(\n",
            "        (random_one):  True\n",
            "      )\n",
            "    (2): WordSwapNeighboringCharacterSwap(\n",
            "        (random_one):  True\n",
            "      )\n",
            "    (3): WordSwapHomoglyphSwap\n",
            "    (4): WordSwapQWERTY\n",
            "    )\n",
            "  (constraints): \n",
            "    (0): MultilingualUniversalSentenceEncoder(\n",
            "        (metric):  cosine\n",
            "        (threshold):  0.936338023\n",
            "        (window_size):  15\n",
            "        (skip_text_shorter_than_window):  True\n",
            "        (compare_against_original):  True\n",
            "      )\n",
            "    (1): RepeatModification\n",
            "    (2): StopwordModification\n",
            "    (3): MaxWordIndexModification(\n",
            "        (max_length):  312\n",
            "      )\n",
            "    (4): MaxModificationRate(\n",
            "        (max_rate):  0.5\n",
            "        (min_threshold):  1\n",
            "      )\n",
            "  (is_black_box):  True\n",
            ") \n",
            "\n"
          ]
        },
        {
          "metadata": {
            "tags": null
          },
          "name": "stderr",
          "output_type": "stream",
          "text": [
            "[Succeeded / Failed / Skipped / Total] 12 / 87 / 1 / 100:  33%|███▎      | 100/300 [19:19<38:38, 11.59s/it]textattack: Saving checkpoint under \"/content/drive/MyDrive/Colab Notebooks/final-project/experiments/simple_char_level_attack/lenta/0.5/checkpoints/1639444584624.ta.chkpt\" at 2021-12-14 01:16:24 after 100 attacks.\n"
          ]
        },
        {
          "metadata": {
            "tags": null
          },
          "name": "stdout",
          "output_type": "stream",
          "text": [
            "\n",
            "\n",
            "=============================================================================================================================\n",
            "=============================================================================================================================\n",
            "\n"
          ]
        },
        {
          "metadata": {
            "tags": null
          },
          "name": "stderr",
          "output_type": "stream",
          "text": [
            "[Succeeded / Failed / Skipped / Total] 27 / 172 / 1 / 200:  67%|██████▋   | 200/300 [36:00<18:00, 10.80s/it]textattack: Saving checkpoint under \"/content/drive/MyDrive/Colab Notebooks/final-project/experiments/simple_char_level_attack/lenta/0.5/checkpoints/1639445586185.ta.chkpt\" at 2021-12-14 01:33:06 after 200 attacks.\n"
          ]
        },
        {
          "metadata": {
            "tags": null
          },
          "name": "stdout",
          "output_type": "stream",
          "text": [
            "\n",
            "\n",
            "=============================================================================================================================\n",
            "=============================================================================================================================\n",
            "\n"
          ]
        },
        {
          "metadata": {
            "tags": null
          },
          "name": "stderr",
          "output_type": "stream",
          "text": [
            "[Succeeded / Failed / Skipped / Total] 49 / 245 / 6 / 300: 100%|██████████| 300/300 [49:28<00:00,  9.90s/it]textattack: Saving checkpoint under \"/content/drive/MyDrive/Colab Notebooks/final-project/experiments/simple_char_level_attack/lenta/0.5/checkpoints/1639446394395.ta.chkpt\" at 2021-12-14 01:46:34 after 300 attacks.\n",
            "[Succeeded / Failed / Skipped / Total] 49 / 245 / 6 / 300: 100%|██████████| 300/300 [49:28<00:00,  9.90s/it]"
          ]
        },
        {
          "metadata": {
            "tags": null
          },
          "name": "stdout",
          "output_type": "stream",
          "text": [
            "\n",
            "\n",
            "=============================================================================================================================\n",
            "=============================================================================================================================\n",
            "\n",
            "\n",
            "+-------------------------------+--------+\n",
            "| Attack Results                |        |\n",
            "+-------------------------------+--------+\n",
            "| Number of successful attacks: | 49     |\n",
            "| Number of failed attacks:     | 245    |\n",
            "| Number of skipped attacks:    | 6      |\n",
            "| Original accuracy:            | 98.0%  |\n",
            "| Accuracy under attack:        | 81.67% |\n",
            "| Attack success rate:          | 16.67% |\n",
            "| Average perturbed word %:     | 21.03% |\n",
            "| Average num. words per input: | 181.9  |\n",
            "| Avg num queries:              | 712.8  |\n",
            "+-------------------------------+--------+"
          ]
        },
        {
          "metadata": {
            "tags": null
          },
          "name": "stderr",
          "output_type": "stream",
          "text": [
            "\n",
            "textattack: Unknown if model of class <class 'transformers.models.bert.modeling_bert.BertForSequenceClassification'> compatible with goal function <class 'textattack.goal_functions.classification.untargeted_classification.UntargetedClassification'>.\n",
            "textattack: Logging to CSV at path /content/drive/MyDrive/Colab Notebooks/final-project/experiments/simple_char_level_attack/lenta/0.6/log.csv\n"
          ]
        },
        {
          "metadata": {
            "tags": null
          },
          "name": "stdout",
          "output_type": "stream",
          "text": [
            "\n",
            "/content/drive/MyDrive/Colab Notebooks/final-project/experiments/simple_char_level_attack/lenta/0.6/\n",
            "Attack(\n",
            "  (search_method): GreedyWordSwapWIR(\n",
            "    (wir_method):  delete\n",
            "  )\n",
            "  (goal_function):  UntargetedClassification\n",
            "  (transformation):  CompositeTransformation(\n",
            "    (0): WordSwapRandomCharacterInsertion(\n",
            "        (random_one):  True\n",
            "      )\n",
            "    (1): WordSwapRandomCharacterDeletion(\n",
            "        (random_one):  True\n",
            "      )\n",
            "    (2): WordSwapNeighboringCharacterSwap(\n",
            "        (random_one):  True\n",
            "      )\n",
            "    (3): WordSwapHomoglyphSwap\n",
            "    (4): WordSwapQWERTY\n",
            "    )\n",
            "  (constraints): \n",
            "    (0): MultilingualUniversalSentenceEncoder(\n",
            "        (metric):  cosine\n",
            "        (threshold):  0.936338023\n",
            "        (window_size):  15\n",
            "        (skip_text_shorter_than_window):  True\n",
            "        (compare_against_original):  True\n",
            "      )\n",
            "    (1): RepeatModification\n",
            "    (2): StopwordModification\n",
            "    (3): MaxWordIndexModification(\n",
            "        (max_length):  312\n",
            "      )\n",
            "    (4): MaxModificationRate(\n",
            "        (max_rate):  0.6\n",
            "        (min_threshold):  1\n",
            "      )\n",
            "  (is_black_box):  True\n",
            ") \n",
            "\n"
          ]
        },
        {
          "metadata": {
            "tags": null
          },
          "name": "stderr",
          "output_type": "stream",
          "text": [
            "[Succeeded / Failed / Skipped / Total] 12 / 87 / 1 / 100:  33%|███▎      | 100/300 [19:17<38:35, 11.58s/it]textattack: Saving checkpoint under \"/content/drive/MyDrive/Colab Notebooks/final-project/experiments/simple_char_level_attack/lenta/0.6/checkpoints/1639447552156.ta.chkpt\" at 2021-12-14 02:05:52 after 100 attacks.\n"
          ]
        },
        {
          "metadata": {
            "tags": null
          },
          "name": "stdout",
          "output_type": "stream",
          "text": [
            "\n",
            "\n",
            "=============================================================================================================================\n",
            "=============================================================================================================================\n",
            "\n"
          ]
        },
        {
          "metadata": {
            "tags": null
          },
          "name": "stderr",
          "output_type": "stream",
          "text": [
            "[Succeeded / Failed / Skipped / Total] 27 / 172 / 1 / 200:  67%|██████▋   | 200/300 [35:51<17:55, 10.76s/it]textattack: Saving checkpoint under \"/content/drive/MyDrive/Colab Notebooks/final-project/experiments/simple_char_level_attack/lenta/0.6/checkpoints/1639448546338.ta.chkpt\" at 2021-12-14 02:22:26 after 200 attacks.\n"
          ]
        },
        {
          "metadata": {
            "tags": null
          },
          "name": "stdout",
          "output_type": "stream",
          "text": [
            "\n",
            "\n",
            "=============================================================================================================================\n",
            "=============================================================================================================================\n",
            "\n"
          ]
        },
        {
          "metadata": {
            "tags": null
          },
          "name": "stderr",
          "output_type": "stream",
          "text": [
            "[Succeeded / Failed / Skipped / Total] 49 / 245 / 6 / 300: 100%|██████████| 300/300 [49:23<00:00,  9.88s/it]textattack: Saving checkpoint under \"/content/drive/MyDrive/Colab Notebooks/final-project/experiments/simple_char_level_attack/lenta/0.6/checkpoints/1639449358193.ta.chkpt\" at 2021-12-14 02:35:58 after 300 attacks.\n",
            "[Succeeded / Failed / Skipped / Total] 49 / 245 / 6 / 300: 100%|██████████| 300/300 [49:23<00:00,  9.88s/it]"
          ]
        },
        {
          "metadata": {
            "tags": null
          },
          "name": "stdout",
          "output_type": "stream",
          "text": [
            "\n",
            "\n",
            "=============================================================================================================================\n",
            "=============================================================================================================================\n",
            "\n",
            "\n",
            "+-------------------------------+--------+\n",
            "| Attack Results                |        |\n",
            "+-------------------------------+--------+\n",
            "| Number of successful attacks: | 49     |\n",
            "| Number of failed attacks:     | 245    |\n",
            "| Number of skipped attacks:    | 6      |\n",
            "| Original accuracy:            | 98.0%  |\n",
            "| Accuracy under attack:        | 81.67% |\n",
            "| Attack success rate:          | 16.67% |\n",
            "| Average perturbed word %:     | 21.03% |\n",
            "| Average num. words per input: | 181.9  |\n",
            "| Avg num queries:              | 712.81 |\n",
            "+-------------------------------+--------+"
          ]
        },
        {
          "metadata": {
            "tags": null
          },
          "name": "stderr",
          "output_type": "stream",
          "text": [
            "\n",
            "textattack: Unknown if model of class <class 'transformers.models.bert.modeling_bert.BertForSequenceClassification'> compatible with goal function <class 'textattack.goal_functions.classification.untargeted_classification.UntargetedClassification'>.\n",
            "textattack: Logging to CSV at path /content/drive/MyDrive/Colab Notebooks/final-project/experiments/simple_char_level_attack/lenta/0.7000000000000001/log.csv\n"
          ]
        },
        {
          "metadata": {
            "tags": null
          },
          "name": "stdout",
          "output_type": "stream",
          "text": [
            "\n",
            "/content/drive/MyDrive/Colab Notebooks/final-project/experiments/simple_char_level_attack/lenta/0.7000000000000001/\n",
            "Attack(\n",
            "  (search_method): GreedyWordSwapWIR(\n",
            "    (wir_method):  delete\n",
            "  )\n",
            "  (goal_function):  UntargetedClassification\n",
            "  (transformation):  CompositeTransformation(\n",
            "    (0): WordSwapRandomCharacterInsertion(\n",
            "        (random_one):  True\n",
            "      )\n",
            "    (1): WordSwapRandomCharacterDeletion(\n",
            "        (random_one):  True\n",
            "      )\n",
            "    (2): WordSwapNeighboringCharacterSwap(\n",
            "        (random_one):  True\n",
            "      )\n",
            "    (3): WordSwapHomoglyphSwap\n",
            "    (4): WordSwapQWERTY\n",
            "    )\n",
            "  (constraints): \n",
            "    (0): MultilingualUniversalSentenceEncoder(\n",
            "        (metric):  cosine\n",
            "        (threshold):  0.936338023\n",
            "        (window_size):  15\n",
            "        (skip_text_shorter_than_window):  True\n",
            "        (compare_against_original):  True\n",
            "      )\n",
            "    (1): RepeatModification\n",
            "    (2): StopwordModification\n",
            "    (3): MaxWordIndexModification(\n",
            "        (max_length):  312\n",
            "      )\n",
            "    (4): MaxModificationRate(\n",
            "        (max_rate):  0.7000000000000001\n",
            "        (min_threshold):  1\n",
            "      )\n",
            "  (is_black_box):  True\n",
            ") \n",
            "\n"
          ]
        },
        {
          "metadata": {
            "tags": null
          },
          "name": "stderr",
          "output_type": "stream",
          "text": [
            "[Succeeded / Failed / Skipped / Total] 12 / 87 / 1 / 100:  33%|███▎      | 100/300 [19:19<38:39, 11.60s/it]textattack: Saving checkpoint under \"/content/drive/MyDrive/Colab Notebooks/final-project/experiments/simple_char_level_attack/lenta/0.7000000000000001/checkpoints/1639450518003.ta.chkpt\" at 2021-12-14 02:55:18 after 100 attacks.\n"
          ]
        },
        {
          "metadata": {
            "tags": null
          },
          "name": "stdout",
          "output_type": "stream",
          "text": [
            "\n",
            "\n",
            "=============================================================================================================================\n",
            "=============================================================================================================================\n",
            "\n"
          ]
        },
        {
          "output_type": "stream",
          "name": "stderr",
          "text": [
            "[Succeeded / Failed / Skipped / Total] 14 / 94 / 1 / 109:  37%|███▋      | 110/300 [21:23<36:57, 11.67s/it]"
          ]
        }
      ]
    },
    {
      "cell_type": "code",
      "source": [
        ""
      ],
      "metadata": {
        "id": "LnzGiWBgQuTd"
      },
      "execution_count": null,
      "outputs": []
    },
    {
      "cell_type": "code",
      "source": [
        ""
      ],
      "metadata": {
        "id": "TqDFU-vTQuRZ"
      },
      "execution_count": null,
      "outputs": []
    },
    {
      "cell_type": "code",
      "source": [
        ""
      ],
      "metadata": {
        "id": "cy_4wlxhQuNM"
      },
      "execution_count": null,
      "outputs": []
    },
    {
      "cell_type": "code",
      "source": [
        ""
      ],
      "metadata": {
        "id": "6d0s3BU8QuKm"
      },
      "execution_count": null,
      "outputs": []
    },
    {
      "cell_type": "code",
      "source": [
        ""
      ],
      "metadata": {
        "id": "aUaSKCWnQuFq"
      },
      "execution_count": null,
      "outputs": []
    },
    {
      "cell_type": "code",
      "source": [
        ""
      ],
      "metadata": {
        "id": "DG2979zQQt5n"
      },
      "execution_count": null,
      "outputs": []
    }
  ]
}