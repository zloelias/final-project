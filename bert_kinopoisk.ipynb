{
  "nbformat": 4,
  "nbformat_minor": 0,
  "metadata": {
    "accelerator": "GPU",
    "colab": {
      "name": "bert_kinopoisk.ipynb",
      "provenance": [],
      "collapsed_sections": [],
      "machine_shape": "hm",
      "background_execution": "on",
      "include_colab_link": true
    },
    "kernelspec": {
      "display_name": "Python 3 (ipykernel)",
      "language": "python",
      "name": "python3"
    },
    "language_info": {
      "codemirror_mode": {
        "name": "ipython",
        "version": 3
      },
      "file_extension": ".py",
      "mimetype": "text/x-python",
      "name": "python",
      "nbconvert_exporter": "python",
      "pygments_lexer": "ipython3",
      "version": "3.7.9"
    },
    "widgets": {
      "application/vnd.jupyter.widget-state+json": {
        "cc01df4ebf4e4ec090ba63b074ce8fdf": {
          "model_module": "@jupyter-widgets/controls",
          "model_name": "HBoxModel",
          "model_module_version": "1.5.0",
          "state": {
            "_view_name": "HBoxView",
            "_dom_classes": [],
            "_model_name": "HBoxModel",
            "_view_module": "@jupyter-widgets/controls",
            "_model_module_version": "1.5.0",
            "_view_count": null,
            "_view_module_version": "1.5.0",
            "box_style": "",
            "layout": "IPY_MODEL_0df5d18038e146c5b0aaf87f9ff467e1",
            "_model_module": "@jupyter-widgets/controls",
            "children": [
              "IPY_MODEL_92e43a51e54e486e804e810641d23a40",
              "IPY_MODEL_788cda81fbd5448180e10189fba94b88",
              "IPY_MODEL_edeecbe429dc4b51a78591a9ee615a38"
            ]
          }
        },
        "0df5d18038e146c5b0aaf87f9ff467e1": {
          "model_module": "@jupyter-widgets/base",
          "model_name": "LayoutModel",
          "model_module_version": "1.2.0",
          "state": {
            "_view_name": "LayoutView",
            "grid_template_rows": null,
            "right": null,
            "justify_content": null,
            "_view_module": "@jupyter-widgets/base",
            "overflow": null,
            "_model_module_version": "1.2.0",
            "_view_count": null,
            "flex_flow": null,
            "width": null,
            "min_width": null,
            "border": null,
            "align_items": null,
            "bottom": null,
            "_model_module": "@jupyter-widgets/base",
            "top": null,
            "grid_column": null,
            "overflow_y": null,
            "overflow_x": null,
            "grid_auto_flow": null,
            "grid_area": null,
            "grid_template_columns": null,
            "flex": null,
            "_model_name": "LayoutModel",
            "justify_items": null,
            "grid_row": null,
            "max_height": null,
            "align_content": null,
            "visibility": null,
            "align_self": null,
            "height": null,
            "min_height": null,
            "padding": null,
            "grid_auto_rows": null,
            "grid_gap": null,
            "max_width": null,
            "order": null,
            "_view_module_version": "1.2.0",
            "grid_template_areas": null,
            "object_position": null,
            "object_fit": null,
            "grid_auto_columns": null,
            "margin": null,
            "display": null,
            "left": null
          }
        },
        "92e43a51e54e486e804e810641d23a40": {
          "model_module": "@jupyter-widgets/controls",
          "model_name": "HTMLModel",
          "model_module_version": "1.5.0",
          "state": {
            "_view_name": "HTMLView",
            "style": "IPY_MODEL_ee1980d4e20d4474b7765ecdddb6746a",
            "_dom_classes": [],
            "description": "",
            "_model_name": "HTMLModel",
            "placeholder": "​",
            "_view_module": "@jupyter-widgets/controls",
            "_model_module_version": "1.5.0",
            "value": "100%",
            "_view_count": null,
            "_view_module_version": "1.5.0",
            "description_tooltip": null,
            "_model_module": "@jupyter-widgets/controls",
            "layout": "IPY_MODEL_462f2c666a684dc4a9693f1d9ae21fbb"
          }
        },
        "788cda81fbd5448180e10189fba94b88": {
          "model_module": "@jupyter-widgets/controls",
          "model_name": "FloatProgressModel",
          "model_module_version": "1.5.0",
          "state": {
            "_view_name": "ProgressView",
            "style": "IPY_MODEL_5ae637f65d1444a18b92ccbd15aaee4d",
            "_dom_classes": [],
            "description": "",
            "_model_name": "FloatProgressModel",
            "bar_style": "success",
            "max": 2,
            "_view_module": "@jupyter-widgets/controls",
            "_model_module_version": "1.5.0",
            "value": 2,
            "_view_count": null,
            "_view_module_version": "1.5.0",
            "orientation": "horizontal",
            "min": 0,
            "description_tooltip": null,
            "_model_module": "@jupyter-widgets/controls",
            "layout": "IPY_MODEL_93bbde66577b42769d8d328f303af448"
          }
        },
        "edeecbe429dc4b51a78591a9ee615a38": {
          "model_module": "@jupyter-widgets/controls",
          "model_name": "HTMLModel",
          "model_module_version": "1.5.0",
          "state": {
            "_view_name": "HTMLView",
            "style": "IPY_MODEL_d22d3baff49648b887b0ae00a6e94048",
            "_dom_classes": [],
            "description": "",
            "_model_name": "HTMLModel",
            "placeholder": "​",
            "_view_module": "@jupyter-widgets/controls",
            "_model_module_version": "1.5.0",
            "value": " 2/2 [00:00&lt;00:00, 71.24it/s]",
            "_view_count": null,
            "_view_module_version": "1.5.0",
            "description_tooltip": null,
            "_model_module": "@jupyter-widgets/controls",
            "layout": "IPY_MODEL_b6893eeccf004fd79c6ca2b7dfc1cfe4"
          }
        },
        "ee1980d4e20d4474b7765ecdddb6746a": {
          "model_module": "@jupyter-widgets/controls",
          "model_name": "DescriptionStyleModel",
          "model_module_version": "1.5.0",
          "state": {
            "_view_name": "StyleView",
            "_model_name": "DescriptionStyleModel",
            "description_width": "",
            "_view_module": "@jupyter-widgets/base",
            "_model_module_version": "1.5.0",
            "_view_count": null,
            "_view_module_version": "1.2.0",
            "_model_module": "@jupyter-widgets/controls"
          }
        },
        "462f2c666a684dc4a9693f1d9ae21fbb": {
          "model_module": "@jupyter-widgets/base",
          "model_name": "LayoutModel",
          "model_module_version": "1.2.0",
          "state": {
            "_view_name": "LayoutView",
            "grid_template_rows": null,
            "right": null,
            "justify_content": null,
            "_view_module": "@jupyter-widgets/base",
            "overflow": null,
            "_model_module_version": "1.2.0",
            "_view_count": null,
            "flex_flow": null,
            "width": null,
            "min_width": null,
            "border": null,
            "align_items": null,
            "bottom": null,
            "_model_module": "@jupyter-widgets/base",
            "top": null,
            "grid_column": null,
            "overflow_y": null,
            "overflow_x": null,
            "grid_auto_flow": null,
            "grid_area": null,
            "grid_template_columns": null,
            "flex": null,
            "_model_name": "LayoutModel",
            "justify_items": null,
            "grid_row": null,
            "max_height": null,
            "align_content": null,
            "visibility": null,
            "align_self": null,
            "height": null,
            "min_height": null,
            "padding": null,
            "grid_auto_rows": null,
            "grid_gap": null,
            "max_width": null,
            "order": null,
            "_view_module_version": "1.2.0",
            "grid_template_areas": null,
            "object_position": null,
            "object_fit": null,
            "grid_auto_columns": null,
            "margin": null,
            "display": null,
            "left": null
          }
        },
        "5ae637f65d1444a18b92ccbd15aaee4d": {
          "model_module": "@jupyter-widgets/controls",
          "model_name": "ProgressStyleModel",
          "model_module_version": "1.5.0",
          "state": {
            "_view_name": "StyleView",
            "_model_name": "ProgressStyleModel",
            "description_width": "",
            "_view_module": "@jupyter-widgets/base",
            "_model_module_version": "1.5.0",
            "_view_count": null,
            "_view_module_version": "1.2.0",
            "bar_color": null,
            "_model_module": "@jupyter-widgets/controls"
          }
        },
        "93bbde66577b42769d8d328f303af448": {
          "model_module": "@jupyter-widgets/base",
          "model_name": "LayoutModel",
          "model_module_version": "1.2.0",
          "state": {
            "_view_name": "LayoutView",
            "grid_template_rows": null,
            "right": null,
            "justify_content": null,
            "_view_module": "@jupyter-widgets/base",
            "overflow": null,
            "_model_module_version": "1.2.0",
            "_view_count": null,
            "flex_flow": null,
            "width": null,
            "min_width": null,
            "border": null,
            "align_items": null,
            "bottom": null,
            "_model_module": "@jupyter-widgets/base",
            "top": null,
            "grid_column": null,
            "overflow_y": null,
            "overflow_x": null,
            "grid_auto_flow": null,
            "grid_area": null,
            "grid_template_columns": null,
            "flex": null,
            "_model_name": "LayoutModel",
            "justify_items": null,
            "grid_row": null,
            "max_height": null,
            "align_content": null,
            "visibility": null,
            "align_self": null,
            "height": null,
            "min_height": null,
            "padding": null,
            "grid_auto_rows": null,
            "grid_gap": null,
            "max_width": null,
            "order": null,
            "_view_module_version": "1.2.0",
            "grid_template_areas": null,
            "object_position": null,
            "object_fit": null,
            "grid_auto_columns": null,
            "margin": null,
            "display": null,
            "left": null
          }
        },
        "d22d3baff49648b887b0ae00a6e94048": {
          "model_module": "@jupyter-widgets/controls",
          "model_name": "DescriptionStyleModel",
          "model_module_version": "1.5.0",
          "state": {
            "_view_name": "StyleView",
            "_model_name": "DescriptionStyleModel",
            "description_width": "",
            "_view_module": "@jupyter-widgets/base",
            "_model_module_version": "1.5.0",
            "_view_count": null,
            "_view_module_version": "1.2.0",
            "_model_module": "@jupyter-widgets/controls"
          }
        },
        "b6893eeccf004fd79c6ca2b7dfc1cfe4": {
          "model_module": "@jupyter-widgets/base",
          "model_name": "LayoutModel",
          "model_module_version": "1.2.0",
          "state": {
            "_view_name": "LayoutView",
            "grid_template_rows": null,
            "right": null,
            "justify_content": null,
            "_view_module": "@jupyter-widgets/base",
            "overflow": null,
            "_model_module_version": "1.2.0",
            "_view_count": null,
            "flex_flow": null,
            "width": null,
            "min_width": null,
            "border": null,
            "align_items": null,
            "bottom": null,
            "_model_module": "@jupyter-widgets/base",
            "top": null,
            "grid_column": null,
            "overflow_y": null,
            "overflow_x": null,
            "grid_auto_flow": null,
            "grid_area": null,
            "grid_template_columns": null,
            "flex": null,
            "_model_name": "LayoutModel",
            "justify_items": null,
            "grid_row": null,
            "max_height": null,
            "align_content": null,
            "visibility": null,
            "align_self": null,
            "height": null,
            "min_height": null,
            "padding": null,
            "grid_auto_rows": null,
            "grid_gap": null,
            "max_width": null,
            "order": null,
            "_view_module_version": "1.2.0",
            "grid_template_areas": null,
            "object_position": null,
            "object_fit": null,
            "grid_auto_columns": null,
            "margin": null,
            "display": null,
            "left": null
          }
        }
      }
    }
  },
  "cells": [
    {
      "cell_type": "markdown",
      "metadata": {
        "id": "view-in-github",
        "colab_type": "text"
      },
      "source": [
        "<a href=\"https://colab.research.google.com/github/zloelias/final-project/blob/master/bert_kinopoisk.ipynb\" target=\"_parent\"><img src=\"https://colab.research.google.com/assets/colab-badge.svg\" alt=\"Open In Colab\"/></a>"
      ]
    },
    {
      "cell_type": "code",
      "metadata": {
        "colab": {
          "base_uri": "https://localhost:8080/"
        },
        "id": "MNk3pH1oea_i",
        "outputId": "6e54d7e3-551a-4a9c-c7c0-300859199129"
      },
      "source": [
        "from google.colab import drive\n",
        "drive.mount('/content/drive')"
      ],
      "execution_count": 1,
      "outputs": [
        {
          "output_type": "stream",
          "name": "stdout",
          "text": [
            "Drive already mounted at /content/drive; to attempt to forcibly remount, call drive.mount(\"/content/drive\", force_remount=True).\n"
          ]
        }
      ]
    },
    {
      "cell_type": "code",
      "metadata": {
        "id": "IDhmKOwQubra",
        "colab": {
          "base_uri": "https://localhost:8080/"
        },
        "outputId": "1670f95c-e005-435e-b22d-49c5bf239421"
      },
      "source": [
        "! pip install tensorflow_text\n",
        "! pip install textattack['tensorflow']\n",
        "! pip install datasets --upgrade\n"
      ],
      "execution_count": 2,
      "outputs": [
        {
          "output_type": "stream",
          "name": "stdout",
          "text": [
            "Requirement already satisfied: tensorflow_text in /usr/local/lib/python3.7/dist-packages (2.5.0)\n",
            "Requirement already satisfied: tensorflow<2.6,>=2.5.0 in /usr/local/lib/python3.7/dist-packages (from tensorflow_text) (2.5.0)\n",
            "Requirement already satisfied: tensorflow-hub>=0.8.0 in /usr/local/lib/python3.7/dist-packages (from tensorflow_text) (0.12.0)\n",
            "Requirement already satisfied: wrapt~=1.12.1 in /usr/local/lib/python3.7/dist-packages (from tensorflow<2.6,>=2.5.0->tensorflow_text) (1.12.1)\n",
            "Requirement already satisfied: opt-einsum~=3.3.0 in /usr/local/lib/python3.7/dist-packages (from tensorflow<2.6,>=2.5.0->tensorflow_text) (3.3.0)\n",
            "Requirement already satisfied: numpy~=1.19.2 in /usr/local/lib/python3.7/dist-packages (from tensorflow<2.6,>=2.5.0->tensorflow_text) (1.19.5)\n",
            "Requirement already satisfied: h5py~=3.1.0 in /usr/local/lib/python3.7/dist-packages (from tensorflow<2.6,>=2.5.0->tensorflow_text) (3.1.0)\n",
            "Requirement already satisfied: flatbuffers~=1.12.0 in /usr/local/lib/python3.7/dist-packages (from tensorflow<2.6,>=2.5.0->tensorflow_text) (1.12)\n",
            "Requirement already satisfied: termcolor~=1.1.0 in /usr/local/lib/python3.7/dist-packages (from tensorflow<2.6,>=2.5.0->tensorflow_text) (1.1.0)\n",
            "Requirement already satisfied: astunparse~=1.6.3 in /usr/local/lib/python3.7/dist-packages (from tensorflow<2.6,>=2.5.0->tensorflow_text) (1.6.3)\n",
            "Requirement already satisfied: grpcio~=1.34.0 in /usr/local/lib/python3.7/dist-packages (from tensorflow<2.6,>=2.5.0->tensorflow_text) (1.34.1)\n",
            "Requirement already satisfied: keras-preprocessing~=1.1.2 in /usr/local/lib/python3.7/dist-packages (from tensorflow<2.6,>=2.5.0->tensorflow_text) (1.1.2)\n",
            "Requirement already satisfied: absl-py~=0.10 in /usr/local/lib/python3.7/dist-packages (from tensorflow<2.6,>=2.5.0->tensorflow_text) (0.12.0)\n",
            "Requirement already satisfied: google-pasta~=0.2 in /usr/local/lib/python3.7/dist-packages (from tensorflow<2.6,>=2.5.0->tensorflow_text) (0.2.0)\n",
            "Requirement already satisfied: typing-extensions~=3.7.4 in /usr/local/lib/python3.7/dist-packages (from tensorflow<2.6,>=2.5.0->tensorflow_text) (3.7.4.3)\n",
            "Requirement already satisfied: six~=1.15.0 in /usr/local/lib/python3.7/dist-packages (from tensorflow<2.6,>=2.5.0->tensorflow_text) (1.15.0)\n",
            "Requirement already satisfied: tensorboard~=2.5 in /usr/local/lib/python3.7/dist-packages (from tensorflow<2.6,>=2.5.0->tensorflow_text) (2.7.0)\n",
            "Requirement already satisfied: gast==0.4.0 in /usr/local/lib/python3.7/dist-packages (from tensorflow<2.6,>=2.5.0->tensorflow_text) (0.4.0)\n",
            "Requirement already satisfied: keras-nightly~=2.5.0.dev in /usr/local/lib/python3.7/dist-packages (from tensorflow<2.6,>=2.5.0->tensorflow_text) (2.5.0.dev2021032900)\n",
            "Requirement already satisfied: wheel~=0.35 in /usr/local/lib/python3.7/dist-packages (from tensorflow<2.6,>=2.5.0->tensorflow_text) (0.37.0)\n",
            "Requirement already satisfied: tensorflow-estimator<2.6.0,>=2.5.0rc0 in /usr/local/lib/python3.7/dist-packages (from tensorflow<2.6,>=2.5.0->tensorflow_text) (2.5.0)\n",
            "Requirement already satisfied: protobuf>=3.9.2 in /usr/local/lib/python3.7/dist-packages (from tensorflow<2.6,>=2.5.0->tensorflow_text) (3.17.3)\n",
            "Requirement already satisfied: cached-property in /usr/local/lib/python3.7/dist-packages (from h5py~=3.1.0->tensorflow<2.6,>=2.5.0->tensorflow_text) (1.5.2)\n",
            "Requirement already satisfied: tensorboard-data-server<0.7.0,>=0.6.0 in /usr/local/lib/python3.7/dist-packages (from tensorboard~=2.5->tensorflow<2.6,>=2.5.0->tensorflow_text) (0.6.1)\n",
            "Requirement already satisfied: markdown>=2.6.8 in /usr/local/lib/python3.7/dist-packages (from tensorboard~=2.5->tensorflow<2.6,>=2.5.0->tensorflow_text) (3.3.6)\n",
            "Requirement already satisfied: requests<3,>=2.21.0 in /usr/local/lib/python3.7/dist-packages (from tensorboard~=2.5->tensorflow<2.6,>=2.5.0->tensorflow_text) (2.23.0)\n",
            "Requirement already satisfied: werkzeug>=0.11.15 in /usr/local/lib/python3.7/dist-packages (from tensorboard~=2.5->tensorflow<2.6,>=2.5.0->tensorflow_text) (1.0.1)\n",
            "Requirement already satisfied: setuptools>=41.0.0 in /usr/local/lib/python3.7/dist-packages (from tensorboard~=2.5->tensorflow<2.6,>=2.5.0->tensorflow_text) (57.4.0)\n",
            "Requirement already satisfied: google-auth<3,>=1.6.3 in /usr/local/lib/python3.7/dist-packages (from tensorboard~=2.5->tensorflow<2.6,>=2.5.0->tensorflow_text) (1.35.0)\n",
            "Requirement already satisfied: google-auth-oauthlib<0.5,>=0.4.1 in /usr/local/lib/python3.7/dist-packages (from tensorboard~=2.5->tensorflow<2.6,>=2.5.0->tensorflow_text) (0.4.6)\n",
            "Requirement already satisfied: tensorboard-plugin-wit>=1.6.0 in /usr/local/lib/python3.7/dist-packages (from tensorboard~=2.5->tensorflow<2.6,>=2.5.0->tensorflow_text) (1.8.0)\n",
            "Requirement already satisfied: pyasn1-modules>=0.2.1 in /usr/local/lib/python3.7/dist-packages (from google-auth<3,>=1.6.3->tensorboard~=2.5->tensorflow<2.6,>=2.5.0->tensorflow_text) (0.2.8)\n",
            "Requirement already satisfied: rsa<5,>=3.1.4 in /usr/local/lib/python3.7/dist-packages (from google-auth<3,>=1.6.3->tensorboard~=2.5->tensorflow<2.6,>=2.5.0->tensorflow_text) (4.8)\n",
            "Requirement already satisfied: cachetools<5.0,>=2.0.0 in /usr/local/lib/python3.7/dist-packages (from google-auth<3,>=1.6.3->tensorboard~=2.5->tensorflow<2.6,>=2.5.0->tensorflow_text) (4.2.4)\n",
            "Requirement already satisfied: requests-oauthlib>=0.7.0 in /usr/local/lib/python3.7/dist-packages (from google-auth-oauthlib<0.5,>=0.4.1->tensorboard~=2.5->tensorflow<2.6,>=2.5.0->tensorflow_text) (1.3.0)\n",
            "Requirement already satisfied: importlib-metadata>=4.4 in /usr/local/lib/python3.7/dist-packages (from markdown>=2.6.8->tensorboard~=2.5->tensorflow<2.6,>=2.5.0->tensorflow_text) (4.8.2)\n",
            "Requirement already satisfied: zipp>=0.5 in /usr/local/lib/python3.7/dist-packages (from importlib-metadata>=4.4->markdown>=2.6.8->tensorboard~=2.5->tensorflow<2.6,>=2.5.0->tensorflow_text) (3.6.0)\n",
            "Requirement already satisfied: pyasn1<0.5.0,>=0.4.6 in /usr/local/lib/python3.7/dist-packages (from pyasn1-modules>=0.2.1->google-auth<3,>=1.6.3->tensorboard~=2.5->tensorflow<2.6,>=2.5.0->tensorflow_text) (0.4.8)\n",
            "Requirement already satisfied: chardet<4,>=3.0.2 in /usr/local/lib/python3.7/dist-packages (from requests<3,>=2.21.0->tensorboard~=2.5->tensorflow<2.6,>=2.5.0->tensorflow_text) (3.0.4)\n",
            "Requirement already satisfied: urllib3!=1.25.0,!=1.25.1,<1.26,>=1.21.1 in /usr/local/lib/python3.7/dist-packages (from requests<3,>=2.21.0->tensorboard~=2.5->tensorflow<2.6,>=2.5.0->tensorflow_text) (1.24.3)\n",
            "Requirement already satisfied: idna<3,>=2.5 in /usr/local/lib/python3.7/dist-packages (from requests<3,>=2.21.0->tensorboard~=2.5->tensorflow<2.6,>=2.5.0->tensorflow_text) (2.10)\n",
            "Requirement already satisfied: certifi>=2017.4.17 in /usr/local/lib/python3.7/dist-packages (from requests<3,>=2.21.0->tensorboard~=2.5->tensorflow<2.6,>=2.5.0->tensorflow_text) (2021.10.8)\n",
            "Requirement already satisfied: oauthlib>=3.0.0 in /usr/local/lib/python3.7/dist-packages (from requests-oauthlib>=0.7.0->google-auth-oauthlib<0.5,>=0.4.1->tensorboard~=2.5->tensorflow<2.6,>=2.5.0->tensorflow_text) (3.1.1)\n",
            "Requirement already satisfied: textattack[tensorflow] in /usr/local/lib/python3.7/dist-packages (0.3.4)\n",
            "Requirement already satisfied: language-tool-python in /usr/local/lib/python3.7/dist-packages (from textattack[tensorflow]) (2.6.2)\n",
            "Requirement already satisfied: lemminflect in /usr/local/lib/python3.7/dist-packages (from textattack[tensorflow]) (0.2.2)\n",
            "Requirement already satisfied: pandas>=1.0.1 in /usr/local/lib/python3.7/dist-packages (from textattack[tensorflow]) (1.1.5)\n",
            "Requirement already satisfied: scipy>=1.4.1 in /usr/local/lib/python3.7/dist-packages (from textattack[tensorflow]) (1.4.1)\n",
            "Requirement already satisfied: editdistance in /usr/local/lib/python3.7/dist-packages (from textattack[tensorflow]) (0.5.3)\n",
            "Requirement already satisfied: datasets in /usr/local/lib/python3.7/dist-packages (from textattack[tensorflow]) (1.16.1)\n",
            "Collecting tqdm<4.50.0,>=4.27\n",
            "  Using cached tqdm-4.49.0-py2.py3-none-any.whl (69 kB)\n",
            "Requirement already satisfied: terminaltables in /usr/local/lib/python3.7/dist-packages (from textattack[tensorflow]) (3.1.10)\n",
            "Requirement already satisfied: torch!=1.8,>=1.7.0 in /usr/local/lib/python3.7/dist-packages (from textattack[tensorflow]) (1.10.0+cu111)\n",
            "Requirement already satisfied: PySocks!=1.5.7,>=1.5.6 in /usr/local/lib/python3.7/dist-packages (from textattack[tensorflow]) (1.7.1)\n",
            "Requirement already satisfied: bert-score>=0.3.5 in /usr/local/lib/python3.7/dist-packages (from textattack[tensorflow]) (0.3.11)\n",
            "Requirement already satisfied: num2words in /usr/local/lib/python3.7/dist-packages (from textattack[tensorflow]) (0.5.10)\n",
            "Requirement already satisfied: flair in /usr/local/lib/python3.7/dist-packages (from textattack[tensorflow]) (0.10)\n",
            "Requirement already satisfied: filelock in /usr/local/lib/python3.7/dist-packages (from textattack[tensorflow]) (3.4.0)\n",
            "Requirement already satisfied: numpy>=1.19.2 in /usr/local/lib/python3.7/dist-packages (from textattack[tensorflow]) (1.19.5)\n",
            "Requirement already satisfied: word2number in /usr/local/lib/python3.7/dist-packages (from textattack[tensorflow]) (1.1)\n",
            "Requirement already satisfied: nltk in /usr/local/lib/python3.7/dist-packages (from textattack[tensorflow]) (3.2.5)\n",
            "Requirement already satisfied: lru-dict in /usr/local/lib/python3.7/dist-packages (from textattack[tensorflow]) (1.1.7)\n",
            "Requirement already satisfied: more-itertools in /usr/local/lib/python3.7/dist-packages (from textattack[tensorflow]) (8.8.0)\n",
            "Requirement already satisfied: transformers>=3.3.0 in /usr/local/lib/python3.7/dist-packages (from textattack[tensorflow]) (4.13.0)\n",
            "Requirement already satisfied: tensorflow==2.5.0 in /usr/local/lib/python3.7/dist-packages (from textattack[tensorflow]) (2.5.0)\n",
            "Requirement already satisfied: tensorflow-hub in /usr/local/lib/python3.7/dist-packages (from textattack[tensorflow]) (0.12.0)\n",
            "Requirement already satisfied: tensorboardX in /usr/local/lib/python3.7/dist-packages (from textattack[tensorflow]) (2.4.1)\n",
            "Requirement already satisfied: tensorflow-estimator==2.5.0 in /usr/local/lib/python3.7/dist-packages (from textattack[tensorflow]) (2.5.0)\n",
            "Requirement already satisfied: tensorflow-text>=2 in /usr/local/lib/python3.7/dist-packages (from textattack[tensorflow]) (2.5.0)\n",
            "Requirement already satisfied: wrapt~=1.12.1 in /usr/local/lib/python3.7/dist-packages (from tensorflow==2.5.0->textattack[tensorflow]) (1.12.1)\n",
            "Requirement already satisfied: six~=1.15.0 in /usr/local/lib/python3.7/dist-packages (from tensorflow==2.5.0->textattack[tensorflow]) (1.15.0)\n",
            "Requirement already satisfied: gast==0.4.0 in /usr/local/lib/python3.7/dist-packages (from tensorflow==2.5.0->textattack[tensorflow]) (0.4.0)\n",
            "Requirement already satisfied: termcolor~=1.1.0 in /usr/local/lib/python3.7/dist-packages (from tensorflow==2.5.0->textattack[tensorflow]) (1.1.0)\n",
            "Requirement already satisfied: wheel~=0.35 in /usr/local/lib/python3.7/dist-packages (from tensorflow==2.5.0->textattack[tensorflow]) (0.37.0)\n",
            "Requirement already satisfied: absl-py~=0.10 in /usr/local/lib/python3.7/dist-packages (from tensorflow==2.5.0->textattack[tensorflow]) (0.12.0)\n",
            "Requirement already satisfied: typing-extensions~=3.7.4 in /usr/local/lib/python3.7/dist-packages (from tensorflow==2.5.0->textattack[tensorflow]) (3.7.4.3)\n",
            "Requirement already satisfied: protobuf>=3.9.2 in /usr/local/lib/python3.7/dist-packages (from tensorflow==2.5.0->textattack[tensorflow]) (3.17.3)\n",
            "Requirement already satisfied: keras-nightly~=2.5.0.dev in /usr/local/lib/python3.7/dist-packages (from tensorflow==2.5.0->textattack[tensorflow]) (2.5.0.dev2021032900)\n",
            "Requirement already satisfied: tensorboard~=2.5 in /usr/local/lib/python3.7/dist-packages (from tensorflow==2.5.0->textattack[tensorflow]) (2.7.0)\n",
            "Requirement already satisfied: h5py~=3.1.0 in /usr/local/lib/python3.7/dist-packages (from tensorflow==2.5.0->textattack[tensorflow]) (3.1.0)\n",
            "Requirement already satisfied: flatbuffers~=1.12.0 in /usr/local/lib/python3.7/dist-packages (from tensorflow==2.5.0->textattack[tensorflow]) (1.12)\n",
            "Requirement already satisfied: astunparse~=1.6.3 in /usr/local/lib/python3.7/dist-packages (from tensorflow==2.5.0->textattack[tensorflow]) (1.6.3)\n",
            "Requirement already satisfied: opt-einsum~=3.3.0 in /usr/local/lib/python3.7/dist-packages (from tensorflow==2.5.0->textattack[tensorflow]) (3.3.0)\n",
            "Requirement already satisfied: grpcio~=1.34.0 in /usr/local/lib/python3.7/dist-packages (from tensorflow==2.5.0->textattack[tensorflow]) (1.34.1)\n",
            "Requirement already satisfied: google-pasta~=0.2 in /usr/local/lib/python3.7/dist-packages (from tensorflow==2.5.0->textattack[tensorflow]) (0.2.0)\n",
            "Requirement already satisfied: keras-preprocessing~=1.1.2 in /usr/local/lib/python3.7/dist-packages (from tensorflow==2.5.0->textattack[tensorflow]) (1.1.2)\n",
            "Requirement already satisfied: requests in /usr/local/lib/python3.7/dist-packages (from bert-score>=0.3.5->textattack[tensorflow]) (2.23.0)\n",
            "Requirement already satisfied: matplotlib in /usr/local/lib/python3.7/dist-packages (from bert-score>=0.3.5->textattack[tensorflow]) (3.2.2)\n",
            "Requirement already satisfied: packaging>=20.9 in /usr/local/lib/python3.7/dist-packages (from bert-score>=0.3.5->textattack[tensorflow]) (21.3)\n",
            "Requirement already satisfied: cached-property in /usr/local/lib/python3.7/dist-packages (from h5py~=3.1.0->tensorflow==2.5.0->textattack[tensorflow]) (1.5.2)\n",
            "Requirement already satisfied: pyparsing!=3.0.5,>=2.0.2 in /usr/local/lib/python3.7/dist-packages (from packaging>=20.9->bert-score>=0.3.5->textattack[tensorflow]) (3.0.6)\n",
            "Requirement already satisfied: pytz>=2017.2 in /usr/local/lib/python3.7/dist-packages (from pandas>=1.0.1->textattack[tensorflow]) (2018.9)\n",
            "Requirement already satisfied: python-dateutil>=2.7.3 in /usr/local/lib/python3.7/dist-packages (from pandas>=1.0.1->textattack[tensorflow]) (2.8.2)\n",
            "Requirement already satisfied: setuptools>=41.0.0 in /usr/local/lib/python3.7/dist-packages (from tensorboard~=2.5->tensorflow==2.5.0->textattack[tensorflow]) (57.4.0)\n",
            "Requirement already satisfied: tensorboard-data-server<0.7.0,>=0.6.0 in /usr/local/lib/python3.7/dist-packages (from tensorboard~=2.5->tensorflow==2.5.0->textattack[tensorflow]) (0.6.1)\n",
            "Requirement already satisfied: tensorboard-plugin-wit>=1.6.0 in /usr/local/lib/python3.7/dist-packages (from tensorboard~=2.5->tensorflow==2.5.0->textattack[tensorflow]) (1.8.0)\n",
            "Requirement already satisfied: google-auth<3,>=1.6.3 in /usr/local/lib/python3.7/dist-packages (from tensorboard~=2.5->tensorflow==2.5.0->textattack[tensorflow]) (1.35.0)\n",
            "Requirement already satisfied: markdown>=2.6.8 in /usr/local/lib/python3.7/dist-packages (from tensorboard~=2.5->tensorflow==2.5.0->textattack[tensorflow]) (3.3.6)\n",
            "Requirement already satisfied: google-auth-oauthlib<0.5,>=0.4.1 in /usr/local/lib/python3.7/dist-packages (from tensorboard~=2.5->tensorflow==2.5.0->textattack[tensorflow]) (0.4.6)\n",
            "Requirement already satisfied: werkzeug>=0.11.15 in /usr/local/lib/python3.7/dist-packages (from tensorboard~=2.5->tensorflow==2.5.0->textattack[tensorflow]) (1.0.1)\n",
            "Requirement already satisfied: pyasn1-modules>=0.2.1 in /usr/local/lib/python3.7/dist-packages (from google-auth<3,>=1.6.3->tensorboard~=2.5->tensorflow==2.5.0->textattack[tensorflow]) (0.2.8)\n",
            "Requirement already satisfied: cachetools<5.0,>=2.0.0 in /usr/local/lib/python3.7/dist-packages (from google-auth<3,>=1.6.3->tensorboard~=2.5->tensorflow==2.5.0->textattack[tensorflow]) (4.2.4)\n",
            "Requirement already satisfied: rsa<5,>=3.1.4 in /usr/local/lib/python3.7/dist-packages (from google-auth<3,>=1.6.3->tensorboard~=2.5->tensorflow==2.5.0->textattack[tensorflow]) (4.8)\n",
            "Requirement already satisfied: requests-oauthlib>=0.7.0 in /usr/local/lib/python3.7/dist-packages (from google-auth-oauthlib<0.5,>=0.4.1->tensorboard~=2.5->tensorflow==2.5.0->textattack[tensorflow]) (1.3.0)\n",
            "Requirement already satisfied: importlib-metadata>=4.4 in /usr/local/lib/python3.7/dist-packages (from markdown>=2.6.8->tensorboard~=2.5->tensorflow==2.5.0->textattack[tensorflow]) (4.8.2)\n",
            "Requirement already satisfied: zipp>=0.5 in /usr/local/lib/python3.7/dist-packages (from importlib-metadata>=4.4->markdown>=2.6.8->tensorboard~=2.5->tensorflow==2.5.0->textattack[tensorflow]) (3.6.0)\n",
            "Requirement already satisfied: pyasn1<0.5.0,>=0.4.6 in /usr/local/lib/python3.7/dist-packages (from pyasn1-modules>=0.2.1->google-auth<3,>=1.6.3->tensorboard~=2.5->tensorflow==2.5.0->textattack[tensorflow]) (0.4.8)\n",
            "Requirement already satisfied: certifi>=2017.4.17 in /usr/local/lib/python3.7/dist-packages (from requests->bert-score>=0.3.5->textattack[tensorflow]) (2021.10.8)\n",
            "Requirement already satisfied: idna<3,>=2.5 in /usr/local/lib/python3.7/dist-packages (from requests->bert-score>=0.3.5->textattack[tensorflow]) (2.10)\n",
            "Requirement already satisfied: urllib3!=1.25.0,!=1.25.1,<1.26,>=1.21.1 in /usr/local/lib/python3.7/dist-packages (from requests->bert-score>=0.3.5->textattack[tensorflow]) (1.24.3)\n",
            "Requirement already satisfied: chardet<4,>=3.0.2 in /usr/local/lib/python3.7/dist-packages (from requests->bert-score>=0.3.5->textattack[tensorflow]) (3.0.4)\n",
            "Requirement already satisfied: oauthlib>=3.0.0 in /usr/local/lib/python3.7/dist-packages (from requests-oauthlib>=0.7.0->google-auth-oauthlib<0.5,>=0.4.1->tensorboard~=2.5->tensorflow==2.5.0->textattack[tensorflow]) (3.1.1)\n",
            "Requirement already satisfied: tokenizers<0.11,>=0.10.1 in /usr/local/lib/python3.7/dist-packages (from transformers>=3.3.0->textattack[tensorflow]) (0.10.3)\n",
            "Requirement already satisfied: sacremoses in /usr/local/lib/python3.7/dist-packages (from transformers>=3.3.0->textattack[tensorflow]) (0.0.46)\n",
            "Requirement already satisfied: regex!=2019.12.17 in /usr/local/lib/python3.7/dist-packages (from transformers>=3.3.0->textattack[tensorflow]) (2019.12.20)\n",
            "Requirement already satisfied: pyyaml>=5.1 in /usr/local/lib/python3.7/dist-packages (from transformers>=3.3.0->textattack[tensorflow]) (6.0)\n",
            "Requirement already satisfied: huggingface-hub<1.0,>=0.1.0 in /usr/local/lib/python3.7/dist-packages (from transformers>=3.3.0->textattack[tensorflow]) (0.2.1)\n",
            "Collecting datasets\n",
            "  Using cached datasets-1.16.0-py3-none-any.whl (298 kB)\n",
            "  Using cached datasets-1.15.1-py3-none-any.whl (290 kB)\n",
            "  Using cached datasets-1.15.0-py3-none-any.whl (290 kB)\n",
            "  Using cached datasets-1.14.0-py3-none-any.whl (290 kB)\n",
            "  Using cached datasets-1.13.3-py3-none-any.whl (287 kB)\n",
            "  Using cached datasets-1.13.2-py3-none-any.whl (287 kB)\n",
            "  Using cached datasets-1.13.1-py3-none-any.whl (287 kB)\n",
            "  Using cached datasets-1.13.0-py3-none-any.whl (285 kB)\n",
            "  Using cached datasets-1.12.1-py3-none-any.whl (270 kB)\n",
            "  Using cached datasets-1.12.0-py3-none-any.whl (269 kB)\n",
            "  Using cached datasets-1.11.0-py3-none-any.whl (264 kB)\n",
            "Requirement already satisfied: xxhash in /usr/local/lib/python3.7/dist-packages (from datasets->textattack[tensorflow]) (2.0.2)\n",
            "Requirement already satisfied: fsspec>=2021.05.0 in /usr/local/lib/python3.7/dist-packages (from datasets->textattack[tensorflow]) (2021.11.1)\n",
            "Requirement already satisfied: multiprocess in /usr/local/lib/python3.7/dist-packages (from datasets->textattack[tensorflow]) (0.70.12.2)\n",
            "Requirement already satisfied: pyarrow!=4.0.0,>=1.0.0 in /usr/local/lib/python3.7/dist-packages (from datasets->textattack[tensorflow]) (3.0.0)\n",
            "  Using cached datasets-1.10.2-py3-none-any.whl (542 kB)\n",
            "  Using cached datasets-1.10.1-py3-none-any.whl (542 kB)\n",
            "  Using cached datasets-1.10.0-py3-none-any.whl (542 kB)\n",
            "  Using cached datasets-1.9.0-py3-none-any.whl (262 kB)\n",
            "  Using cached datasets-1.8.0-py3-none-any.whl (237 kB)\n",
            "  Using cached datasets-1.7.0-py3-none-any.whl (234 kB)\n",
            "  Using cached datasets-1.6.2-py3-none-any.whl (221 kB)\n",
            "  Using cached datasets-1.6.1-py3-none-any.whl (220 kB)\n",
            "  Using cached datasets-1.6.0-py3-none-any.whl (202 kB)\n",
            "  Using cached datasets-1.5.0-py3-none-any.whl (192 kB)\n",
            "  Using cached datasets-1.4.1-py3-none-any.whl (186 kB)\n",
            "  Using cached datasets-1.4.0-py3-none-any.whl (186 kB)\n",
            "  Using cached datasets-1.3.0-py3-none-any.whl (181 kB)\n",
            "  Using cached datasets-1.2.1-py3-none-any.whl (159 kB)\n",
            "Requirement already satisfied: dill in /usr/local/lib/python3.7/dist-packages (from datasets->textattack[tensorflow]) (0.3.4)\n",
            "Requirement already satisfied: lxml in /usr/local/lib/python3.7/dist-packages (from flair->textattack[tensorflow]) (4.2.6)\n",
            "Requirement already satisfied: segtok>=1.5.7 in /usr/local/lib/python3.7/dist-packages (from flair->textattack[tensorflow]) (1.5.10)\n",
            "Requirement already satisfied: konoha<5.0.0,>=4.0.0 in /usr/local/lib/python3.7/dist-packages (from flair->textattack[tensorflow]) (4.6.3)\n",
            "Requirement already satisfied: conllu>=4.0 in /usr/local/lib/python3.7/dist-packages (from flair->textattack[tensorflow]) (4.4.1)\n",
            "Requirement already satisfied: wikipedia-api in /usr/local/lib/python3.7/dist-packages (from flair->textattack[tensorflow]) (0.5.4)\n",
            "Requirement already satisfied: mpld3==0.3 in /usr/local/lib/python3.7/dist-packages (from flair->textattack[tensorflow]) (0.3)\n",
            "Requirement already satisfied: scikit-learn>=0.21.3 in /usr/local/lib/python3.7/dist-packages (from flair->textattack[tensorflow]) (1.0.1)\n",
            "Requirement already satisfied: sqlitedict>=1.6.0 in /usr/local/lib/python3.7/dist-packages (from flair->textattack[tensorflow]) (1.7.0)\n",
            "Requirement already satisfied: gensim>=3.4.0 in /usr/local/lib/python3.7/dist-packages (from flair->textattack[tensorflow]) (3.6.0)\n",
            "Requirement already satisfied: janome in /usr/local/lib/python3.7/dist-packages (from flair->textattack[tensorflow]) (0.4.1)\n",
            "Requirement already satisfied: sentencepiece==0.1.95 in /usr/local/lib/python3.7/dist-packages (from flair->textattack[tensorflow]) (0.1.95)\n",
            "Requirement already satisfied: langdetect in /usr/local/lib/python3.7/dist-packages (from flair->textattack[tensorflow]) (1.0.9)\n",
            "Requirement already satisfied: bpemb>=0.3.2 in /usr/local/lib/python3.7/dist-packages (from flair->textattack[tensorflow]) (0.3.3)\n",
            "Requirement already satisfied: gdown==3.12.2 in /usr/local/lib/python3.7/dist-packages (from flair->textattack[tensorflow]) (3.12.2)\n",
            "Requirement already satisfied: deprecated>=1.2.4 in /usr/local/lib/python3.7/dist-packages (from flair->textattack[tensorflow]) (1.2.13)\n",
            "Requirement already satisfied: ftfy in /usr/local/lib/python3.7/dist-packages (from flair->textattack[tensorflow]) (6.0.3)\n",
            "Requirement already satisfied: tabulate in /usr/local/lib/python3.7/dist-packages (from flair->textattack[tensorflow]) (0.8.9)\n",
            "Requirement already satisfied: smart-open>=1.2.1 in /usr/local/lib/python3.7/dist-packages (from gensim>=3.4.0->flair->textattack[tensorflow]) (5.2.1)\n",
            "Requirement already satisfied: overrides<4.0.0,>=3.0.0 in /usr/local/lib/python3.7/dist-packages (from konoha<5.0.0,>=4.0.0->flair->textattack[tensorflow]) (3.1.0)\n",
            "Requirement already satisfied: cycler>=0.10 in /usr/local/lib/python3.7/dist-packages (from matplotlib->bert-score>=0.3.5->textattack[tensorflow]) (0.11.0)\n",
            "Requirement already satisfied: kiwisolver>=1.0.1 in /usr/local/lib/python3.7/dist-packages (from matplotlib->bert-score>=0.3.5->textattack[tensorflow]) (1.3.2)\n",
            "Requirement already satisfied: joblib>=0.11 in /usr/local/lib/python3.7/dist-packages (from scikit-learn>=0.21.3->flair->textattack[tensorflow]) (1.1.0)\n",
            "Requirement already satisfied: threadpoolctl>=2.0.0 in /usr/local/lib/python3.7/dist-packages (from scikit-learn>=0.21.3->flair->textattack[tensorflow]) (3.0.0)\n",
            "Requirement already satisfied: wcwidth in /usr/local/lib/python3.7/dist-packages (from ftfy->flair->textattack[tensorflow]) (0.2.5)\n",
            "Requirement already satisfied: docopt>=0.6.2 in /usr/local/lib/python3.7/dist-packages (from num2words->textattack[tensorflow]) (0.6.2)\n",
            "Requirement already satisfied: click in /usr/local/lib/python3.7/dist-packages (from sacremoses->transformers>=3.3.0->textattack[tensorflow]) (7.1.2)\n",
            "Installing collected packages: tqdm, datasets\n",
            "  Attempting uninstall: tqdm\n",
            "    Found existing installation: tqdm 4.62.3\n",
            "    Uninstalling tqdm-4.62.3:\n",
            "      Successfully uninstalled tqdm-4.62.3\n",
            "  Attempting uninstall: datasets\n",
            "    Found existing installation: datasets 1.16.1\n",
            "    Uninstalling datasets-1.16.1:\n",
            "      Successfully uninstalled datasets-1.16.1\n",
            "Successfully installed datasets-1.2.1 tqdm-4.49.0\n",
            "Requirement already satisfied: datasets in /usr/local/lib/python3.7/dist-packages (1.2.1)\n",
            "Collecting datasets\n",
            "  Using cached datasets-1.16.1-py3-none-any.whl (298 kB)\n",
            "Requirement already satisfied: packaging in /usr/local/lib/python3.7/dist-packages (from datasets) (21.3)\n",
            "Requirement already satisfied: requests>=2.19.0 in /usr/local/lib/python3.7/dist-packages (from datasets) (2.23.0)\n",
            "Collecting tqdm>=4.62.1\n",
            "  Using cached tqdm-4.62.3-py2.py3-none-any.whl (76 kB)\n",
            "Requirement already satisfied: multiprocess in /usr/local/lib/python3.7/dist-packages (from datasets) (0.70.12.2)\n",
            "Requirement already satisfied: importlib-metadata in /usr/local/lib/python3.7/dist-packages (from datasets) (4.8.2)\n",
            "Requirement already satisfied: dill in /usr/local/lib/python3.7/dist-packages (from datasets) (0.3.4)\n",
            "Requirement already satisfied: pandas in /usr/local/lib/python3.7/dist-packages (from datasets) (1.1.5)\n",
            "Requirement already satisfied: pyarrow!=4.0.0,>=3.0.0 in /usr/local/lib/python3.7/dist-packages (from datasets) (3.0.0)\n",
            "Requirement already satisfied: fsspec[http]>=2021.05.0 in /usr/local/lib/python3.7/dist-packages (from datasets) (2021.11.1)\n",
            "Requirement already satisfied: aiohttp in /usr/local/lib/python3.7/dist-packages (from datasets) (3.8.1)\n",
            "Requirement already satisfied: numpy>=1.17 in /usr/local/lib/python3.7/dist-packages (from datasets) (1.19.5)\n",
            "Requirement already satisfied: xxhash in /usr/local/lib/python3.7/dist-packages (from datasets) (2.0.2)\n",
            "Requirement already satisfied: huggingface-hub<1.0.0,>=0.1.0 in /usr/local/lib/python3.7/dist-packages (from datasets) (0.2.1)\n",
            "Requirement already satisfied: filelock in /usr/local/lib/python3.7/dist-packages (from huggingface-hub<1.0.0,>=0.1.0->datasets) (3.4.0)\n",
            "Requirement already satisfied: typing-extensions>=3.7.4.3 in /usr/local/lib/python3.7/dist-packages (from huggingface-hub<1.0.0,>=0.1.0->datasets) (3.7.4.3)\n",
            "Requirement already satisfied: pyyaml in /usr/local/lib/python3.7/dist-packages (from huggingface-hub<1.0.0,>=0.1.0->datasets) (6.0)\n",
            "Requirement already satisfied: pyparsing!=3.0.5,>=2.0.2 in /usr/local/lib/python3.7/dist-packages (from packaging->datasets) (3.0.6)\n",
            "Requirement already satisfied: idna<3,>=2.5 in /usr/local/lib/python3.7/dist-packages (from requests>=2.19.0->datasets) (2.10)\n",
            "Requirement already satisfied: chardet<4,>=3.0.2 in /usr/local/lib/python3.7/dist-packages (from requests>=2.19.0->datasets) (3.0.4)\n",
            "Requirement already satisfied: urllib3!=1.25.0,!=1.25.1,<1.26,>=1.21.1 in /usr/local/lib/python3.7/dist-packages (from requests>=2.19.0->datasets) (1.24.3)\n",
            "Requirement already satisfied: certifi>=2017.4.17 in /usr/local/lib/python3.7/dist-packages (from requests>=2.19.0->datasets) (2021.10.8)\n",
            "Requirement already satisfied: frozenlist>=1.1.1 in /usr/local/lib/python3.7/dist-packages (from aiohttp->datasets) (1.2.0)\n",
            "Requirement already satisfied: multidict<7.0,>=4.5 in /usr/local/lib/python3.7/dist-packages (from aiohttp->datasets) (5.2.0)\n",
            "Requirement already satisfied: aiosignal>=1.1.2 in /usr/local/lib/python3.7/dist-packages (from aiohttp->datasets) (1.2.0)\n",
            "Requirement already satisfied: charset-normalizer<3.0,>=2.0 in /usr/local/lib/python3.7/dist-packages (from aiohttp->datasets) (2.0.8)\n",
            "Requirement already satisfied: asynctest==0.13.0 in /usr/local/lib/python3.7/dist-packages (from aiohttp->datasets) (0.13.0)\n",
            "Requirement already satisfied: async-timeout<5.0,>=4.0.0a3 in /usr/local/lib/python3.7/dist-packages (from aiohttp->datasets) (4.0.1)\n",
            "Requirement already satisfied: yarl<2.0,>=1.0 in /usr/local/lib/python3.7/dist-packages (from aiohttp->datasets) (1.7.2)\n",
            "Requirement already satisfied: attrs>=17.3.0 in /usr/local/lib/python3.7/dist-packages (from aiohttp->datasets) (21.2.0)\n",
            "Requirement already satisfied: zipp>=0.5 in /usr/local/lib/python3.7/dist-packages (from importlib-metadata->datasets) (3.6.0)\n",
            "Requirement already satisfied: python-dateutil>=2.7.3 in /usr/local/lib/python3.7/dist-packages (from pandas->datasets) (2.8.2)\n",
            "Requirement already satisfied: pytz>=2017.2 in /usr/local/lib/python3.7/dist-packages (from pandas->datasets) (2018.9)\n",
            "Requirement already satisfied: six>=1.5 in /usr/local/lib/python3.7/dist-packages (from python-dateutil>=2.7.3->pandas->datasets) (1.15.0)\n",
            "Installing collected packages: tqdm, datasets\n",
            "  Attempting uninstall: tqdm\n",
            "    Found existing installation: tqdm 4.49.0\n",
            "    Uninstalling tqdm-4.49.0:\n",
            "      Successfully uninstalled tqdm-4.49.0\n",
            "  Attempting uninstall: datasets\n",
            "    Found existing installation: datasets 1.2.1\n",
            "    Uninstalling datasets-1.2.1:\n",
            "      Successfully uninstalled datasets-1.2.1\n",
            "\u001b[31mERROR: pip's dependency resolver does not currently take into account all the packages that are installed. This behaviour is the source of the following dependency conflicts.\n",
            "textattack 0.3.4 requires tqdm<4.50.0,>=4.27, but you have tqdm 4.62.3 which is incompatible.\u001b[0m\n",
            "Successfully installed datasets-1.16.1 tqdm-4.62.3\n"
          ]
        }
      ]
    },
    {
      "cell_type": "code",
      "source": [
        "from textattack.constraints.semantics.sentence_encoders.universal_sentence_encoder import UniversalSentenceEncoder\n",
        "\n",
        "class MultilingualUniversalSentenceEncoder(UniversalSentenceEncoder):\n",
        "\n",
        "    def __init__(self, threshold=0.8, large=False, metric=\"angular\", **kwargs):\n",
        "        UniversalSentenceEncoder.__init__(self, threshold=threshold, large=large, metric=metric, **kwargs)\n",
        "        if large:\n",
        "            tfhub_url = \"https://tfhub.dev/google/universal-sentence-encoder-multilingual-large/3\"\n",
        "        else:\n",
        "            tfhub_url = \"https://tfhub.dev/google/universal-sentence-encoder-multilingual/3\"\n",
        "\n",
        "        self._tfhub_url = tfhub_url\n",
        "\n",
        "\n"
      ],
      "metadata": {
        "id": "elSx8PTGyOnu"
      },
      "execution_count": 3,
      "outputs": []
    },
    {
      "cell_type": "code",
      "source": [
        "# При установке из репозитория при работе не подцепляются другие модели, работает только дефолтный bert-base-uncased\n",
        "\n",
        "#! pip install tensorflow_text\n",
        "#! git clone https://github.com/zloelias/TextAttack.git\n",
        "#! pip install /content/TextAttack[tensorflow] --use-feature=in-tree-build\n",
        "#! pip install datasets --upgrade\n",
        "#! pip install captum"
      ],
      "metadata": {
        "id": "HovF8XR6LcfC"
      },
      "execution_count": 4,
      "outputs": []
    },
    {
      "cell_type": "code",
      "metadata": {
        "id": "fhwb7F-_kXjT",
        "colab": {
          "base_uri": "https://localhost:8080/"
        },
        "outputId": "917ea43c-89b1-4768-f2a6-cd07f0f14fd9"
      },
      "source": [
        "import torch\n",
        "from copy import deepcopy\n",
        "\n",
        "from textattack.datasets import HuggingFaceDataset\n",
        "from textattack.models.wrappers import HuggingFaceModelWrapper\n",
        "from textattack.models.wrappers import ModelWrapper\n",
        "from transformers import AutoModelForSequenceClassification, AutoTokenizer\n",
        "\n",
        "#from captum.attr import IntegratedGradients, LayerConductance, LayerIntegratedGradients, LayerDeepLiftShap, InternalInfluence, LayerGradientXActivation\n",
        "#from captum.attr import visualization as viz\n",
        "\n",
        "import nltk\n",
        "nltk.download('averaged_perceptron_tagger_ru')\n",
        "nltk.download('stopwords')"
      ],
      "execution_count": 5,
      "outputs": [
        {
          "output_type": "stream",
          "name": "stdout",
          "text": [
            "[nltk_data] Downloading package averaged_perceptron_tagger_ru to\n",
            "[nltk_data]     /root/nltk_data...\n",
            "[nltk_data]   Package averaged_perceptron_tagger_ru is already up-to-\n",
            "[nltk_data]       date!\n",
            "[nltk_data] Downloading package stopwords to /root/nltk_data...\n",
            "[nltk_data]   Package stopwords is already up-to-date!\n"
          ]
        },
        {
          "output_type": "execute_result",
          "data": {
            "text/plain": [
              "True"
            ]
          },
          "metadata": {},
          "execution_count": 5
        }
      ]
    },
    {
      "cell_type": "code",
      "metadata": {
        "colab": {
          "base_uri": "https://localhost:8080/"
        },
        "id": "LfCIkViJkXjX",
        "outputId": "df466f54-8aaa-42d9-929a-b494368ffdd9"
      },
      "source": [
        "if torch.cuda.is_available():\n",
        "    device = torch.device(\"cuda:0\")\n",
        "else: \n",
        "    device = torch.device(\"cpu\")\n",
        "    \n",
        "print(device)"
      ],
      "execution_count": 6,
      "outputs": [
        {
          "output_type": "stream",
          "name": "stdout",
          "text": [
            "cuda:0\n"
          ]
        }
      ]
    },
    {
      "cell_type": "code",
      "source": [
        "from textattack.constraints.grammaticality import PartOfSpeech\n",
        "from textattack.constraints.pre_transformation import (\n",
        "    RepeatModification,\n",
        "    StopwordModification,\n",
        ")\n",
        "from textattack.constraints.semantics.sentence_encoders import UniversalSentenceEncoder#, MultilingualUniversalSentenceEncoder\n",
        "from textattack.goal_functions import UntargetedClassification\n",
        "from textattack.search_methods import GreedyWordSwapWIR\n",
        "from textattack.transformations import WordSwapMaskedLM, CompositeTransformation\n",
        "\n",
        "from textattack.shared.utils import LazyLoader\n",
        "\n",
        "from textattack.constraints.pre_transformation.max_word_index_modification import MaxWordIndexModification\n",
        "from textattack.constraints.pre_transformation.max_modification_rate import MaxModificationRate\n",
        "\n",
        "from textattack.attack_recipes.attack_recipe import AttackRecipe\n"
      ],
      "metadata": {
        "id": "WObNGjsDAgnD"
      },
      "execution_count": 7,
      "outputs": []
    },
    {
      "cell_type": "code",
      "source": [
        "class BAEGarg2019RU(AttackRecipe):\n",
        "    \"\"\"Siddhant Garg and Goutham Ramakrishnan, 2019.\n",
        "\n",
        "    BAE: BERT-based Adversarial Examples for Text Classification.\n",
        "\n",
        "    https://arxiv.org/pdf/2004.01970\n",
        "\n",
        "    This is \"attack mode\" 1 from the paper, BAE-R, word replacement.\n",
        "\n",
        "    We present 4 attack modes for BAE based on the\n",
        "        R and I operations, where for each token t in S:\n",
        "        • BAE-R: Replace token t (See Algorithm 1)\n",
        "        • BAE-I: Insert a token to the left or right of t\n",
        "        • BAE-R/I: Either replace token t or insert a\n",
        "        token to the left or right of t\n",
        "        • BAE-R+I: First replace token t, then insert a\n",
        "        token to the left or right of t\n",
        "    \"\"\"\n",
        "\n",
        "    @staticmethod\n",
        "    def build(model_wrapper, max_rate, max_seq_len, language, lan, la, base_model_name):\n",
        "        # \"In this paper, we present a simple yet novel technique: BAE (BERT-based\n",
        "        # Adversarial Examples), which uses a language model (LM) for token\n",
        "        # replacement to best fit the overall context. We perturb an input sentence\n",
        "        # by either replacing a token or inserting a new token in the sentence, by\n",
        "        # means of masking a part of the input and using a LM to fill in the mask.\"\n",
        "        #\n",
        "        # We only consider the top K=50 synonyms from the MLM predictions.\n",
        "        #\n",
        "        # [from email correspondance with the author]\n",
        "        # \"When choosing the top-K candidates from the BERT masked LM, we filter out\n",
        "        # the sub-words and only retain the whole words (by checking if they are\n",
        "        # present in the GloVE vocabulary)\"\n",
        "        #\n",
        "        transformation = CompositeTransformation(\n",
        "            [\n",
        "                WordSwapMaskedLM(masked_language_model=base_model_name, method=\"bae\", max_candidates=20, max_length=max_seq_len),\n",
        "            ]\n",
        "        )\n",
        "        #\n",
        "        # Don't modify the same word twice or stopwords.\n",
        "        #\n",
        "        constraints = [RepeatModification(), StopwordModification(language=language)]\n",
        "\n",
        "        # For the R operations we add an additional check for\n",
        "        # grammatical correctness of the generated adversarial example by filtering\n",
        "        # out predicted tokens that do not form the same part of speech (POS) as the\n",
        "        # original token t_i in the sentence.\n",
        "        constraints.append(PartOfSpeech(allow_verb_noun_swap=True,\n",
        "            language_nltk=lan,\n",
        "            language_stanza=la))\n",
        "\n",
        "        # \"To ensure semantic similarity on introducing perturbations in the input\n",
        "        # text, we filter the set of top-K masked tokens (K is a pre-defined\n",
        "        # constant) predicted by BERT-MLM using a Universal Sentence Encoder (USE)\n",
        "        # (Cer et al., 2018)-based sentence similarity scorer.\"\n",
        "        #\n",
        "        # \"[We] set a threshold of 0.8 for the cosine similarity between USE-based\n",
        "        # embeddings of the adversarial and input text.\"\n",
        "        #\n",
        "        # [from email correspondence with the author]\n",
        "        # \"For a fair comparison of the benefits of using a BERT-MLM in our paper,\n",
        "        # we retained the majority of TextFooler's specifications. Thus we:\n",
        "        # 1. Use the USE for comparison within a window of size 15 around the word\n",
        "        # being replaced/inserted.\n",
        "        # 2. Set the similarity score threshold to 0.1 for inputs shorter than the\n",
        "        # window size (this translates roughly to almost always accepting the new text).\n",
        "        # 3. Perform the USE similarity thresholding of 0.8 with respect to the text\n",
        "        # just before the replacement/insertion and not the original text (For\n",
        "        # example: at the 3rd R/I operation, we compute the USE score on a window\n",
        "        # of size 15 of the text obtained after the first 2 R/I operations and not\n",
        "        # the original text).\n",
        "        # ...\n",
        "        # To address point (3) from above, compare the USE with the original text\n",
        "        # at each iteration instead of the current one (While doing this change\n",
        "        # for the R-operation is trivial, doing it for the I-operation with the\n",
        "        # window based USE comparison might be more involved).\"\n",
        "        #\n",
        "        # Finally, since the BAE code is based on the TextFooler code, we need to\n",
        "        # adjust the threshold to account for the missing / pi in the cosine\n",
        "        # similarity comparison. So the final threshold is 1 - (1 - 0.8) / pi\n",
        "        # = 1 - (0.2 / pi) = 0.936338023.\n",
        "        use_constraint = MultilingualUniversalSentenceEncoder(\n",
        "            threshold=0.936338023,\n",
        "            metric=\"cosine\",\n",
        "            compare_against_original=True,\n",
        "            window_size=15,\n",
        "            skip_text_shorter_than_window=True,\n",
        "        )\n",
        "        constraints.append(use_constraint)\n",
        "\n",
        "        constraints.append(MaxWordIndexModification(max_seq_len))\n",
        "        constraints.append(MaxModificationRate(max_rate, min_threshold=1))\n",
        "\n",
        "        #\n",
        "        # Goal is untargeted classification.\n",
        "        #\n",
        "        goal_function = UntargetedClassification(model_wrapper)\n",
        "        #\n",
        "        # \"We estimate the token importance Ii of each token\n",
        "        # t_i ∈ S = [t1, . . . , tn], by deleting ti from S and computing the\n",
        "        # decrease in probability of predicting the correct label y, similar\n",
        "        # to (Jin et al., 2019).\n",
        "        #\n",
        "        # • \"If there are multiple tokens can cause C to misclassify S when they\n",
        "        # replace the mask, we choose the token which makes Sadv most similar to\n",
        "        # the original S based on the USE score.\"\n",
        "        # • \"If no token causes misclassification, we choose the perturbation that\n",
        "        # decreases the prediction probability P(C(Sadv)=y) the most.\"\n",
        "        #\n",
        "        search_method = GreedyWordSwapWIR(wir_method=\"delete\")\n",
        "\n",
        "        return BAEGarg2019RU(goal_function, constraints, transformation, search_method)\n"
      ],
      "metadata": {
        "id": "KOgG9A2y00x3"
      },
      "execution_count": 8,
      "outputs": []
    },
    {
      "cell_type": "code",
      "source": [
        "import textattack\n",
        "import random\n",
        "import numpy as np\n",
        "\n",
        "experiments = {\n",
        "    'bae_same_model': [\n",
        "        {\n",
        "            'dataset': {'name': 'kinopoisk', 'url': 'zloelias/kinopoisk-reviews'},\n",
        "            'model': ('cointegrated/rubert-tiny2', 'zloelias/rubert-tiny2-kinopoisk-reviews-finetuned-clf'),\n",
        "            'language': ('ru', 'rus', 'russian'),\n",
        "            'max_rate': np.linspace(0.1, 0.9, 9),\n",
        "            'max_seq_len': 312,\n",
        "            'columns': (['text'], 'labels'),\n",
        "        },\n",
        "#        {\n",
        "#            'dataset': {'name': 'lenta', 'url': 'zloelias/lenta-ru'},\n",
        "#            'model': ('cointegrated/rubert-tiny2', 'zloelias/rubert-tiny2-lenta-ru-finetuned-clf'),\n",
        "#            'language': ('ru', 'rus', 'russian'),\n",
        "#            'max_rate': np.linspace(0.1, 0.9, 9),\n",
        "#            'max_seq_len': 312,\n",
        "#            'columns': (['text'], 'labels'),\n",
        "#        },\n",
        "#        {\n",
        "#            'dataset': {'name': 'ag_news', 'url': 'ag_news'},\n",
        "#            'model': ('bert-base-uncased', 'textattack/bert-base-uncased-ag-news'),\n",
        "#            'language': ('en', 'eng', 'english'),\n",
        "#            'max_rate': np.linspace(0.1, 0.9, 9),\n",
        "#            'max_seq_len': 512,\n",
        "#            'columns': (['text'], 'label'),\n",
        "#        },\n",
        "#        {\n",
        "#            'dataset': {'name': 'rotten_tomatoes', 'url': 'rotten_tomatoes'},\n",
        "#            'model': ('bert-base-uncased', 'textattack/bert-base-uncased-rotten-tomatoes'),\n",
        "#            'language': ('en', 'eng', 'english'),\n",
        "#            'max_rate': np.linspace(0.1, 0.9, 9),\n",
        "#            'max_seq_len': 512,\n",
        "#            'columns': (['text'], 'label'),\n",
        "#        },\n",
        "    ]\n",
        "}\n",
        "\n",
        "for attack_name in experiments.keys():\n",
        "    for attack_data in experiments[attack_name]:\n",
        "        dataset_name, dataset_url = [attack_data['dataset'][k] for k in attack_data['dataset'].keys()]\n",
        "        dataset_columns = attack_data['columns']\n",
        "        dataset = HuggingFaceDataset(dataset_url, None, 'test', dataset_columns=dataset_columns)\n",
        "\n",
        "        base_model_name, model_name = attack_data['model']\n",
        "        original_model = AutoModelForSequenceClassification.from_pretrained(model_name)\n",
        "        original_tokenizer = AutoTokenizer.from_pretrained(base_model_name)\n",
        "        model = HuggingFaceModelWrapper(original_model,original_tokenizer)\n",
        "\n",
        "        la, lan, language = attack_data['language']\n",
        "        for max_rate in attack_data['max_rate']:\n",
        "            experiment_result_dir = f'/content/drive/MyDrive/Colab Notebooks/final-project/experiments/{attack_name}/{dataset_name}/{max_rate}/'\n",
        "            print(experiment_result_dir)\n",
        "            attack = BAEGarg2019RU.build(model, max_rate, attack_data['max_seq_len'], language, lan, la, base_model_name)\n",
        "\n",
        "            attack_args = textattack.AttackArgs(\n",
        "                num_examples=100, \n",
        "                log_to_csv=experiment_result_dir + \"log.csv\", \n",
        "                checkpoint_interval=50, \n",
        "                checkpoint_dir=experiment_result_dir + \"checkpoints\", \n",
        "                disable_stdout=True\n",
        "            )\n",
        "            attacker = textattack.Attacker(attack, dataset, attack_args)\n",
        "            attacker.attack_dataset()\n",
        "        #print(attack_data)\n",
        "        #print(model_name, model_url)"
      ],
      "metadata": {
        "colab": {
          "base_uri": "https://localhost:8080/",
          "height": 1000,
          "referenced_widgets": [
            "cc01df4ebf4e4ec090ba63b074ce8fdf",
            "0df5d18038e146c5b0aaf87f9ff467e1",
            "92e43a51e54e486e804e810641d23a40",
            "788cda81fbd5448180e10189fba94b88",
            "edeecbe429dc4b51a78591a9ee615a38",
            "ee1980d4e20d4474b7765ecdddb6746a",
            "462f2c666a684dc4a9693f1d9ae21fbb",
            "5ae637f65d1444a18b92ccbd15aaee4d",
            "93bbde66577b42769d8d328f303af448",
            "d22d3baff49648b887b0ae00a6e94048",
            "b6893eeccf004fd79c6ca2b7dfc1cfe4"
          ]
        },
        "id": "kM5p1Jai3fmA",
        "outputId": "be7bb8f4-447d-4026-b0c1-cab0b2968d11"
      },
      "execution_count": 10,
      "outputs": [
        {
          "metadata": {
            "tags": null
          },
          "name": "stderr",
          "output_type": "stream",
          "text": [
            "Using custom data configuration zloelias___kinopoisk-reviews-2105e1c5dfdebfd7\n",
            "Reusing dataset parquet (/root/.cache/huggingface/datasets/parquet/zloelias___kinopoisk-reviews-2105e1c5dfdebfd7/0.0.0/1638526fd0e8d960534e2155dc54fdff8dce73851f21f031d2fb9c2cf757c121)\n"
          ]
        },
        {
          "data": {
            "application/vnd.jupyter.widget-view+json": {
              "model_id": "cc01df4ebf4e4ec090ba63b074ce8fdf",
              "version_major": 2,
              "version_minor": 0
            },
            "text/plain": [
              "  0%|          | 0/2 [00:00<?, ?it/s]"
            ]
          },
          "metadata": {},
          "output_type": "display_data"
        },
        {
          "metadata": {
            "tags": null
          },
          "name": "stderr",
          "output_type": "stream",
          "text": [
            "textattack: Loading \u001b[94mdatasets\u001b[0m dataset \u001b[94mzloelias/kinopoisk-reviews\u001b[0m, split \u001b[94mtest\u001b[0m.\n"
          ]
        },
        {
          "metadata": {
            "tags": null
          },
          "name": "stdout",
          "output_type": "stream",
          "text": [
            "/content/drive/MyDrive/Colab Notebooks/final-project/experiments/bae_same_model/kinopoisk/0.1/\n"
          ]
        },
        {
          "metadata": {
            "tags": null
          },
          "name": "stderr",
          "output_type": "stream",
          "text": [
            "Some weights of the model checkpoint at cointegrated/rubert-tiny2 were not used when initializing BertForMaskedLM: ['cls.seq_relationship.weight', 'cls.seq_relationship.bias']\n",
            "- This IS expected if you are initializing BertForMaskedLM from the checkpoint of a model trained on another task or with another architecture (e.g. initializing a BertForSequenceClassification model from a BertForPreTraining model).\n",
            "- This IS NOT expected if you are initializing BertForMaskedLM from the checkpoint of a model that you expect to be exactly identical (initializing a BertForSequenceClassification model from a BertForSequenceClassification model).\n",
            "textattack: Unknown if model of class <class 'transformers.models.bert.modeling_bert.BertForSequenceClassification'> compatible with goal function <class 'textattack.goal_functions.classification.untargeted_classification.UntargetedClassification'>.\n",
            "textattack: Logging to CSV at path /content/drive/MyDrive/Colab Notebooks/final-project/experiments/bae_same_model/kinopoisk/0.1/log.csv\n"
          ]
        },
        {
          "metadata": {
            "tags": null
          },
          "name": "stdout",
          "output_type": "stream",
          "text": [
            "Attack(\n",
            "  (search_method): GreedyWordSwapWIR(\n",
            "    (wir_method):  delete\n",
            "  )\n",
            "  (goal_function):  UntargetedClassification\n",
            "  (transformation):  CompositeTransformation(\n",
            "    (0): WordSwapMaskedLM(\n",
            "        (method):  bae\n",
            "        (masked_lm_name):  BertForMaskedLM\n",
            "        (max_length):  312\n",
            "        (max_candidates):  20\n",
            "        (min_confidence):  0.0005\n",
            "      )\n",
            "    )\n",
            "  (constraints): \n",
            "    (0): PartOfSpeech(\n",
            "        (tagger_type):  nltk\n",
            "        (tagset):  universal\n",
            "        (allow_verb_noun_swap):  True\n",
            "        (compare_against_original):  True\n",
            "      )\n",
            "    (1): MultilingualUniversalSentenceEncoder(\n",
            "        (metric):  cosine\n",
            "        (threshold):  0.936338023\n",
            "        (window_size):  15\n",
            "        (skip_text_shorter_than_window):  True\n",
            "        (compare_against_original):  True\n",
            "      )\n",
            "    (2): RepeatModification\n",
            "    (3): StopwordModification\n",
            "    (4): MaxWordIndexModification(\n",
            "        (max_length):  312\n",
            "      )\n",
            "    (5): MaxModificationRate(\n",
            "        (max_rate):  0.1\n",
            "        (min_threshold):  1\n",
            "      )\n",
            "  (is_black_box):  True\n",
            ") \n",
            "\n"
          ]
        },
        {
          "metadata": {
            "tags": null
          },
          "name": "stderr",
          "output_type": "stream",
          "text": [
            "[Succeeded / Failed / Skipped / Total] 24 / 23 / 3 / 50:  50%|█████     | 50/100 [24:48<24:48, 29.78s/it]textattack: Saving checkpoint under \"/content/drive/MyDrive/Colab Notebooks/final-project/experiments/bae_same_model/kinopoisk/0.1/checkpoints/1639587292184.ta.chkpt\" at 2021-12-15 16:54:52 after 50 attacks.\n"
          ]
        },
        {
          "metadata": {
            "tags": null
          },
          "name": "stdout",
          "output_type": "stream",
          "text": [
            "\n",
            "\n",
            "=============================================================================================================================\n",
            "=============================================================================================================================\n",
            "\n"
          ]
        },
        {
          "metadata": {
            "tags": null
          },
          "name": "stderr",
          "output_type": "stream",
          "text": [
            "[Succeeded / Failed / Skipped / Total] 50 / 45 / 5 / 100: 100%|██████████| 100/100 [47:49<00:00, 28.70s/it]textattack: Saving checkpoint under \"/content/drive/MyDrive/Colab Notebooks/final-project/experiments/bae_same_model/kinopoisk/0.1/checkpoints/1639588673044.ta.chkpt\" at 2021-12-15 17:17:53 after 100 attacks.\n",
            "[Succeeded / Failed / Skipped / Total] 50 / 45 / 5 / 100: 100%|██████████| 100/100 [47:49<00:00, 28.70s/it]"
          ]
        },
        {
          "metadata": {
            "tags": null
          },
          "name": "stdout",
          "output_type": "stream",
          "text": [
            "\n",
            "\n",
            "=============================================================================================================================\n",
            "=============================================================================================================================\n",
            "\n",
            "\n",
            "+-------------------------------+--------+\n",
            "| Attack Results                |        |\n",
            "+-------------------------------+--------+\n",
            "| Number of successful attacks: | 50     |\n",
            "| Number of failed attacks:     | 45     |\n",
            "| Number of skipped attacks:    | 5      |\n",
            "| Original accuracy:            | 95.0%  |\n",
            "| Accuracy under attack:        | 45.0%  |\n",
            "| Attack success rate:          | 52.63% |\n",
            "| Average perturbed word %:     | 3.93%  |\n",
            "| Average num. words per input: | 335.35 |\n",
            "| Avg num queries:              | 694.84 |\n",
            "+-------------------------------+--------+"
          ]
        },
        {
          "metadata": {
            "tags": null
          },
          "name": "stderr",
          "output_type": "stream",
          "text": [
            "\n"
          ]
        },
        {
          "metadata": {
            "tags": null
          },
          "name": "stdout",
          "output_type": "stream",
          "text": [
            "\n",
            "/content/drive/MyDrive/Colab Notebooks/final-project/experiments/bae_same_model/kinopoisk/0.2/\n"
          ]
        },
        {
          "metadata": {
            "tags": null
          },
          "name": "stderr",
          "output_type": "stream",
          "text": [
            "Some weights of the model checkpoint at cointegrated/rubert-tiny2 were not used when initializing BertForMaskedLM: ['cls.seq_relationship.weight', 'cls.seq_relationship.bias']\n",
            "- This IS expected if you are initializing BertForMaskedLM from the checkpoint of a model trained on another task or with another architecture (e.g. initializing a BertForSequenceClassification model from a BertForPreTraining model).\n",
            "- This IS NOT expected if you are initializing BertForMaskedLM from the checkpoint of a model that you expect to be exactly identical (initializing a BertForSequenceClassification model from a BertForSequenceClassification model).\n",
            "textattack: Unknown if model of class <class 'transformers.models.bert.modeling_bert.BertForSequenceClassification'> compatible with goal function <class 'textattack.goal_functions.classification.untargeted_classification.UntargetedClassification'>.\n",
            "textattack: Logging to CSV at path /content/drive/MyDrive/Colab Notebooks/final-project/experiments/bae_same_model/kinopoisk/0.2/log.csv\n"
          ]
        },
        {
          "metadata": {
            "tags": null
          },
          "name": "stdout",
          "output_type": "stream",
          "text": [
            "Attack(\n",
            "  (search_method): GreedyWordSwapWIR(\n",
            "    (wir_method):  delete\n",
            "  )\n",
            "  (goal_function):  UntargetedClassification\n",
            "  (transformation):  CompositeTransformation(\n",
            "    (0): WordSwapMaskedLM(\n",
            "        (method):  bae\n",
            "        (masked_lm_name):  BertForMaskedLM\n",
            "        (max_length):  312\n",
            "        (max_candidates):  20\n",
            "        (min_confidence):  0.0005\n",
            "      )\n",
            "    )\n",
            "  (constraints): \n",
            "    (0): PartOfSpeech(\n",
            "        (tagger_type):  nltk\n",
            "        (tagset):  universal\n",
            "        (allow_verb_noun_swap):  True\n",
            "        (compare_against_original):  True\n",
            "      )\n",
            "    (1): MultilingualUniversalSentenceEncoder(\n",
            "        (metric):  cosine\n",
            "        (threshold):  0.936338023\n",
            "        (window_size):  15\n",
            "        (skip_text_shorter_than_window):  True\n",
            "        (compare_against_original):  True\n",
            "      )\n",
            "    (2): RepeatModification\n",
            "    (3): StopwordModification\n",
            "    (4): MaxWordIndexModification(\n",
            "        (max_length):  312\n",
            "      )\n",
            "    (5): MaxModificationRate(\n",
            "        (max_rate):  0.2\n",
            "        (min_threshold):  1\n",
            "      )\n",
            "  (is_black_box):  True\n",
            ") \n",
            "\n"
          ]
        },
        {
          "output_type": "stream",
          "name": "stderr",
          "text": [
            "[Succeeded / Failed / Skipped / Total] 28 / 19 / 3 / 50:  50%|█████     | 50/100 [27:17<27:17, 32.76s/it]textattack: Saving checkpoint under \"/content/drive/MyDrive/Colab Notebooks/final-project/experiments/bae_same_model/kinopoisk/0.2/checkpoints/1639590315171.ta.chkpt\" at 2021-12-15 17:45:15 after 50 attacks.\n"
          ]
        },
        {
          "output_type": "stream",
          "name": "stdout",
          "text": [
            "\n",
            "\n",
            "=============================================================================================================================\n",
            "=============================================================================================================================\n",
            "\n"
          ]
        },
        {
          "output_type": "stream",
          "name": "stderr",
          "text": [
            "[Succeeded / Failed / Skipped / Total] 58 / 37 / 5 / 100: 100%|██████████| 100/100 [53:37<00:00, 32.18s/it]textattack: Saving checkpoint under \"/content/drive/MyDrive/Colab Notebooks/final-project/experiments/bae_same_model/kinopoisk/0.2/checkpoints/1639591895050.ta.chkpt\" at 2021-12-15 18:11:35 after 100 attacks.\n",
            "[Succeeded / Failed / Skipped / Total] 58 / 37 / 5 / 100: 100%|██████████| 100/100 [53:37<00:00, 32.18s/it]"
          ]
        },
        {
          "output_type": "stream",
          "name": "stdout",
          "text": [
            "\n",
            "\n",
            "=============================================================================================================================\n",
            "=============================================================================================================================\n",
            "\n",
            "\n",
            "+-------------------------------+--------+\n",
            "| Attack Results                |        |\n",
            "+-------------------------------+--------+\n",
            "| Number of successful attacks: | 58     |\n",
            "| Number of failed attacks:     | 37     |\n",
            "| Number of skipped attacks:    | 5      |\n",
            "| Original accuracy:            | 95.0%  |\n",
            "| Accuracy under attack:        | 37.0%  |\n",
            "| Attack success rate:          | 61.05% |\n",
            "| Average perturbed word %:     | 5.37%  |\n",
            "| Average num. words per input: | 335.35 |\n",
            "| Avg num queries:              | 727.43 |\n",
            "+-------------------------------+--------+"
          ]
        },
        {
          "output_type": "stream",
          "name": "stderr",
          "text": [
            "\n"
          ]
        },
        {
          "output_type": "stream",
          "name": "stdout",
          "text": [
            "\n",
            "/content/drive/MyDrive/Colab Notebooks/final-project/experiments/bae_same_model/kinopoisk/0.30000000000000004/\n"
          ]
        },
        {
          "output_type": "stream",
          "name": "stderr",
          "text": [
            "Some weights of the model checkpoint at cointegrated/rubert-tiny2 were not used when initializing BertForMaskedLM: ['cls.seq_relationship.weight', 'cls.seq_relationship.bias']\n",
            "- This IS expected if you are initializing BertForMaskedLM from the checkpoint of a model trained on another task or with another architecture (e.g. initializing a BertForSequenceClassification model from a BertForPreTraining model).\n",
            "- This IS NOT expected if you are initializing BertForMaskedLM from the checkpoint of a model that you expect to be exactly identical (initializing a BertForSequenceClassification model from a BertForSequenceClassification model).\n",
            "textattack: Unknown if model of class <class 'transformers.models.bert.modeling_bert.BertForSequenceClassification'> compatible with goal function <class 'textattack.goal_functions.classification.untargeted_classification.UntargetedClassification'>.\n",
            "textattack: Logging to CSV at path /content/drive/MyDrive/Colab Notebooks/final-project/experiments/bae_same_model/kinopoisk/0.30000000000000004/log.csv\n"
          ]
        },
        {
          "output_type": "stream",
          "name": "stdout",
          "text": [
            "Attack(\n",
            "  (search_method): GreedyWordSwapWIR(\n",
            "    (wir_method):  delete\n",
            "  )\n",
            "  (goal_function):  UntargetedClassification\n",
            "  (transformation):  CompositeTransformation(\n",
            "    (0): WordSwapMaskedLM(\n",
            "        (method):  bae\n",
            "        (masked_lm_name):  BertForMaskedLM\n",
            "        (max_length):  312\n",
            "        (max_candidates):  20\n",
            "        (min_confidence):  0.0005\n",
            "      )\n",
            "    )\n",
            "  (constraints): \n",
            "    (0): PartOfSpeech(\n",
            "        (tagger_type):  nltk\n",
            "        (tagset):  universal\n",
            "        (allow_verb_noun_swap):  True\n",
            "        (compare_against_original):  True\n",
            "      )\n",
            "    (1): MultilingualUniversalSentenceEncoder(\n",
            "        (metric):  cosine\n",
            "        (threshold):  0.936338023\n",
            "        (window_size):  15\n",
            "        (skip_text_shorter_than_window):  True\n",
            "        (compare_against_original):  True\n",
            "      )\n",
            "    (2): RepeatModification\n",
            "    (3): StopwordModification\n",
            "    (4): MaxWordIndexModification(\n",
            "        (max_length):  312\n",
            "      )\n",
            "    (5): MaxModificationRate(\n",
            "        (max_rate):  0.30000000000000004\n",
            "        (min_threshold):  1\n",
            "      )\n",
            "  (is_black_box):  True\n",
            ") \n",
            "\n"
          ]
        },
        {
          "output_type": "stream",
          "name": "stderr",
          "text": [
            "[Succeeded / Failed / Skipped / Total] 28 / 19 / 3 / 50:  50%|█████     | 50/100 [27:33<27:33, 33.07s/it]textattack: Saving checkpoint under \"/content/drive/MyDrive/Colab Notebooks/final-project/experiments/bae_same_model/kinopoisk/0.30000000000000004/checkpoints/1639593552909.ta.chkpt\" at 2021-12-15 18:39:12 after 50 attacks.\n"
          ]
        },
        {
          "output_type": "stream",
          "name": "stdout",
          "text": [
            "\n",
            "\n",
            "=============================================================================================================================\n",
            "=============================================================================================================================\n",
            "\n"
          ]
        },
        {
          "output_type": "stream",
          "name": "stderr",
          "text": [
            "[Succeeded / Failed / Skipped / Total] 58 / 37 / 5 / 100: 100%|██████████| 100/100 [54:30<00:00, 32.71s/it]textattack: Saving checkpoint under \"/content/drive/MyDrive/Colab Notebooks/final-project/experiments/bae_same_model/kinopoisk/0.30000000000000004/checkpoints/1639595169931.ta.chkpt\" at 2021-12-15 19:06:09 after 100 attacks.\n",
            "[Succeeded / Failed / Skipped / Total] 58 / 37 / 5 / 100: 100%|██████████| 100/100 [54:30<00:00, 32.71s/it]"
          ]
        },
        {
          "output_type": "stream",
          "name": "stdout",
          "text": [
            "\n",
            "\n",
            "=============================================================================================================================\n",
            "=============================================================================================================================\n",
            "\n",
            "\n",
            "+-------------------------------+--------+\n",
            "| Attack Results                |        |\n",
            "+-------------------------------+--------+\n",
            "| Number of successful attacks: | 58     |\n",
            "| Number of failed attacks:     | 37     |\n",
            "| Number of skipped attacks:    | 5      |\n",
            "| Original accuracy:            | 95.0%  |\n",
            "| Accuracy under attack:        | 37.0%  |\n",
            "| Attack success rate:          | 61.05% |\n",
            "| Average perturbed word %:     | 5.37%  |\n",
            "| Average num. words per input: | 335.35 |\n",
            "| Avg num queries:              | 727.53 |\n",
            "+-------------------------------+--------+"
          ]
        },
        {
          "output_type": "stream",
          "name": "stderr",
          "text": [
            "\n"
          ]
        },
        {
          "output_type": "stream",
          "name": "stdout",
          "text": [
            "\n",
            "/content/drive/MyDrive/Colab Notebooks/final-project/experiments/bae_same_model/kinopoisk/0.4/\n"
          ]
        },
        {
          "output_type": "stream",
          "name": "stderr",
          "text": [
            "Some weights of the model checkpoint at cointegrated/rubert-tiny2 were not used when initializing BertForMaskedLM: ['cls.seq_relationship.weight', 'cls.seq_relationship.bias']\n",
            "- This IS expected if you are initializing BertForMaskedLM from the checkpoint of a model trained on another task or with another architecture (e.g. initializing a BertForSequenceClassification model from a BertForPreTraining model).\n",
            "- This IS NOT expected if you are initializing BertForMaskedLM from the checkpoint of a model that you expect to be exactly identical (initializing a BertForSequenceClassification model from a BertForSequenceClassification model).\n",
            "textattack: Unknown if model of class <class 'transformers.models.bert.modeling_bert.BertForSequenceClassification'> compatible with goal function <class 'textattack.goal_functions.classification.untargeted_classification.UntargetedClassification'>.\n",
            "textattack: Logging to CSV at path /content/drive/MyDrive/Colab Notebooks/final-project/experiments/bae_same_model/kinopoisk/0.4/log.csv\n"
          ]
        },
        {
          "output_type": "stream",
          "name": "stdout",
          "text": [
            "Attack(\n",
            "  (search_method): GreedyWordSwapWIR(\n",
            "    (wir_method):  delete\n",
            "  )\n",
            "  (goal_function):  UntargetedClassification\n",
            "  (transformation):  CompositeTransformation(\n",
            "    (0): WordSwapMaskedLM(\n",
            "        (method):  bae\n",
            "        (masked_lm_name):  BertForMaskedLM\n",
            "        (max_length):  312\n",
            "        (max_candidates):  20\n",
            "        (min_confidence):  0.0005\n",
            "      )\n",
            "    )\n",
            "  (constraints): \n",
            "    (0): PartOfSpeech(\n",
            "        (tagger_type):  nltk\n",
            "        (tagset):  universal\n",
            "        (allow_verb_noun_swap):  True\n",
            "        (compare_against_original):  True\n",
            "      )\n",
            "    (1): MultilingualUniversalSentenceEncoder(\n",
            "        (metric):  cosine\n",
            "        (threshold):  0.936338023\n",
            "        (window_size):  15\n",
            "        (skip_text_shorter_than_window):  True\n",
            "        (compare_against_original):  True\n",
            "      )\n",
            "    (2): RepeatModification\n",
            "    (3): StopwordModification\n",
            "    (4): MaxWordIndexModification(\n",
            "        (max_length):  312\n",
            "      )\n",
            "    (5): MaxModificationRate(\n",
            "        (max_rate):  0.4\n",
            "        (min_threshold):  1\n",
            "      )\n",
            "  (is_black_box):  True\n",
            ") \n",
            "\n"
          ]
        },
        {
          "output_type": "stream",
          "name": "stderr",
          "text": [
            "[Succeeded / Failed / Skipped / Total] 28 / 19 / 3 / 50:  50%|█████     | 50/100 [27:59<27:59, 33.59s/it]textattack: Saving checkpoint under \"/content/drive/MyDrive/Colab Notebooks/final-project/experiments/bae_same_model/kinopoisk/0.4/checkpoints/1639596853918.ta.chkpt\" at 2021-12-15 19:34:13 after 50 attacks.\n"
          ]
        },
        {
          "output_type": "stream",
          "name": "stdout",
          "text": [
            "\n",
            "\n",
            "=============================================================================================================================\n",
            "=============================================================================================================================\n",
            "\n"
          ]
        },
        {
          "output_type": "stream",
          "name": "stderr",
          "text": [
            "[Succeeded / Failed / Skipped / Total] 58 / 37 / 5 / 100: 100%|██████████| 100/100 [54:58<00:00, 32.99s/it]textattack: Saving checkpoint under \"/content/drive/MyDrive/Colab Notebooks/final-project/experiments/bae_same_model/kinopoisk/0.4/checkpoints/1639598472847.ta.chkpt\" at 2021-12-15 20:01:12 after 100 attacks.\n",
            "[Succeeded / Failed / Skipped / Total] 58 / 37 / 5 / 100: 100%|██████████| 100/100 [54:58<00:00, 32.99s/it]"
          ]
        },
        {
          "output_type": "stream",
          "name": "stdout",
          "text": [
            "\n",
            "\n",
            "=============================================================================================================================\n",
            "=============================================================================================================================\n",
            "\n",
            "\n",
            "+-------------------------------+--------+\n",
            "| Attack Results                |        |\n",
            "+-------------------------------+--------+\n",
            "| Number of successful attacks: | 58     |\n",
            "| Number of failed attacks:     | 37     |\n",
            "| Number of skipped attacks:    | 5      |\n",
            "| Original accuracy:            | 95.0%  |\n",
            "| Accuracy under attack:        | 37.0%  |\n",
            "| Attack success rate:          | 61.05% |\n",
            "| Average perturbed word %:     | 5.37%  |\n",
            "| Average num. words per input: | 335.35 |\n",
            "| Avg num queries:              | 727.53 |\n",
            "+-------------------------------+--------+"
          ]
        },
        {
          "output_type": "stream",
          "name": "stderr",
          "text": [
            "\n"
          ]
        },
        {
          "output_type": "stream",
          "name": "stdout",
          "text": [
            "\n",
            "/content/drive/MyDrive/Colab Notebooks/final-project/experiments/bae_same_model/kinopoisk/0.5/\n"
          ]
        },
        {
          "output_type": "stream",
          "name": "stderr",
          "text": [
            "Some weights of the model checkpoint at cointegrated/rubert-tiny2 were not used when initializing BertForMaskedLM: ['cls.seq_relationship.weight', 'cls.seq_relationship.bias']\n",
            "- This IS expected if you are initializing BertForMaskedLM from the checkpoint of a model trained on another task or with another architecture (e.g. initializing a BertForSequenceClassification model from a BertForPreTraining model).\n",
            "- This IS NOT expected if you are initializing BertForMaskedLM from the checkpoint of a model that you expect to be exactly identical (initializing a BertForSequenceClassification model from a BertForSequenceClassification model).\n",
            "textattack: Unknown if model of class <class 'transformers.models.bert.modeling_bert.BertForSequenceClassification'> compatible with goal function <class 'textattack.goal_functions.classification.untargeted_classification.UntargetedClassification'>.\n",
            "textattack: Logging to CSV at path /content/drive/MyDrive/Colab Notebooks/final-project/experiments/bae_same_model/kinopoisk/0.5/log.csv\n"
          ]
        },
        {
          "output_type": "stream",
          "name": "stdout",
          "text": [
            "Attack(\n",
            "  (search_method): GreedyWordSwapWIR(\n",
            "    (wir_method):  delete\n",
            "  )\n",
            "  (goal_function):  UntargetedClassification\n",
            "  (transformation):  CompositeTransformation(\n",
            "    (0): WordSwapMaskedLM(\n",
            "        (method):  bae\n",
            "        (masked_lm_name):  BertForMaskedLM\n",
            "        (max_length):  312\n",
            "        (max_candidates):  20\n",
            "        (min_confidence):  0.0005\n",
            "      )\n",
            "    )\n",
            "  (constraints): \n",
            "    (0): PartOfSpeech(\n",
            "        (tagger_type):  nltk\n",
            "        (tagset):  universal\n",
            "        (allow_verb_noun_swap):  True\n",
            "        (compare_against_original):  True\n",
            "      )\n",
            "    (1): MultilingualUniversalSentenceEncoder(\n",
            "        (metric):  cosine\n",
            "        (threshold):  0.936338023\n",
            "        (window_size):  15\n",
            "        (skip_text_shorter_than_window):  True\n",
            "        (compare_against_original):  True\n",
            "      )\n",
            "    (2): RepeatModification\n",
            "    (3): StopwordModification\n",
            "    (4): MaxWordIndexModification(\n",
            "        (max_length):  312\n",
            "      )\n",
            "    (5): MaxModificationRate(\n",
            "        (max_rate):  0.5\n",
            "        (min_threshold):  1\n",
            "      )\n",
            "  (is_black_box):  True\n",
            ") \n",
            "\n"
          ]
        },
        {
          "output_type": "stream",
          "name": "stderr",
          "text": [
            "[Succeeded / Failed / Skipped / Total] 28 / 19 / 3 / 50:  50%|█████     | 50/100 [27:55<27:55, 33.52s/it]textattack: Saving checkpoint under \"/content/drive/MyDrive/Colab Notebooks/final-project/experiments/bae_same_model/kinopoisk/0.5/checkpoints/1639600153065.ta.chkpt\" at 2021-12-15 20:29:13 after 50 attacks.\n"
          ]
        },
        {
          "output_type": "stream",
          "name": "stdout",
          "text": [
            "\n",
            "\n",
            "=============================================================================================================================\n",
            "=============================================================================================================================\n",
            "\n"
          ]
        },
        {
          "output_type": "stream",
          "name": "stderr",
          "text": [
            "[Succeeded / Failed / Skipped / Total] 58 / 37 / 5 / 100: 100%|██████████| 100/100 [54:54<00:00, 32.94s/it]textattack: Saving checkpoint under \"/content/drive/MyDrive/Colab Notebooks/final-project/experiments/bae_same_model/kinopoisk/0.5/checkpoints/1639601771198.ta.chkpt\" at 2021-12-15 20:56:11 after 100 attacks.\n",
            "[Succeeded / Failed / Skipped / Total] 58 / 37 / 5 / 100: 100%|██████████| 100/100 [54:54<00:00, 32.94s/it]"
          ]
        },
        {
          "output_type": "stream",
          "name": "stdout",
          "text": [
            "\n",
            "\n",
            "=============================================================================================================================\n",
            "=============================================================================================================================\n",
            "\n",
            "\n",
            "+-------------------------------+--------+\n",
            "| Attack Results                |        |\n",
            "+-------------------------------+--------+\n",
            "| Number of successful attacks: | 58     |\n",
            "| Number of failed attacks:     | 37     |\n",
            "| Number of skipped attacks:    | 5      |\n",
            "| Original accuracy:            | 95.0%  |\n",
            "| Accuracy under attack:        | 37.0%  |\n",
            "| Attack success rate:          | 61.05% |\n",
            "| Average perturbed word %:     | 5.37%  |\n",
            "| Average num. words per input: | 335.35 |\n",
            "| Avg num queries:              | 727.53 |\n",
            "+-------------------------------+--------+"
          ]
        },
        {
          "output_type": "stream",
          "name": "stderr",
          "text": [
            "\n"
          ]
        },
        {
          "output_type": "stream",
          "name": "stdout",
          "text": [
            "\n",
            "/content/drive/MyDrive/Colab Notebooks/final-project/experiments/bae_same_model/kinopoisk/0.6/\n"
          ]
        },
        {
          "output_type": "stream",
          "name": "stderr",
          "text": [
            "Some weights of the model checkpoint at cointegrated/rubert-tiny2 were not used when initializing BertForMaskedLM: ['cls.seq_relationship.weight', 'cls.seq_relationship.bias']\n",
            "- This IS expected if you are initializing BertForMaskedLM from the checkpoint of a model trained on another task or with another architecture (e.g. initializing a BertForSequenceClassification model from a BertForPreTraining model).\n",
            "- This IS NOT expected if you are initializing BertForMaskedLM from the checkpoint of a model that you expect to be exactly identical (initializing a BertForSequenceClassification model from a BertForSequenceClassification model).\n",
            "textattack: Unknown if model of class <class 'transformers.models.bert.modeling_bert.BertForSequenceClassification'> compatible with goal function <class 'textattack.goal_functions.classification.untargeted_classification.UntargetedClassification'>.\n",
            "textattack: Logging to CSV at path /content/drive/MyDrive/Colab Notebooks/final-project/experiments/bae_same_model/kinopoisk/0.6/log.csv\n"
          ]
        },
        {
          "output_type": "stream",
          "name": "stdout",
          "text": [
            "Attack(\n",
            "  (search_method): GreedyWordSwapWIR(\n",
            "    (wir_method):  delete\n",
            "  )\n",
            "  (goal_function):  UntargetedClassification\n",
            "  (transformation):  CompositeTransformation(\n",
            "    (0): WordSwapMaskedLM(\n",
            "        (method):  bae\n",
            "        (masked_lm_name):  BertForMaskedLM\n",
            "        (max_length):  312\n",
            "        (max_candidates):  20\n",
            "        (min_confidence):  0.0005\n",
            "      )\n",
            "    )\n",
            "  (constraints): \n",
            "    (0): PartOfSpeech(\n",
            "        (tagger_type):  nltk\n",
            "        (tagset):  universal\n",
            "        (allow_verb_noun_swap):  True\n",
            "        (compare_against_original):  True\n",
            "      )\n",
            "    (1): MultilingualUniversalSentenceEncoder(\n",
            "        (metric):  cosine\n",
            "        (threshold):  0.936338023\n",
            "        (window_size):  15\n",
            "        (skip_text_shorter_than_window):  True\n",
            "        (compare_against_original):  True\n",
            "      )\n",
            "    (2): RepeatModification\n",
            "    (3): StopwordModification\n",
            "    (4): MaxWordIndexModification(\n",
            "        (max_length):  312\n",
            "      )\n",
            "    (5): MaxModificationRate(\n",
            "        (max_rate):  0.6\n",
            "        (min_threshold):  1\n",
            "      )\n",
            "  (is_black_box):  True\n",
            ") \n",
            "\n"
          ]
        },
        {
          "output_type": "stream",
          "name": "stderr",
          "text": [
            "[Succeeded / Failed / Skipped / Total] 28 / 19 / 3 / 50:  50%|█████     | 50/100 [27:59<27:59, 33.60s/it]textattack: Saving checkpoint under \"/content/drive/MyDrive/Colab Notebooks/final-project/experiments/bae_same_model/kinopoisk/0.6/checkpoints/1639603455279.ta.chkpt\" at 2021-12-15 21:24:15 after 50 attacks.\n"
          ]
        },
        {
          "output_type": "stream",
          "name": "stdout",
          "text": [
            "\n",
            "\n",
            "=============================================================================================================================\n",
            "=============================================================================================================================\n",
            "\n"
          ]
        },
        {
          "output_type": "stream",
          "name": "stderr",
          "text": [
            "[Succeeded / Failed / Skipped / Total] 58 / 37 / 5 / 100: 100%|██████████| 100/100 [55:02<00:00, 33.02s/it]textattack: Saving checkpoint under \"/content/drive/MyDrive/Colab Notebooks/final-project/experiments/bae_same_model/kinopoisk/0.6/checkpoints/1639605077755.ta.chkpt\" at 2021-12-15 21:51:17 after 100 attacks.\n",
            "[Succeeded / Failed / Skipped / Total] 58 / 37 / 5 / 100: 100%|██████████| 100/100 [55:02<00:00, 33.02s/it]"
          ]
        },
        {
          "output_type": "stream",
          "name": "stdout",
          "text": [
            "\n",
            "\n",
            "=============================================================================================================================\n",
            "=============================================================================================================================\n",
            "\n",
            "\n",
            "+-------------------------------+--------+\n",
            "| Attack Results                |        |\n",
            "+-------------------------------+--------+\n",
            "| Number of successful attacks: | 58     |\n",
            "| Number of failed attacks:     | 37     |\n",
            "| Number of skipped attacks:    | 5      |\n",
            "| Original accuracy:            | 95.0%  |\n",
            "| Accuracy under attack:        | 37.0%  |\n",
            "| Attack success rate:          | 61.05% |\n",
            "| Average perturbed word %:     | 5.37%  |\n",
            "| Average num. words per input: | 335.35 |\n",
            "| Avg num queries:              | 727.53 |\n",
            "+-------------------------------+--------+"
          ]
        },
        {
          "output_type": "stream",
          "name": "stderr",
          "text": [
            "\n"
          ]
        },
        {
          "output_type": "stream",
          "name": "stdout",
          "text": [
            "\n",
            "/content/drive/MyDrive/Colab Notebooks/final-project/experiments/bae_same_model/kinopoisk/0.7000000000000001/\n"
          ]
        },
        {
          "output_type": "stream",
          "name": "stderr",
          "text": [
            "Some weights of the model checkpoint at cointegrated/rubert-tiny2 were not used when initializing BertForMaskedLM: ['cls.seq_relationship.weight', 'cls.seq_relationship.bias']\n",
            "- This IS expected if you are initializing BertForMaskedLM from the checkpoint of a model trained on another task or with another architecture (e.g. initializing a BertForSequenceClassification model from a BertForPreTraining model).\n",
            "- This IS NOT expected if you are initializing BertForMaskedLM from the checkpoint of a model that you expect to be exactly identical (initializing a BertForSequenceClassification model from a BertForSequenceClassification model).\n",
            "textattack: Unknown if model of class <class 'transformers.models.bert.modeling_bert.BertForSequenceClassification'> compatible with goal function <class 'textattack.goal_functions.classification.untargeted_classification.UntargetedClassification'>.\n",
            "textattack: Logging to CSV at path /content/drive/MyDrive/Colab Notebooks/final-project/experiments/bae_same_model/kinopoisk/0.7000000000000001/log.csv\n"
          ]
        },
        {
          "output_type": "stream",
          "name": "stdout",
          "text": [
            "Attack(\n",
            "  (search_method): GreedyWordSwapWIR(\n",
            "    (wir_method):  delete\n",
            "  )\n",
            "  (goal_function):  UntargetedClassification\n",
            "  (transformation):  CompositeTransformation(\n",
            "    (0): WordSwapMaskedLM(\n",
            "        (method):  bae\n",
            "        (masked_lm_name):  BertForMaskedLM\n",
            "        (max_length):  312\n",
            "        (max_candidates):  20\n",
            "        (min_confidence):  0.0005\n",
            "      )\n",
            "    )\n",
            "  (constraints): \n",
            "    (0): PartOfSpeech(\n",
            "        (tagger_type):  nltk\n",
            "        (tagset):  universal\n",
            "        (allow_verb_noun_swap):  True\n",
            "        (compare_against_original):  True\n",
            "      )\n",
            "    (1): MultilingualUniversalSentenceEncoder(\n",
            "        (metric):  cosine\n",
            "        (threshold):  0.936338023\n",
            "        (window_size):  15\n",
            "        (skip_text_shorter_than_window):  True\n",
            "        (compare_against_original):  True\n",
            "      )\n",
            "    (2): RepeatModification\n",
            "    (3): StopwordModification\n",
            "    (4): MaxWordIndexModification(\n",
            "        (max_length):  312\n",
            "      )\n",
            "    (5): MaxModificationRate(\n",
            "        (max_rate):  0.7000000000000001\n",
            "        (min_threshold):  1\n",
            "      )\n",
            "  (is_black_box):  True\n",
            ") \n",
            "\n"
          ]
        },
        {
          "output_type": "stream",
          "name": "stderr",
          "text": [
            "[Succeeded / Failed / Skipped / Total] 28 / 19 / 3 / 50:  50%|█████     | 50/100 [28:03<28:03, 33.68s/it]textattack: Saving checkpoint under \"/content/drive/MyDrive/Colab Notebooks/final-project/experiments/bae_same_model/kinopoisk/0.7000000000000001/checkpoints/1639606766004.ta.chkpt\" at 2021-12-15 22:19:26 after 50 attacks.\n"
          ]
        },
        {
          "output_type": "stream",
          "name": "stdout",
          "text": [
            "\n",
            "\n",
            "=============================================================================================================================\n",
            "=============================================================================================================================\n",
            "\n"
          ]
        },
        {
          "output_type": "stream",
          "name": "stderr",
          "text": [
            "[Succeeded / Failed / Skipped / Total] 58 / 37 / 5 / 100: 100%|██████████| 100/100 [55:10<00:00, 33.10s/it]textattack: Saving checkpoint under \"/content/drive/MyDrive/Colab Notebooks/final-project/experiments/bae_same_model/kinopoisk/0.7000000000000001/checkpoints/1639608392371.ta.chkpt\" at 2021-12-15 22:46:32 after 100 attacks.\n",
            "[Succeeded / Failed / Skipped / Total] 58 / 37 / 5 / 100: 100%|██████████| 100/100 [55:10<00:00, 33.10s/it]"
          ]
        },
        {
          "output_type": "stream",
          "name": "stdout",
          "text": [
            "\n",
            "\n",
            "=============================================================================================================================\n",
            "=============================================================================================================================\n",
            "\n",
            "\n",
            "+-------------------------------+--------+\n",
            "| Attack Results                |        |\n",
            "+-------------------------------+--------+\n",
            "| Number of successful attacks: | 58     |\n",
            "| Number of failed attacks:     | 37     |\n",
            "| Number of skipped attacks:    | 5      |\n",
            "| Original accuracy:            | 95.0%  |\n",
            "| Accuracy under attack:        | 37.0%  |\n",
            "| Attack success rate:          | 61.05% |\n",
            "| Average perturbed word %:     | 5.37%  |\n",
            "| Average num. words per input: | 335.35 |\n",
            "| Avg num queries:              | 727.53 |\n",
            "+-------------------------------+--------+"
          ]
        },
        {
          "output_type": "stream",
          "name": "stderr",
          "text": [
            "\n"
          ]
        },
        {
          "output_type": "stream",
          "name": "stdout",
          "text": [
            "\n",
            "/content/drive/MyDrive/Colab Notebooks/final-project/experiments/bae_same_model/kinopoisk/0.8/\n"
          ]
        },
        {
          "output_type": "stream",
          "name": "stderr",
          "text": [
            "Some weights of the model checkpoint at cointegrated/rubert-tiny2 were not used when initializing BertForMaskedLM: ['cls.seq_relationship.weight', 'cls.seq_relationship.bias']\n",
            "- This IS expected if you are initializing BertForMaskedLM from the checkpoint of a model trained on another task or with another architecture (e.g. initializing a BertForSequenceClassification model from a BertForPreTraining model).\n",
            "- This IS NOT expected if you are initializing BertForMaskedLM from the checkpoint of a model that you expect to be exactly identical (initializing a BertForSequenceClassification model from a BertForSequenceClassification model).\n",
            "textattack: Unknown if model of class <class 'transformers.models.bert.modeling_bert.BertForSequenceClassification'> compatible with goal function <class 'textattack.goal_functions.classification.untargeted_classification.UntargetedClassification'>.\n",
            "textattack: Logging to CSV at path /content/drive/MyDrive/Colab Notebooks/final-project/experiments/bae_same_model/kinopoisk/0.8/log.csv\n"
          ]
        },
        {
          "output_type": "stream",
          "name": "stdout",
          "text": [
            "Attack(\n",
            "  (search_method): GreedyWordSwapWIR(\n",
            "    (wir_method):  delete\n",
            "  )\n",
            "  (goal_function):  UntargetedClassification\n",
            "  (transformation):  CompositeTransformation(\n",
            "    (0): WordSwapMaskedLM(\n",
            "        (method):  bae\n",
            "        (masked_lm_name):  BertForMaskedLM\n",
            "        (max_length):  312\n",
            "        (max_candidates):  20\n",
            "        (min_confidence):  0.0005\n",
            "      )\n",
            "    )\n",
            "  (constraints): \n",
            "    (0): PartOfSpeech(\n",
            "        (tagger_type):  nltk\n",
            "        (tagset):  universal\n",
            "        (allow_verb_noun_swap):  True\n",
            "        (compare_against_original):  True\n",
            "      )\n",
            "    (1): MultilingualUniversalSentenceEncoder(\n",
            "        (metric):  cosine\n",
            "        (threshold):  0.936338023\n",
            "        (window_size):  15\n",
            "        (skip_text_shorter_than_window):  True\n",
            "        (compare_against_original):  True\n",
            "      )\n",
            "    (2): RepeatModification\n",
            "    (3): StopwordModification\n",
            "    (4): MaxWordIndexModification(\n",
            "        (max_length):  312\n",
            "      )\n",
            "    (5): MaxModificationRate(\n",
            "        (max_rate):  0.8\n",
            "        (min_threshold):  1\n",
            "      )\n",
            "  (is_black_box):  True\n",
            ") \n",
            "\n"
          ]
        },
        {
          "output_type": "stream",
          "name": "stderr",
          "text": [
            "[Succeeded / Failed / Skipped / Total] 28 / 19 / 3 / 50:  50%|█████     | 50/100 [28:00<28:00, 33.60s/it]textattack: Saving checkpoint under \"/content/drive/MyDrive/Colab Notebooks/final-project/experiments/bae_same_model/kinopoisk/0.8/checkpoints/1639610076811.ta.chkpt\" at 2021-12-15 23:14:36 after 50 attacks.\n"
          ]
        },
        {
          "output_type": "stream",
          "name": "stdout",
          "text": [
            "\n",
            "\n",
            "=============================================================================================================================\n",
            "=============================================================================================================================\n",
            "\n"
          ]
        },
        {
          "output_type": "stream",
          "name": "stderr",
          "text": [
            "[Succeeded / Failed / Skipped / Total] 58 / 37 / 5 / 100: 100%|██████████| 100/100 [55:05<00:00, 33.05s/it]textattack: Saving checkpoint under \"/content/drive/MyDrive/Colab Notebooks/final-project/experiments/bae_same_model/kinopoisk/0.8/checkpoints/1639611701824.ta.chkpt\" at 2021-12-15 23:41:41 after 100 attacks.\n",
            "[Succeeded / Failed / Skipped / Total] 58 / 37 / 5 / 100: 100%|██████████| 100/100 [55:05<00:00, 33.05s/it]"
          ]
        },
        {
          "output_type": "stream",
          "name": "stdout",
          "text": [
            "\n",
            "\n",
            "=============================================================================================================================\n",
            "=============================================================================================================================\n",
            "\n",
            "\n",
            "+-------------------------------+--------+\n",
            "| Attack Results                |        |\n",
            "+-------------------------------+--------+\n",
            "| Number of successful attacks: | 58     |\n",
            "| Number of failed attacks:     | 37     |\n",
            "| Number of skipped attacks:    | 5      |\n",
            "| Original accuracy:            | 95.0%  |\n",
            "| Accuracy under attack:        | 37.0%  |\n",
            "| Attack success rate:          | 61.05% |\n",
            "| Average perturbed word %:     | 5.37%  |\n",
            "| Average num. words per input: | 335.35 |\n",
            "| Avg num queries:              | 727.53 |\n",
            "+-------------------------------+--------+"
          ]
        },
        {
          "output_type": "stream",
          "name": "stderr",
          "text": [
            "\n"
          ]
        },
        {
          "output_type": "stream",
          "name": "stdout",
          "text": [
            "\n",
            "/content/drive/MyDrive/Colab Notebooks/final-project/experiments/bae_same_model/kinopoisk/0.9/\n"
          ]
        },
        {
          "output_type": "stream",
          "name": "stderr",
          "text": [
            "Some weights of the model checkpoint at cointegrated/rubert-tiny2 were not used when initializing BertForMaskedLM: ['cls.seq_relationship.weight', 'cls.seq_relationship.bias']\n",
            "- This IS expected if you are initializing BertForMaskedLM from the checkpoint of a model trained on another task or with another architecture (e.g. initializing a BertForSequenceClassification model from a BertForPreTraining model).\n",
            "- This IS NOT expected if you are initializing BertForMaskedLM from the checkpoint of a model that you expect to be exactly identical (initializing a BertForSequenceClassification model from a BertForSequenceClassification model).\n",
            "textattack: Unknown if model of class <class 'transformers.models.bert.modeling_bert.BertForSequenceClassification'> compatible with goal function <class 'textattack.goal_functions.classification.untargeted_classification.UntargetedClassification'>.\n",
            "textattack: Logging to CSV at path /content/drive/MyDrive/Colab Notebooks/final-project/experiments/bae_same_model/kinopoisk/0.9/log.csv\n"
          ]
        },
        {
          "output_type": "stream",
          "name": "stdout",
          "text": [
            "Attack(\n",
            "  (search_method): GreedyWordSwapWIR(\n",
            "    (wir_method):  delete\n",
            "  )\n",
            "  (goal_function):  UntargetedClassification\n",
            "  (transformation):  CompositeTransformation(\n",
            "    (0): WordSwapMaskedLM(\n",
            "        (method):  bae\n",
            "        (masked_lm_name):  BertForMaskedLM\n",
            "        (max_length):  312\n",
            "        (max_candidates):  20\n",
            "        (min_confidence):  0.0005\n",
            "      )\n",
            "    )\n",
            "  (constraints): \n",
            "    (0): PartOfSpeech(\n",
            "        (tagger_type):  nltk\n",
            "        (tagset):  universal\n",
            "        (allow_verb_noun_swap):  True\n",
            "        (compare_against_original):  True\n",
            "      )\n",
            "    (1): MultilingualUniversalSentenceEncoder(\n",
            "        (metric):  cosine\n",
            "        (threshold):  0.936338023\n",
            "        (window_size):  15\n",
            "        (skip_text_shorter_than_window):  True\n",
            "        (compare_against_original):  True\n",
            "      )\n",
            "    (2): RepeatModification\n",
            "    (3): StopwordModification\n",
            "    (4): MaxWordIndexModification(\n",
            "        (max_length):  312\n",
            "      )\n",
            "    (5): MaxModificationRate(\n",
            "        (max_rate):  0.9\n",
            "        (min_threshold):  1\n",
            "      )\n",
            "  (is_black_box):  True\n",
            ") \n",
            "\n"
          ]
        },
        {
          "output_type": "stream",
          "name": "stderr",
          "text": [
            "[Succeeded / Failed / Skipped / Total] 28 / 19 / 3 / 50:  50%|█████     | 50/100 [27:55<27:55, 33.51s/it]textattack: Saving checkpoint under \"/content/drive/MyDrive/Colab Notebooks/final-project/experiments/bae_same_model/kinopoisk/0.9/checkpoints/1639613381703.ta.chkpt\" at 2021-12-16 00:09:41 after 50 attacks.\n"
          ]
        },
        {
          "output_type": "stream",
          "name": "stdout",
          "text": [
            "\n",
            "\n",
            "=============================================================================================================================\n",
            "=============================================================================================================================\n",
            "\n"
          ]
        },
        {
          "output_type": "stream",
          "name": "stderr",
          "text": [
            "[Succeeded / Failed / Skipped / Total] 58 / 37 / 5 / 100: 100%|██████████| 100/100 [54:52<00:00, 32.93s/it]textattack: Saving checkpoint under \"/content/drive/MyDrive/Colab Notebooks/final-project/experiments/bae_same_model/kinopoisk/0.9/checkpoints/1639614999080.ta.chkpt\" at 2021-12-16 00:36:39 after 100 attacks.\n",
            "[Succeeded / Failed / Skipped / Total] 58 / 37 / 5 / 100: 100%|██████████| 100/100 [54:52<00:00, 32.93s/it]"
          ]
        },
        {
          "output_type": "stream",
          "name": "stdout",
          "text": [
            "\n",
            "\n",
            "=============================================================================================================================\n",
            "=============================================================================================================================\n",
            "\n",
            "\n",
            "+-------------------------------+--------+\n",
            "| Attack Results                |        |\n",
            "+-------------------------------+--------+\n",
            "| Number of successful attacks: | 58     |\n",
            "| Number of failed attacks:     | 37     |\n",
            "| Number of skipped attacks:    | 5      |\n",
            "| Original accuracy:            | 95.0%  |\n",
            "| Accuracy under attack:        | 37.0%  |\n",
            "| Attack success rate:          | 61.05% |\n",
            "| Average perturbed word %:     | 5.37%  |\n",
            "| Average num. words per input: | 335.35 |\n",
            "| Avg num queries:              | 727.53 |\n",
            "+-------------------------------+--------+\n"
          ]
        },
        {
          "output_type": "stream",
          "name": "stderr",
          "text": [
            "\n"
          ]
        }
      ]
    },
    {
      "cell_type": "code",
      "source": [
        ""
      ],
      "metadata": {
        "id": "LnzGiWBgQuTd"
      },
      "execution_count": 9,
      "outputs": []
    },
    {
      "cell_type": "code",
      "source": [
        ""
      ],
      "metadata": {
        "id": "TqDFU-vTQuRZ"
      },
      "execution_count": 9,
      "outputs": []
    },
    {
      "cell_type": "code",
      "source": [
        ""
      ],
      "metadata": {
        "id": "cy_4wlxhQuNM"
      },
      "execution_count": 9,
      "outputs": []
    },
    {
      "cell_type": "code",
      "source": [
        ""
      ],
      "metadata": {
        "id": "6d0s3BU8QuKm"
      },
      "execution_count": 9,
      "outputs": []
    },
    {
      "cell_type": "code",
      "source": [
        ""
      ],
      "metadata": {
        "id": "aUaSKCWnQuFq"
      },
      "execution_count": 9,
      "outputs": []
    },
    {
      "cell_type": "code",
      "source": [
        ""
      ],
      "metadata": {
        "id": "DG2979zQQt5n"
      },
      "execution_count": 9,
      "outputs": []
    }
  ]
}